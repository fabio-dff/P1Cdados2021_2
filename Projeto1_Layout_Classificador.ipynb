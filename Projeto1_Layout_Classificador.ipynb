{
 "cells": [
  {
   "cell_type": "markdown",
   "metadata": {},
   "source": [
    "# Projeto 1 - Ciência dos Dados"
   ]
  },
  {
   "cell_type": "markdown",
   "metadata": {},
   "source": [
    "### Alunos, digo, contratados da Apple :)"
   ]
  },
  {
   "cell_type": "markdown",
   "metadata": {},
   "source": [
    "Nome: Fabio Dotoli Ferreira Filho\n",
    "\n",
    "Nome: Livia Brigido do Nascimento"
   ]
  },
  {
   "cell_type": "markdown",
   "metadata": {},
   "source": [
    "Atenção: Serão permitidos grupos de três pessoas, mas com uma rubrica mais exigente. Grupos deste tamanho precisarão fazer um questionário de avaliação de trabalho em equipe"
   ]
  },
  {
   "cell_type": "markdown",
   "metadata": {},
   "source": [
    "# INTRODUÇÃO:"
   ]
  },
  {
   "cell_type": "markdown",
   "metadata": {},
   "source": [
    "#### Enunciado do projeto proposto: Você foi contratado por uma empresa para analisar como os clientes estão reagindo a umdeterminado produto no Twitter. A empresa deseja que você: crie um programa que selecionealgumas mensagens disponíveis no Twitter, as quais mencionam esse particular produto; e classifique esses tweets como \"relevante\" ou \"irrelevante\", pelo menos."
   ]
  },
  {
   "cell_type": "markdown",
   "metadata": {},
   "source": [
    "##### Os objetivos principais foram:\n",
    "- Ter a primeira base de treinamento para o programa, ou seja, classificar à mão para servir de \"exemplo\" para a máquina;\n",
    "- Juntamente à isso ter uma base de teste para colocar em prática o programa. Junto à ela uma classificação também feita à mão para fins de comparação;\n",
    "- Limpar os dados da maneira que mais se encaixava com o nosso objetivo (Como por exemplo não apagar os emojis, mas considerá-los colocando espaços entre eles e as palavras;\n",
    "- Enxergar a problemática que um termo exclusivo poderia trazer e, desse modo, adicionar a suavização (Laplace);\n",
    "- Analisar as probabilidades de ser relevante ou não cada tweet;\n",
    "- Finalizar com observações gerais sobre a atividade proposta."
   ]
  },
  {
   "cell_type": "markdown",
   "metadata": {},
   "source": [
    "___\n",
    "Carregando algumas bibliotecas:"
   ]
  },
  {
   "cell_type": "code",
   "execution_count": 56,
   "metadata": {},
   "outputs": [],
   "source": [
    "%matplotlib inline\n",
    "import pandas as pd\n",
    "import matplotlib.pyplot as plt\n",
    "import numpy as np\n",
    "import os\n",
    "from emoji import UNICODE_EMOJI  #Essa serve para quê mesmo?\n",
    "import re #utilizaremos para limpar o texto ('replace')\n",
    "import nltk\n",
    "from nltk.corpus import stopwords\n",
    "from sklearn.model_selection import train_test_split"
   ]
  },
  {
   "cell_type": "code",
   "execution_count": 57,
   "metadata": {
    "scrolled": false
   },
   "outputs": [
    {
     "name": "stdout",
     "output_type": "stream",
     "text": [
      "Esperamos trabalhar no diretório\n",
      "C:\\Users\\liviabn\\Documents\\Cdados- Projetos\\PROJETO1_Cdados\\P1Cdados2021_2\n"
     ]
    }
   ],
   "source": [
    "print('Esperamos trabalhar no diretório')\n",
    "print(os.getcwd())"
   ]
  },
  {
   "cell_type": "markdown",
   "metadata": {},
   "source": [
    "Carregando a base de dados com os tweets classificados como relevantes e não relevantes:"
   ]
  },
  {
   "cell_type": "code",
   "execution_count": 58,
   "metadata": {},
   "outputs": [],
   "source": [
    "filename = 'Airpods.xlsx'\n"
   ]
  },
  {
   "cell_type": "code",
   "execution_count": 59,
   "metadata": {},
   "outputs": [
    {
     "data": {
      "text/html": [
       "<div>\n",
       "<style scoped>\n",
       "    .dataframe tbody tr th:only-of-type {\n",
       "        vertical-align: middle;\n",
       "    }\n",
       "\n",
       "    .dataframe tbody tr th {\n",
       "        vertical-align: top;\n",
       "    }\n",
       "\n",
       "    .dataframe thead th {\n",
       "        text-align: right;\n",
       "    }\n",
       "</style>\n",
       "<table border=\"1\" class=\"dataframe\">\n",
       "  <thead>\n",
       "    <tr style=\"text-align: right;\">\n",
       "      <th></th>\n",
       "      <th>Treinamento</th>\n",
       "      <th>Classificacao_Treino</th>\n",
       "    </tr>\n",
       "  </thead>\n",
       "  <tbody>\n",
       "    <tr>\n",
       "      <th>0</th>\n",
       "      <td>alguem me da um apple watch 😭😭😭😭 um macbook pr...</td>\n",
       "      <td>0</td>\n",
       "    </tr>\n",
       "    <tr>\n",
       "      <th>1</th>\n",
       "      <td>@hschmaiske @matheus1lva airpods pro é bom? é....</td>\n",
       "      <td>1</td>\n",
       "    </tr>\n",
       "    <tr>\n",
       "      <th>2</th>\n",
       "      <td>mais uns airpods estragados… que sorte 🤦🏻‍♂️</td>\n",
       "      <td>1</td>\n",
       "    </tr>\n",
       "    <tr>\n",
       "      <th>3</th>\n",
       "      <td>@annaeso @masbahnana isso eu sei, mas nem espe...</td>\n",
       "      <td>0</td>\n",
       "    </tr>\n",
       "    <tr>\n",
       "      <th>4</th>\n",
       "      <td>sonhando com o dia que vou achar airpods por m...</td>\n",
       "      <td>1</td>\n",
       "    </tr>\n",
       "  </tbody>\n",
       "</table>\n",
       "</div>"
      ],
      "text/plain": [
       "                                         Treinamento  Classificacao_Treino\n",
       "0  alguem me da um apple watch 😭😭😭😭 um macbook pr...                     0\n",
       "1  @hschmaiske @matheus1lva airpods pro é bom? é....                     1\n",
       "2       mais uns airpods estragados… que sorte 🤦🏻‍♂️                     1\n",
       "3  @annaeso @masbahnana isso eu sei, mas nem espe...                     0\n",
       "4  sonhando com o dia que vou achar airpods por m...                     1"
      ]
     },
     "execution_count": 59,
     "metadata": {},
     "output_type": "execute_result"
    }
   ],
   "source": [
    "#A de treinamento (A que será responsável pela ação de \"ensinar\" a máquina o que é ou não é relevante)\n",
    "\n",
    "train = pd.read_excel(filename, sheet_name = 'Treinamento')\n",
    "train.head(5)"
   ]
  },
  {
   "cell_type": "code",
   "execution_count": 60,
   "metadata": {},
   "outputs": [
    {
     "data": {
      "text/plain": [
       "0    0.633333\n",
       "1    0.366667\n",
       "Name: Classificacao_Treino, dtype: float64"
      ]
     },
     "execution_count": 60,
     "metadata": {},
     "output_type": "execute_result"
    }
   ],
   "source": [
    "#Observando a quantidade relativa das duas classificações:\n",
    "\n",
    "train.Classificacao_Treino.value_counts(True) #Precisamos equilibrar um pouco mais esses dados:"
   ]
  },
  {
   "cell_type": "code",
   "execution_count": 61,
   "metadata": {},
   "outputs": [
    {
     "data": {
      "text/html": [
       "<div>\n",
       "<style scoped>\n",
       "    .dataframe tbody tr th:only-of-type {\n",
       "        vertical-align: middle;\n",
       "    }\n",
       "\n",
       "    .dataframe tbody tr th {\n",
       "        vertical-align: top;\n",
       "    }\n",
       "\n",
       "    .dataframe thead th {\n",
       "        text-align: right;\n",
       "    }\n",
       "</style>\n",
       "<table border=\"1\" class=\"dataframe\">\n",
       "  <thead>\n",
       "    <tr style=\"text-align: right;\">\n",
       "      <th></th>\n",
       "      <th>Teste</th>\n",
       "      <th>Classificacao_Teste</th>\n",
       "    </tr>\n",
       "  </thead>\n",
       "  <tbody>\n",
       "    <tr>\n",
       "      <th>0</th>\n",
       "      <td>favela venceu, o pai lançou um airpods monstro...</td>\n",
       "      <td>0</td>\n",
       "    </tr>\n",
       "    <tr>\n",
       "      <th>1</th>\n",
       "      <td>[weverse]\\n\\n“namjoon oppa, se eles lançarem a...</td>\n",
       "      <td>0</td>\n",
       "    </tr>\n",
       "    <tr>\n",
       "      <th>2</th>\n",
       "      <td>@priboechat comprei um fone tipo airpods e amei</td>\n",
       "      <td>0</td>\n",
       "    </tr>\n",
       "    <tr>\n",
       "      <th>3</th>\n",
       "      <td>@_army_brasileira_7 \\n _army_brasileira_7 \\n\\n...</td>\n",
       "      <td>0</td>\n",
       "    </tr>\n",
       "    <tr>\n",
       "      <th>4</th>\n",
       "      <td>@abelardo_moura ainda bem que foi o de fio, po...</td>\n",
       "      <td>0</td>\n",
       "    </tr>\n",
       "  </tbody>\n",
       "</table>\n",
       "</div>"
      ],
      "text/plain": [
       "                                               Teste  Classificacao_Teste\n",
       "0  favela venceu, o pai lançou um airpods monstro...                    0\n",
       "1  [weverse]\\n\\n“namjoon oppa, se eles lançarem a...                    0\n",
       "2    @priboechat comprei um fone tipo airpods e amei                    0\n",
       "3  @_army_brasileira_7 \\n _army_brasileira_7 \\n\\n...                    0\n",
       "4  @abelardo_moura ainda bem que foi o de fio, po...                    0"
      ]
     },
     "execution_count": 61,
     "metadata": {},
     "output_type": "execute_result"
    }
   ],
   "source": [
    "#A de teste (Com a classficação que fizemos apenas para comparar com a futura ação da máquina)\n",
    "\n",
    "test = pd.read_excel(filename, sheet_name = 'Teste')\n",
    "test.head(5)"
   ]
  },
  {
   "cell_type": "code",
   "execution_count": 62,
   "metadata": {},
   "outputs": [
    {
     "data": {
      "text/plain": [
       "0    0.713333\n",
       "1    0.286667\n",
       "Name: Classificacao_Teste, dtype: float64"
      ]
     },
     "execution_count": 62,
     "metadata": {},
     "output_type": "execute_result"
    }
   ],
   "source": [
    "#Observando a quantidade relativa das duas classificações:\n",
    "\n",
    "test.Classificacao_Teste.value_counts(True)"
   ]
  },
  {
   "cell_type": "markdown",
   "metadata": {},
   "source": [
    "___\n",
    "## Classificador automático de sentimento\n"
   ]
  },
  {
   "cell_type": "markdown",
   "metadata": {},
   "source": [
    "### Produto escolhido\n",
    "* Os Airpods, lançamento da Apple no ano de 2016, são pequenos fones com conexão via bluetooth, que vêm acompanhados do estojo (usado para recarregá-los) e de um cabo lightning (carregador).\n",
    "\n",
    "* Os tweets considerados relevantes foram aqueles que citavam alguma caracteristica relacionada ao produto escolhido, como por exemplo a durabilidade, a facilidade em perder os fones, preço e críticas/elogios aos Airpods como um todo.\n",
    "\n",
    "* Os tweets irrelevantes, por sua vez, são aqueles que citam o produto, porém de uma forma que não é possivel extrair um feedback significativo sobre satisfação ou qualidades (positivas ou negativas) como, por exemplo, uma frase citando alguns itens aleatórios (dentre eles, os Airpods)."
   ]
  },
  {
   "cell_type": "markdown",
   "metadata": {},
   "source": [
    "___\n",
    "### Montando um Classificador Naive-Bayes\n",
    "\n",
    "Considerando apenas as mensagens da planilha Treinamento, ensine  seu classificador."
   ]
  },
  {
   "cell_type": "code",
   "execution_count": 63,
   "metadata": {},
   "outputs": [],
   "source": [
    "#Montando a função de limpeza principal e para a limpeza de palavras mais específicas** (cleanup)\n",
    "\n",
    "def cleanup_emoji(emoji1):\n",
    "    return emoji1 in UNICODE_EMOJI\n",
    "\n",
    "def cleanup(text):\n",
    "    \"\"\"\n",
    "        Função de limpeza muito simples que troca alguns sinais básicos por espaços\n",
    "    \"\"\"\n",
    "    #import string\n",
    "    punctuation = '[\"\\/!-.:?;\"]' # Note que os sinais [] são delimitadores de um conjunto.\n",
    "    pattern = re.compile(punctuation)\n",
    "    text_subbed = re.sub(pattern, '', text) #substitui o primeiro argumento pelo segundo, e o terceiro argumento é onde será aplicada a substituição\n",
    "    text_subbed = re.sub('\\n', ' ', text_subbed) #retirando o enter (pular para a próxima linha)\n",
    "    text_subbed = ''.join(' ' + char + ' ' if cleanup_emoji(char) else char for char in text_subbed).strip()\n",
    "\n",
    "    \n",
    "    padrao = r'https\\w+'\n",
    "    pattern2 = re.compile(padrao)\n",
    "    text_subbed2 = re.sub(pattern2, '', text_subbed)\n",
    "    \n",
    "    return text_subbed2.lower()\n",
    "\n",
    "\n",
    "def cleanup_links(text):\n",
    "    \n",
    "    padrao1 = r'@\\w+' #remove o símbolo ou escrita e as letras após ele\n",
    "    pattern1 = re.compile(padrao1)\n",
    "    text_subbed = re.sub(pattern1, '', text)  \n",
    "    \n",
    "    padrao3 = r'#\\w+'\n",
    "    pattern3 = re.compile(padrao3)\n",
    "    text_subbed3 = re.sub(pattern3, '', text_subbed)\n",
    "    \n",
    "    padrao4 = r'&\\w+'\n",
    "    pattern4 = re.compile(padrao4)\n",
    "    text_subbed4 = re.sub(pattern4, '', text_subbed3)\n",
    "    \n",
    "    padrao5 = r'_\\w+'\n",
    "    pattern5 = re.compile(padrao5)\n",
    "    text_subbed5 = re.sub(pattern5, '', text_subbed4)\n",
    "    \n",
    "    \n",
    "    \n",
    "    return text_subbed5\n",
    "\n",
    "\n",
    "\n",
    "def stopwords_funcao(texto):\n",
    "    stop_words = (nltk.corpus.stopwords.words('portuguese'))\n",
    "    \n",
    "    stopwords_lista = []\n",
    "    \n",
    "    for palavras in texto:\n",
    "        if palavras not in stop_words: \n",
    "            stopwords_lista.append(palavras)\n",
    "    \n",
    "    return stopwords_lista"
   ]
  },
  {
   "cell_type": "markdown",
   "metadata": {},
   "source": [
    "##### Limpando e realizando o split nos tweets relevantes:"
   ]
  },
  {
   "cell_type": "code",
   "execution_count": 64,
   "metadata": {},
   "outputs": [],
   "source": [
    "#já foi dividido em rel. e irrel. pois depois não será possivel dividir por ser um df de apenas uma coluna \n",
    "train_relevantes_clean = train.loc[train[\"Classificacao_Treino\"] == 1, 'Treinamento'].apply(cleanup_links).apply(cleanup)\n"
   ]
  },
  {
   "cell_type": "code",
   "execution_count": 65,
   "metadata": {},
   "outputs": [],
   "source": [
    "train_relevantes_lower = train_relevantes_clean.str.lower() #por que usar o .str ao inves de uma variavel-- Não quero trabalhar no dataset,mas em cada linha.\n",
    "train_relevantes = train_relevantes_lower.str.split()\n",
    "train_relevantes_clean = train_relevantes.apply(stopwords_funcao)"
   ]
  },
  {
   "cell_type": "code",
   "execution_count": 66,
   "metadata": {},
   "outputs": [
    {
     "data": {
      "text/plain": [
       "pandas.core.series.Series"
      ]
     },
     "execution_count": 66,
     "metadata": {},
     "output_type": "execute_result"
    }
   ],
   "source": [
    "type(train_relevantes_clean)"
   ]
  },
  {
   "cell_type": "code",
   "execution_count": 67,
   "metadata": {},
   "outputs": [],
   "source": [
    "train_relevantes_l = []  #criando uma lista para englobar todas as outras listas criadas com o .split\n",
    "\n",
    "for palavras in train_relevantes_clean:\n",
    "    train_relevantes_l += palavras\n",
    "serie_train_relevantes = pd.Series(train_relevantes_l)"
   ]
  },
  {
   "cell_type": "code",
   "execution_count": 68,
   "metadata": {},
   "outputs": [],
   "source": [
    "serie_train_relevantes_absoluta = serie_train_relevantes.value_counts()"
   ]
  },
  {
   "cell_type": "markdown",
   "metadata": {},
   "source": [
    "##### Limpando e realizando o split nos tweets irrelevantes:"
   ]
  },
  {
   "cell_type": "code",
   "execution_count": 69,
   "metadata": {},
   "outputs": [],
   "source": [
    "train_irrelevantes_clean = train.loc[train[\"Classificacao_Treino\"] == 0, 'Treinamento'].apply(cleanup_links).apply(cleanup)\n"
   ]
  },
  {
   "cell_type": "code",
   "execution_count": 70,
   "metadata": {},
   "outputs": [],
   "source": [
    "train_irrelevantes_lower = train_irrelevantes_clean.str.lower() \n",
    "train_irrelevantes = train_irrelevantes_lower.str.split()\n",
    "train_irrelevantes_clean = train_irrelevantes.apply(stopwords_funcao)"
   ]
  },
  {
   "cell_type": "code",
   "execution_count": 71,
   "metadata": {},
   "outputs": [
    {
     "data": {
      "text/plain": [
       "pandas.core.series.Series"
      ]
     },
     "execution_count": 71,
     "metadata": {},
     "output_type": "execute_result"
    }
   ],
   "source": [
    "type(train_irrelevantes_clean)\n"
   ]
  },
  {
   "cell_type": "code",
   "execution_count": 72,
   "metadata": {},
   "outputs": [],
   "source": [
    "train_irrelevantes_l = []  #criando uma lista para englobar todas as outras listas criadas com o .split\n",
    "\n",
    "for palavras in train_irrelevantes_clean:\n",
    "    train_irrelevantes_l += palavras\n",
    "serie_train_irrelevantes = pd.Series(train_irrelevantes_l)"
   ]
  },
  {
   "cell_type": "code",
   "execution_count": 73,
   "metadata": {},
   "outputs": [],
   "source": [
    "serie_train_irrelevantes_absoluta = serie_train_irrelevantes.value_counts()"
   ]
  },
  {
   "cell_type": "code",
   "execution_count": 74,
   "metadata": {},
   "outputs": [],
   "source": [
    "test[\"Teste\"] = test[\"Teste\"].apply(cleanup_links).apply(cleanup) #atualizar dataframe"
   ]
  },
  {
   "cell_type": "code",
   "execution_count": 75,
   "metadata": {},
   "outputs": [],
   "source": [
    "train[\"Treinamento\"]= train[\"Treinamento\"].apply(cleanup_links).apply(cleanup)"
   ]
  },
  {
   "cell_type": "markdown",
   "metadata": {},
   "source": [
    "### Implementando a suavização de Laplace :\n"
   ]
  },
  {
   "cell_type": "code",
   "execution_count": 76,
   "metadata": {},
   "outputs": [
    {
     "data": {
      "text/plain": [
       "1589"
      ]
     },
     "execution_count": 76,
     "metadata": {},
     "output_type": "execute_result"
    }
   ],
   "source": [
    "train_tamanho_irrelevantes = len(serie_train_irrelevantes_absoluta)\n",
    "train_tamanho_irrelevantes"
   ]
  },
  {
   "cell_type": "code",
   "execution_count": 77,
   "metadata": {},
   "outputs": [
    {
     "data": {
      "text/plain": [
       "1061"
      ]
     },
     "execution_count": 77,
     "metadata": {},
     "output_type": "execute_result"
    }
   ],
   "source": [
    "train_tamanho_relevantes = len(serie_train_relevantes_absoluta)\n",
    "train_tamanho_relevantes"
   ]
  },
  {
   "cell_type": "code",
   "execution_count": 78,
   "metadata": {},
   "outputs": [],
   "source": [
    "Dimensao = train_tamanho_irrelevantes + train_tamanho_relevantes\n",
    "D= Dimensao #Dimensão do nosso \"universo\" de palavras e emojis."
   ]
  },
  {
   "cell_type": "code",
   "execution_count": 79,
   "metadata": {},
   "outputs": [
    {
     "data": {
      "text/plain": [
       "2153"
      ]
     },
     "execution_count": 79,
     "metadata": {},
     "output_type": "execute_result"
    }
   ],
   "source": [
    "#Quantidade total de palavras em relevantes:\n",
    "Nr= len(train_relevantes_l)\n",
    "Nr"
   ]
  },
  {
   "cell_type": "code",
   "execution_count": 80,
   "metadata": {},
   "outputs": [
    {
     "data": {
      "text/plain": [
       "4077"
      ]
     },
     "execution_count": 80,
     "metadata": {},
     "output_type": "execute_result"
    }
   ],
   "source": [
    "#Quantidade total de palavras em irrelevantes:\n",
    "Ni= len(train_irrelevantes_l)\n",
    "Ni"
   ]
  },
  {
   "cell_type": "markdown",
   "metadata": {},
   "source": [
    "##### Explicação das três variáveis criadas:"
   ]
  },
  {
   "attachments": {
    "IMG1.png": {
     "image/png": "[encoded data removed]"
    }
   },
   "cell_type": "markdown",
   "metadata": {},
   "source": [
    "![IMG1.png](attachment:IMG1.png)"
   ]
  },
  {
   "cell_type": "markdown",
   "metadata": {},
   "source": [
    "___\n",
    "### Verificando a performance do Classificador\n",
    "\n",
    "Agora você deve testar o seu classificador com a base de Testes."
   ]
  },
  {
   "cell_type": "code",
   "execution_count": 81,
   "metadata": {},
   "outputs": [],
   "source": [
    "#Função que será executada com \"apply\":\n",
    "def classificador_suavizado(tweet):\n",
    "    prob_relevante=1\n",
    "    prob_irrelevante=1\n",
    "    alpha= 1\n",
    "    lista_palavras = tweet.split()\n",
    "    for palavra in lista_palavras:\n",
    "        \n",
    "        #Como vimos que, quando o termo não existia na lista, dava erro pois não se igualava à zero automaticamente:\n",
    "        if palavra not in train_relevantes_l:\n",
    "            serie_train_relevantes_absoluta[palavra]=0\n",
    "        \n",
    "        elif palavra not in train_irrelevantes_l:\n",
    "            serie_train_irrelevantes_absoluta[palavra]=0\n",
    "            \n",
    "        if palavra in train_relevantes_l and palavra in train_irrelevantes_l:\n",
    "            prob_relevante*= (serie_train_relevantes_absoluta[palavra]+1)/ (Nr+D)\n",
    "            prob_irrelevante*= (serie_train_irrelevantes_absoluta[palavra]+1)/ (Ni+D)\n",
    "        \n",
    "    #Em vez do que está abaixo, acrescentar em uma coluna nova a classficação feita pela maquina (Para comparar posteriormente com a nossa feita à mão)\n",
    "    if prob_relevante>prob_irrelevante:\n",
    "        return 1\n",
    "    else:\n",
    "        return 0"
   ]
  },
  {
   "cell_type": "code",
   "execution_count": 82,
   "metadata": {},
   "outputs": [],
   "source": [
    "test[\"classificacao_modelo\"]= test[\"Teste\"].apply(classificador_suavizado)\n"
   ]
  },
  {
   "cell_type": "code",
   "execution_count": 83,
   "metadata": {},
   "outputs": [
    {
     "data": {
      "text/plain": [
       "0    0.663333\n",
       "1    0.336667\n",
       "Name: classificacao_modelo, dtype: float64"
      ]
     },
     "execution_count": 83,
     "metadata": {},
     "output_type": "execute_result"
    }
   ],
   "source": [
    "test[\"classificacao_modelo\"].value_counts(True)\n"
   ]
  },
  {
   "cell_type": "code",
   "execution_count": 84,
   "metadata": {},
   "outputs": [
    {
     "data": {
      "text/html": [
       "<div>\n",
       "<style scoped>\n",
       "    .dataframe tbody tr th:only-of-type {\n",
       "        vertical-align: middle;\n",
       "    }\n",
       "\n",
       "    .dataframe tbody tr th {\n",
       "        vertical-align: top;\n",
       "    }\n",
       "\n",
       "    .dataframe thead th {\n",
       "        text-align: right;\n",
       "    }\n",
       "</style>\n",
       "<table border=\"1\" class=\"dataframe\">\n",
       "  <thead>\n",
       "    <tr style=\"text-align: right;\">\n",
       "      <th></th>\n",
       "      <th>Teste</th>\n",
       "      <th>Classificacao_Teste</th>\n",
       "      <th>classificacao_modelo</th>\n",
       "    </tr>\n",
       "  </thead>\n",
       "  <tbody>\n",
       "    <tr>\n",
       "      <th>0</th>\n",
       "      <td>favela venceu o pai lançou um airpods monstro</td>\n",
       "      <td>0</td>\n",
       "      <td>0</td>\n",
       "    </tr>\n",
       "    <tr>\n",
       "      <th>1</th>\n",
       "      <td>[weverse]  “namjoon oppa se eles lançarem airp...</td>\n",
       "      <td>0</td>\n",
       "      <td>0</td>\n",
       "    </tr>\n",
       "    <tr>\n",
       "      <th>2</th>\n",
       "      <td>comprei um fone tipo airpods e amei</td>\n",
       "      <td>0</td>\n",
       "      <td>1</td>\n",
       "    </tr>\n",
       "    <tr>\n",
       "      <th>3</th>\n",
       "      <td>army  se você sair do airpods 3você não vive  ...</td>\n",
       "      <td>0</td>\n",
       "      <td>0</td>\n",
       "    </tr>\n",
       "    <tr>\n",
       "      <th>4</th>\n",
       "      <td>ainda bem que foi o de fio porque se fosse os ...</td>\n",
       "      <td>0</td>\n",
       "      <td>0</td>\n",
       "    </tr>\n",
       "    <tr>\n",
       "      <th>...</th>\n",
       "      <td>...</td>\n",
       "      <td>...</td>\n",
       "      <td>...</td>\n",
       "    </tr>\n",
       "    <tr>\n",
       "      <th>295</th>\n",
       "      <td>vou querer um macbook um ipad um airpods um ap...</td>\n",
       "      <td>0</td>\n",
       "      <td>0</td>\n",
       "    </tr>\n",
       "    <tr>\n",
       "      <th>296</th>\n",
       "      <td>meu airpods até caiu da orelha</td>\n",
       "      <td>0</td>\n",
       "      <td>1</td>\n",
       "    </tr>\n",
       "    <tr>\n",
       "      <th>297</th>\n",
       "      <td>anonymous vazem o número do cartão do bolsonar...</td>\n",
       "      <td>0</td>\n",
       "      <td>0</td>\n",
       "    </tr>\n",
       "    <tr>\n",
       "      <th>298</th>\n",
       "      <td>meus airpods tão com o volume baixo</td>\n",
       "      <td>1</td>\n",
       "      <td>0</td>\n",
       "    </tr>\n",
       "    <tr>\n",
       "      <th>299</th>\n",
       "      <td>sorte que comprei airpods pro de r1990 no shop...</td>\n",
       "      <td>0</td>\n",
       "      <td>0</td>\n",
       "    </tr>\n",
       "  </tbody>\n",
       "</table>\n",
       "<p>300 rows × 3 columns</p>\n",
       "</div>"
      ],
      "text/plain": [
       "                                                 Teste  Classificacao_Teste  \\\n",
       "0       favela venceu o pai lançou um airpods monstro                     0   \n",
       "1    [weverse]  “namjoon oppa se eles lançarem airp...                    0   \n",
       "2                  comprei um fone tipo airpods e amei                    0   \n",
       "3    army  se você sair do airpods 3você não vive  ...                    0   \n",
       "4    ainda bem que foi o de fio porque se fosse os ...                    0   \n",
       "..                                                 ...                  ...   \n",
       "295  vou querer um macbook um ipad um airpods um ap...                    0   \n",
       "296                     meu airpods até caiu da orelha                    0   \n",
       "297  anonymous vazem o número do cartão do bolsonar...                    0   \n",
       "298                meus airpods tão com o volume baixo                    1   \n",
       "299  sorte que comprei airpods pro de r1990 no shop...                    0   \n",
       "\n",
       "     classificacao_modelo  \n",
       "0                       0  \n",
       "1                       0  \n",
       "2                       1  \n",
       "3                       0  \n",
       "4                       0  \n",
       "..                    ...  \n",
       "295                     0  \n",
       "296                     1  \n",
       "297                     0  \n",
       "298                     0  \n",
       "299                     0  \n",
       "\n",
       "[300 rows x 3 columns]"
      ]
     },
     "execution_count": 84,
     "metadata": {},
     "output_type": "execute_result"
    }
   ],
   "source": [
    "test\n"
   ]
  },
  {
   "cell_type": "code",
   "execution_count": 85,
   "metadata": {},
   "outputs": [
    {
     "data": {
      "text/plain": [
       "0    0.663333\n",
       "1    0.336667\n",
       "Name: classificacao_modelo, dtype: float64"
      ]
     },
     "execution_count": 85,
     "metadata": {},
     "output_type": "execute_result"
    }
   ],
   "source": [
    "#Ver qual foi a distribuição do modelo\n",
    "test[\"classificacao_modelo\"].value_counts(True)"
   ]
  },
  {
   "cell_type": "code",
   "execution_count": 86,
   "metadata": {},
   "outputs": [
    {
     "data": {
      "text/plain": [
       "0    0.713333\n",
       "1    0.286667\n",
       "Name: Classificacao_Teste, dtype: float64"
      ]
     },
     "execution_count": 86,
     "metadata": {},
     "output_type": "execute_result"
    }
   ],
   "source": [
    "#Ver a distribuição que colocamos\n",
    "test[\"Classificacao_Teste\"].value_counts(True)"
   ]
  },
  {
   "cell_type": "markdown",
   "metadata": {},
   "source": [
    "#### Porcentagem de erros e acertos:\n"
   ]
  },
  {
   "cell_type": "code",
   "execution_count": 87,
   "metadata": {},
   "outputs": [
    {
     "data": {
      "text/html": [
       "<div>\n",
       "<style scoped>\n",
       "    .dataframe tbody tr th:only-of-type {\n",
       "        vertical-align: middle;\n",
       "    }\n",
       "\n",
       "    .dataframe tbody tr th {\n",
       "        vertical-align: top;\n",
       "    }\n",
       "\n",
       "    .dataframe thead th {\n",
       "        text-align: right;\n",
       "    }\n",
       "</style>\n",
       "<table border=\"1\" class=\"dataframe\">\n",
       "  <thead>\n",
       "    <tr style=\"text-align: right;\">\n",
       "      <th>classificacao_modelo</th>\n",
       "      <th>0</th>\n",
       "      <th>1</th>\n",
       "    </tr>\n",
       "    <tr>\n",
       "      <th>Classificacao_Teste</th>\n",
       "      <th></th>\n",
       "      <th></th>\n",
       "    </tr>\n",
       "  </thead>\n",
       "  <tbody>\n",
       "    <tr>\n",
       "      <th>0</th>\n",
       "      <td>54.666667</td>\n",
       "      <td>16.666667</td>\n",
       "    </tr>\n",
       "    <tr>\n",
       "      <th>1</th>\n",
       "      <td>11.666667</td>\n",
       "      <td>17.000000</td>\n",
       "    </tr>\n",
       "  </tbody>\n",
       "</table>\n",
       "</div>"
      ],
      "text/plain": [
       "classificacao_modelo          0          1\n",
       "Classificacao_Teste                       \n",
       "0                     54.666667  16.666667\n",
       "1                     11.666667  17.000000"
      ]
     },
     "execution_count": 87,
     "metadata": {},
     "output_type": "execute_result"
    }
   ],
   "source": [
    "#Matriz de confusão\n",
    "mat_porcentagem=pd.crosstab(test.Classificacao_Teste, test.classificacao_modelo, normalize=True)*100 #Multiplicar po 100 porque é porcentagem!\n",
    "mat_porcentagem"
   ]
  },
  {
   "cell_type": "markdown",
   "metadata": {},
   "source": [
    "## Acurácia:"
   ]
  },
  {
   "cell_type": "code",
   "execution_count": 88,
   "metadata": {},
   "outputs": [
    {
     "data": {
      "text/plain": [
       "71.667"
      ]
     },
     "execution_count": 88,
     "metadata": {},
     "output_type": "execute_result"
    }
   ],
   "source": [
    "#Será aquelas em que ambos marcaram 0 e 1:\n",
    "acuracia= mat_porcentagem[0][0]+mat_porcentagem[1][1]  #Coluna/ linha\n",
    "acuracia.round(3)"
   ]
  },
  {
   "cell_type": "markdown",
   "metadata": {},
   "source": [
    "___\n",
    "### Concluindo"
   ]
  },
  {
   "cell_type": "markdown",
   "metadata": {},
   "source": [
    "A performance do classificador Naïve Bayes construído foi mediana, com 71.67% de acurácia, 16.33% de falsos negativos e 12% de falsos negativos, sendo assim considerado levemente satisfatório. Podemos concluir também que a base de dados utilizada poderia ser melhor se buscada em outros locais como sites de reviews, por se tratar de um ambiente unicamente utilizado com a função de dar feedback sobre a experiência do usuário com o produto adquirido. Informações relevantes foram obtidas a partir da pesquisa, como durabilidade e preço do produto, facilidade de se perder um dos fones ou a case e a recorrência de problemas quanto à qualidade do mesmo. É importante ressaltar novamente que o Twitter não é a melhor rede social para buscar tais feedbacks para os produtos, devido à grande quantidade de informações irrelevantes, como frases sem sentido, em outro idioma ou se referindo à produtos falsificados.\n",
    "O projeto em questão deve continuar sendo financiado pela *Apple.inc* a fim de coletar dados de feedback de lançamentos e produtos já lançados em busca de futuras melhorias e de manter o que já é bem aceito pelo público consumidor, buscando compreender a forma que os produtos impactam os sentimentos do público. \n",
    "Mensagens com conteúdo sarcástico são analisadas ao pé da letra pelo classificador, dado que ele considera todas as palavras de um tweet de forma independente umas das outras. Já mensagens com dupla negação são consideradas de forma negativa, pois cada palavra é considerada de forma independente do restante da frase.\n"
   ]
  },
  {
   "cell_type": "markdown",
   "metadata": {},
   "source": [
    "___\n",
    "### Qualidade do Classificador a partir de novas separações dos tweets entre Treinamento e Teste\n"
   ]
  },
  {
   "cell_type": "code",
   "execution_count": 89,
   "metadata": {},
   "outputs": [],
   "source": [
    "def classificador_suavizado_geral(tweet):\n",
    "    prob_relevante=1\n",
    "    prob_irrelevante=1\n",
    "    alpha= 1\n",
    "    lista_palavras = tweet.split()\n",
    "    for palavra in lista_palavras:\n",
    "        \n",
    "        #Como vimos que, quando o termo não existia na lista, dava erro pois não se igualava à zero automaticamente:\n",
    "        if palavra not in train_r_l:\n",
    "              train_r_abs[palavra]=0\n",
    "        \n",
    "        elif palavra not in train_i_l:\n",
    "              train_i_abs[palavra]=0\n",
    "            \n",
    "        if palavra in train_i_l and palavra in train_r_l:\n",
    "            prob_relevante*= (train_r_abs[palavra]+1)/ (Nr+D)\n",
    "            prob_irrelevante*= (train_i_abs[palavra]+1)/ (Ni+D)\n",
    "        \n",
    "    #Em vez do que está abaixo, acrescentar em uma coluna nova a classficação feita pela maquina (Para comparar posteriormente com a nossa feita à mão)\n",
    "    if prob_relevante>prob_irrelevante:\n",
    "        return 1\n",
    "    else:\n",
    "        return 0"
   ]
  },
  {
   "cell_type": "code",
   "execution_count": 90,
   "metadata": {},
   "outputs": [],
   "source": [
    "testcopy= test.drop([\"classificacao_modelo\"], axis=1)\n",
    "testcopy= testcopy.rename(columns={\"Teste\": \"Treinamento\", \"Classificacao_Teste\": \"Classificacao_Treino\"})\n",
    "traincopy= train.copy()\n",
    "novoframe= pd.concat([traincopy, testcopy], ignore_index=True)"
   ]
  },
  {
   "cell_type": "code",
   "execution_count": 91,
   "metadata": {},
   "outputs": [],
   "source": [
    "all_i = novoframe.loc[novoframe[\"Classificacao_Treino\"] == 0 , :].copy()\n",
    "all_i[\"Treinamento\"] = all_i.loc[:, 'Treinamento'].apply(cleanup_links).apply(cleanup)\n",
    "\n",
    "all_r = novoframe.loc[novoframe[\"Classificacao_Treino\"] == 1, :].copy()\n",
    "all_r[\"Treinamento\"] = all_r.loc[: , \"Treinamento\"].apply(cleanup_links).apply(cleanup)"
   ]
  },
  {
   "cell_type": "code",
   "execution_count": 94,
   "metadata": {},
   "outputs": [],
   "source": [
    "\n",
    "def dividir(all_i, all_r):\n",
    "    #Separar aleatoriamente as listas- USO DE SPLIT SKLEARN\n",
    "    test_random_i, train_random_i=train_test_split(all_i, test_size=0.33,  train_size=1-0.33, shuffle=True)     \n",
    "    test_random_r, train_random_r=train_test_split(all_r, test_size=0.33,  train_size=1-0.33, shuffle=True) \n",
    "    todos= [test_random_r, train_random_r, test_random_i, train_random_i]\n",
    "    return todos"
   ]
  },
  {
   "cell_type": "code",
   "execution_count": 95,
   "metadata": {},
   "outputs": [],
   "source": [
    "acertos_lista=[]\n",
    "erros_lista=[]\n",
    "\n",
    "for i in range (0,100): \n",
    "    lista_randomizada= dividir(all_i, all_r)\n",
    "    test_random_r= lista_randomizada[0]\n",
    "    train_random_r= lista_randomizada[1]\n",
    "    test_random_i= lista_randomizada[2]\n",
    "    train_random_i=lista_randomizada[3]\n",
    "    \n",
    "    test_random=pd.concat([test_random_i,test_random_r],ignore_index=True)\n",
    "    train_random=pd.concat([train_random_i,train_random_r],ignore_index=True)\n",
    "    \n",
    "    train_random_i_lower = train_random_i[\"Treinamento\"].str.lower()\n",
    "    train_random_i_split=train_random_i_lower.str.split()\n",
    "    train_random_i_clean = train_random_i_split.apply(stopwords_funcao)\n",
    "    \n",
    "    train_random_r_lower = train_random_r[\"Treinamento\"].str.lower()\n",
    "    train_random_r_split= train_random_r_lower.str.split()\n",
    "    train_random_r_clean = train_random_r_split.apply(stopwords_funcao)\n",
    "    \n",
    "    train_r_l=[]\n",
    "    train_i_l=[]\n",
    "    \n",
    "    for palavras in train_random_r_clean:\n",
    "        train_r_l += palavras\n",
    "    for palavras in train_random_i_clean:\n",
    "        train_i_l += palavras\n",
    "        \n",
    "    serie_train_r = pd.Series(train_r_l)\n",
    "    serie_train_i = pd.Series(train_i_l)\n",
    "    \n",
    "    train_i_abs=serie_train_i.value_counts()\n",
    "    train_r_abs=serie_train_r.value_counts()\n",
    "    \n",
    "    \n",
    "    Nr= len(train_r_l)\n",
    "    Ni= len(train_i_l)\n",
    "   \n",
    "    \n",
    "    #Aplicar função:\n",
    "    test_random[\"classificacao_modelo\"]= test_random[\"Treinamento\"].apply(classificador_suavizado_geral)\n",
    "    \n",
    "    \n",
    "    #Retornar\n",
    "    mat_porcentagem01=pd.crosstab(test_random.Classificacao_Treino, test_random.classificacao_modelo, normalize=True)*100 \n",
    "    acertos= mat_porcentagem01[1][1] + mat_porcentagem[0][0]\n",
    "    erros= 100-acertos\n",
    "    \n",
    "    \n",
    "    #Listas para o histograma\n",
    "    acertos_lista.append(acertos)\n",
    "    erros_lista.append(erros)\n",
    "    "
   ]
  },
  {
   "cell_type": "markdown",
   "metadata": {},
   "source": [
    "### Construindo o histograma da qualidade do classificador:¶\n"
   ]
  },
  {
   "cell_type": "code",
   "execution_count": 96,
   "metadata": {},
   "outputs": [
    {
     "name": "stdout",
     "output_type": "stream",
     "text": [
      "100.0\n"
     ]
    },
    {
     "data": {
      "text/plain": [
       "Text(0, 0.5, 'Densidade')"
      ]
     },
     "execution_count": 96,
     "metadata": {},
     "output_type": "execute_result"
    },
    {
     "data": {
      "image/png": "[encoded data removed]",
      "text/plain": [
       "<Figure size 1080x360 with 2 Axes>"
      ]
     },
     "metadata": {
      "needs_background": "light"
     },
     "output_type": "display_data"
    }
   ],
   "source": [
    "plt.figure(figsize=(15, 5))\n",
    "\n",
    "print(acertos_lista[0]+erros_lista[0])\n",
    "\n",
    "plt.subplot(121) \n",
    "plt.hist(erros_lista, edgecolor='white', color='red',density=True)\n",
    "plt.title('Porcentagem de erros')\n",
    "plt.ylabel('Densidade')\n",
    "\n",
    "plt.subplot(122) \n",
    "plt.hist(acertos_lista , edgecolor='white', color=\"green\",density=True)\n",
    "plt.title('Porcentagem de acertos')\n",
    "plt.ylabel('Densidade')"
   ]
  },
  {
   "cell_type": "markdown",
   "metadata": {},
   "source": [
    "Feito isso, podemos observar a partir dos histogramas construídos que uma classificação única não é recomendável, uma vez que é possivel observar uma flutuação nas porcentagens de erros-acertos. Portanto, esse processo de randomização e classificação feito várias vezes nos permite observar uma abrangência maior da acurácia do classificador. Quanto mais repetições houver nesse processo, melhor."
   ]
  },
  {
   "cell_type": "markdown",
   "metadata": {},
   "source": [
    "### Sugestão e implementação de melhorias no classificador:"
   ]
  },
  {
   "cell_type": "markdown",
   "metadata": {},
   "source": [
    "* Utilizar mais fontes dos comentários (Youtube, facebook, instagram...) E comparar para descobrir qual fonte apresenta uma possibiidade maior de oferecer comentarios relevantes. Utilizar funções diferentes do pandas, pois cada plataforma possui um tipo de renderização diferente. (Para o YouTube, por exemplo, o selenium seria a biblioteca mais indicada)\n",
    "\n",
    "* Na função de limpeza stopwords acrescentar as abreviações mais comuns do português nas redes sociais. Com a função .extend do stopwords é possivel criar uma lista de palavras novas a serem retiradas do texto alvo.\n",
    "\n",
    "\n",
    "*Material de pesquisa*: \n",
    "* https://www.projectpro.io/recipes/add-custom-stopwords-and-then-remove-them-from-text\n",
    "* https://towardsdatascience.com/how-to-scrape-youtube-comments-with-python-61ff197115d4"
   ]
  },
  {
   "cell_type": "markdown",
   "metadata": {},
   "source": [
    "### Por quê não se pode usar o classificador para gerar mais amostras?"
   ]
  },
  {
   "cell_type": "markdown",
   "metadata": {},
   "source": [
    "• Não se pode usar o classificador para gerar mais amostras de treinamento pois recai em um ponto não desejado em uma análise de probabilidades: Enviezar a pesquisa. A base de treinamento é elaborada da forma mais confiável possível, nesse caso, elaborada diretamente por seres humanos, que conseguem, a partir de sua interpretação de cada amostra, mostrar exatamentente quais são as informações relevantes ou não.\n",
    "\n",
    "Quando se trata do classificador já é implementada a noção de probabilidade, o que já abre espaço para erros. Dessa forma, usando o classificador para gerar mais amostras leva a conclusão de que as classificações incorretas, que podem ser cometidas, serão perpetuadas por todos os futuros processos com a ferramenta."
   ]
  },
  {
   "cell_type": "markdown",
   "metadata": {},
   "source": [
    "### Diferentes cenários para a aplicação de Naïve Bayes:"
   ]
  },
  {
   "cell_type": "markdown",
   "metadata": {},
   "source": [
    "\n",
    "• Naive Bayes pode ser implementado quando há a necessidade de se diferenciar e-mails comuns, e-mails com assuntos voltados a business, e-mails voltados a notícias ou e-mails que são SPAM.\n",
    "\n",
    "• Utilizar Naive Bayes para se ter um panorama da probabilidade de contágio ou não-contágio de pessoas expostas ao coronavírus, baseando-se em características fisiológicas de cada uma, por exemplo.\n",
    "\n",
    "• Classificar a faixa etária de um público com base no vocabulário e abreviações utilizadas nas redes sociais."
   ]
  },
  {
   "cell_type": "markdown",
   "metadata": {},
   "source": [
    "___\n",
    "## Aperfeiçoamento:\n",
    "\n",
    "Trabalhos que conseguirem pelo menos conceito B vão evoluir em conceito dependendo da quantidade de itens avançados:\n",
    "\n",
    "* IMPLEMENTOU outras limpezas e transformações que não afetem a qualidade da informação contida nos tweets. Ex: stemming, lemmatization, stopwords\n",
    "\n",
    "* CORRIGIU separação de espaços entre palavras e emojis ou entre emojis e emojis\n",
    "\n",
    "* EXPLICOU porquê não pode usar o próprio classificador para gerar mais amostras de treinamento\n",
    "\n",
    "* PROPÔS diferentes cenários para Naïve Bayes fora do contexto do projeto\n",
    "\n",
    "* SUGERIU e EXPLICOU melhorias reais com indicações concretas de como implementar (indicar como fazer e indicar material de pesquisa)\n",
    "\n",
    "* FEZ o item 6. Qualidade do Classificador a partir de novas separações dos tweets entre Treinamento e Teste descrito no enunciado do projeto (OBRIGATÓRIO para conceitos A ou A+)\n",
    "_____________________________________________________________________________________________________________________\n",
    "\n",
    "* CRIOU categorias intermediárias de relevância baseadas na probabilidade: ex.: muito relevante, relevante, neutro, irrelevante, muito irrelevante. Pelo menos quatro categorias, com adição de mais tweets na base, conforme enunciado. (OBRIGATÓRIO PARA TRIOS, sem contar como item avançado)"
   ]
  },
  {
   "cell_type": "markdown",
   "metadata": {},
   "source": [
    "___\n",
    "## Referências"
   ]
  },
  {
   "cell_type": "markdown",
   "metadata": {},
   "source": [
    "[Naive Bayes and Text Classification](https://arxiv.org/pdf/1410.5329.pdf)  **Mais completo**\n",
    "\n",
    "[A practical explanation of a Naive Bayes Classifier](https://monkeylearn.com/blog/practical-explanation-naive-bayes-classifier/) **Mais simples**"
   ]
  },
  {
   "cell_type": "code",
   "execution_count": null,
   "metadata": {},
   "outputs": [],
   "source": []
  }
 ],
 "metadata": {
  "kernelspec": {
   "display_name": "Python 3",
   "language": "python",
   "name": "python3"
  },
  "language_info": {
   "codemirror_mode": {
    "name": "ipython",
    "version": 3
   },
   "file_extension": ".py",
   "mimetype": "text/x-python",
   "name": "python",
   "nbconvert_exporter": "python",
   "pygments_lexer": "ipython3",
   "version": "3.8.5"
  }
 },
 "nbformat": 4,
 "nbformat_minor": 4
}
