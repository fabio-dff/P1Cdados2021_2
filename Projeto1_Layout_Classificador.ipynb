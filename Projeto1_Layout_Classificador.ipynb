{
 "cells": [
  {
   "cell_type": "markdown",
   "metadata": {},
   "source": [
    "# Projeto 1 - Ciência dos Dados"
   ]
  },
  {
   "cell_type": "markdown",
   "metadata": {},
   "source": [
    "Nome: Livia Brigido do Nascimento\n",
    "\n",
    "Nome: Fabio Dotoli Ferreira Filho\n",
    "\n"
   ]
  },
  {
   "cell_type": "markdown",
   "metadata": {},
   "source": [
    "Atenção: Serão permitidos grupos de três pessoas, mas com uma rubrica mais exigente. Grupos deste tamanho precisarão fazer um questionário de avaliação de trabalho em equipe"
   ]
  },
  {
   "cell_type": "markdown",
   "metadata": {},
   "source": [
    "___\n",
    "Carregando algumas bibliotecas:"
   ]
  },
  {
   "cell_type": "code",
   "execution_count": 30,
   "metadata": {},
   "outputs": [],
   "source": [
    "%matplotlib inline\n",
    "import pandas as pd\n",
    "import matplotlib.pyplot as plt\n",
    "import numpy as np\n",
    "import os\n",
    "from emoji import UNICODE_EMOJI"
   ]
  },
  {
   "cell_type": "code",
   "execution_count": 31,
   "metadata": {
    "scrolled": false
   },
   "outputs": [
    {
     "name": "stdout",
     "output_type": "stream",
     "text": [
      "Esperamos trabalhar no diretório\n",
      "/Users/fabiodff/Desktop/P1Cdados2021_2\n"
     ]
    }
   ],
   "source": [
    "print('Esperamos trabalhar no diretório')\n",
    "print(os.getcwd())"
   ]
  },
  {
   "cell_type": "markdown",
   "metadata": {},
   "source": [
    "Carregando a base de dados com os tweets classificados como relevantes e não relevantes:"
   ]
  },
  {
   "cell_type": "code",
   "execution_count": 32,
   "metadata": {},
   "outputs": [],
   "source": [
    "filename = 'Airpods.xlsx'"
   ]
  },
  {
   "cell_type": "code",
   "execution_count": 33,
   "metadata": {},
   "outputs": [
    {
     "data": {
      "text/html": [
       "<div>\n",
       "<style scoped>\n",
       "    .dataframe tbody tr th:only-of-type {\n",
       "        vertical-align: middle;\n",
       "    }\n",
       "\n",
       "    .dataframe tbody tr th {\n",
       "        vertical-align: top;\n",
       "    }\n",
       "\n",
       "    .dataframe thead th {\n",
       "        text-align: right;\n",
       "    }\n",
       "</style>\n",
       "<table border=\"1\" class=\"dataframe\">\n",
       "  <thead>\n",
       "    <tr style=\"text-align: right;\">\n",
       "      <th></th>\n",
       "      <th>Treinamento</th>\n",
       "      <th>Classificacao_Treino</th>\n",
       "    </tr>\n",
       "  </thead>\n",
       "  <tbody>\n",
       "    <tr>\n",
       "      <td>0</td>\n",
       "      <td>alguem me da um apple watch 😭😭😭😭 um macbook pr...</td>\n",
       "      <td>0</td>\n",
       "    </tr>\n",
       "    <tr>\n",
       "      <td>1</td>\n",
       "      <td>@hschmaiske @matheus1lva airpods pro é bom? é....</td>\n",
       "      <td>1</td>\n",
       "    </tr>\n",
       "    <tr>\n",
       "      <td>2</td>\n",
       "      <td>mais uns airpods estragados… que sorte 🤦🏻‍♂️</td>\n",
       "      <td>1</td>\n",
       "    </tr>\n",
       "    <tr>\n",
       "      <td>3</td>\n",
       "      <td>@annaeso @masbahnana isso eu sei, mas nem espe...</td>\n",
       "      <td>0</td>\n",
       "    </tr>\n",
       "    <tr>\n",
       "      <td>4</td>\n",
       "      <td>sonhando com o dia que vou achar airpods por m...</td>\n",
       "      <td>1</td>\n",
       "    </tr>\n",
       "  </tbody>\n",
       "</table>\n",
       "</div>"
      ],
      "text/plain": [
       "                                         Treinamento  Classificacao_Treino\n",
       "0  alguem me da um apple watch 😭😭😭😭 um macbook pr...                     0\n",
       "1  @hschmaiske @matheus1lva airpods pro é bom? é....                     1\n",
       "2       mais uns airpods estragados… que sorte 🤦🏻‍♂️                     1\n",
       "3  @annaeso @masbahnana isso eu sei, mas nem espe...                     0\n",
       "4  sonhando com o dia que vou achar airpods por m...                     1"
      ]
     },
     "execution_count": 33,
     "metadata": {},
     "output_type": "execute_result"
    }
   ],
   "source": [
    "train = pd.read_excel(filename, sheet_name = 'Treinamento')\n",
    "train.head(5)\n"
   ]
  },
  {
   "cell_type": "code",
   "execution_count": 34,
   "metadata": {},
   "outputs": [
    {
     "data": {
      "text/plain": [
       "0    0.646667\n",
       "1    0.353333\n",
       "Name: Classificacao_Treino, dtype: float64"
      ]
     },
     "execution_count": 34,
     "metadata": {},
     "output_type": "execute_result"
    }
   ],
   "source": [
    "train.Classificacao_Treino.value_counts(True)"
   ]
  },
  {
   "cell_type": "code",
   "execution_count": 35,
   "metadata": {},
   "outputs": [
    {
     "data": {
      "text/html": [
       "<div>\n",
       "<style scoped>\n",
       "    .dataframe tbody tr th:only-of-type {\n",
       "        vertical-align: middle;\n",
       "    }\n",
       "\n",
       "    .dataframe tbody tr th {\n",
       "        vertical-align: top;\n",
       "    }\n",
       "\n",
       "    .dataframe thead th {\n",
       "        text-align: right;\n",
       "    }\n",
       "</style>\n",
       "<table border=\"1\" class=\"dataframe\">\n",
       "  <thead>\n",
       "    <tr style=\"text-align: right;\">\n",
       "      <th></th>\n",
       "      <th>Teste</th>\n",
       "      <th>Classificacao_Teste</th>\n",
       "    </tr>\n",
       "  </thead>\n",
       "  <tbody>\n",
       "    <tr>\n",
       "      <td>0</td>\n",
       "      <td>favela venceu, o pai lançou um airpods monstro...</td>\n",
       "      <td>0</td>\n",
       "    </tr>\n",
       "    <tr>\n",
       "      <td>1</td>\n",
       "      <td>[weverse]\\n\\n“namjoon oppa, se eles lançarem a...</td>\n",
       "      <td>0</td>\n",
       "    </tr>\n",
       "    <tr>\n",
       "      <td>2</td>\n",
       "      <td>@priboechat comprei um fone tipo airpods e amei</td>\n",
       "      <td>0</td>\n",
       "    </tr>\n",
       "    <tr>\n",
       "      <td>3</td>\n",
       "      <td>@_army_brasileira_7 \\n _army_brasileira_7 \\n\\n...</td>\n",
       "      <td>0</td>\n",
       "    </tr>\n",
       "    <tr>\n",
       "      <td>4</td>\n",
       "      <td>@abelardo_moura ainda bem que foi o de fio, po...</td>\n",
       "      <td>0</td>\n",
       "    </tr>\n",
       "  </tbody>\n",
       "</table>\n",
       "</div>"
      ],
      "text/plain": [
       "                                               Teste  Classificacao_Teste\n",
       "0  favela venceu, o pai lançou um airpods monstro...                    0\n",
       "1  [weverse]\\n\\n“namjoon oppa, se eles lançarem a...                    0\n",
       "2    @priboechat comprei um fone tipo airpods e amei                    0\n",
       "3  @_army_brasileira_7 \\n _army_brasileira_7 \\n\\n...                    0\n",
       "4  @abelardo_moura ainda bem que foi o de fio, po...                    0"
      ]
     },
     "execution_count": 35,
     "metadata": {},
     "output_type": "execute_result"
    }
   ],
   "source": [
    "test = pd.read_excel(filename, sheet_name = 'Teste')\n",
    "test.head(5)"
   ]
  },
  {
   "cell_type": "code",
   "execution_count": 36,
   "metadata": {},
   "outputs": [
    {
     "data": {
      "text/plain": [
       "0    0.713333\n",
       "1    0.286667\n",
       "Name: Classificacao_Teste, dtype: float64"
      ]
     },
     "execution_count": 36,
     "metadata": {},
     "output_type": "execute_result"
    }
   ],
   "source": [
    "test.Classificacao_Teste.value_counts(True)\n"
   ]
  },
  {
   "cell_type": "markdown",
   "metadata": {},
   "source": [
    "___\n",
    "## Classificador automático de sentimento\n"
   ]
  },
  {
   "cell_type": "markdown",
   "metadata": {},
   "source": [
    "### Produto escolhido ##\n",
    "Os Airpods, lançamento da Apple no ano de 2016, são pequenos fones com conexão via bluetooth, que vêm acompanhados do estojo (usado para recarregá-los) e de um cabo lightning (carregador).\n",
    "\n",
    "Os tweets considerados relevantes foram aqueles que citavam alguma caracteristica relacionada ao produto escolhido, como por exemplo a durabilidade, a facilidade em perder os fones, preço e críticas/elogios aos Airpods como um todo.\n",
    "\n",
    "Os tweets irrelevantes, por sua vez, são aqueles que citam o produto, porém de uma forma que não é possivel extrair um feedback significativo sobre satisfação ou qualidades (positivas ou negativas) como, por exemplo, uma frase citando alguns itens aleatórios (dentre eles, os Airpods)."
   ]
  },
  {
   "cell_type": "markdown",
   "metadata": {},
   "source": [
    "___\n",
    "### Montando um Classificador Naive-Bayes\n",
    "\n",
    "Considerando apenas as mensagens da planilha Treinamento, ensine  seu classificador."
   ]
  },
  {
   "cell_type": "code",
   "execution_count": 133,
   "metadata": {},
   "outputs": [],
   "source": [
    "#Montando a função de limpeza principal e para a limpeza de palavras mais específicas** (cleanup)\n",
    "\n",
    "import re #utilizaremos para limpar o texto ('replace')\n",
    "\n",
    "\n",
    "\n",
    "def cleanup(text):\n",
    "    \"\"\"\n",
    "        Função de limpeza muito simples que troca alguns sinais básicos por espaços\n",
    "    \"\"\"\n",
    "    #import string\n",
    "    punctuation = '[\\/!-.:?;]' # Note que os sinais [] são delimitadores de um conjunto.\n",
    "    pattern = re.compile(punctuation)\n",
    "    text_subbed = re.sub(pattern, '', text) #substitui o primeiro argumento pelo segundo, e o terceiro argumento é onde será aplicada a substituição\n",
    "    text_subbed = re.sub('\\n', ' ', text_subbed) #retirando o enter (pular para a próxima linha)\n",
    "    \n",
    "    padrao = r'https\\w+'\n",
    "    pattern2 = re.compile(padrao)\n",
    "    text_subbed2 = re.sub(pattern2, '', text_subbed)\n",
    "    \n",
    "    return text_subbed2.lower()\n",
    "\n",
    "\n",
    "def cleanup_links(text):\n",
    "    \n",
    "    padrao1 = r'@\\w+' #remove o símbolo ou escrita e as letras após ele\n",
    "    pattern1 = re.compile(padrao1)\n",
    "    text_subbed = re.sub(pattern1, '', text)  \n",
    "    \n",
    "    padrao3 = r'#\\w+'\n",
    "    pattern3 = re.compile(padrao3)\n",
    "    text_subbed3 = re.sub(pattern3, '', text_subbed)\n",
    "    \n",
    "    padrao4 = r'&\\w+'\n",
    "    pattern4 = re.compile(padrao4)\n",
    "    text_subbed4 = re.sub(pattern4, '', text_subbed3)\n",
    "    \n",
    "    padrao5 = r'_\\w+'\n",
    "    pattern5 = re.compile(padrao5)\n",
    "    text_subbed5 = re.sub(pattern5, '', text_subbed4)\n",
    "    \n",
    "    \n",
    "    \n",
    "    return text_subbed5"
   ]
  },
  {
   "cell_type": "code",
   "execution_count": 134,
   "metadata": {},
   "outputs": [
    {
     "data": {
      "text/plain": [
       "'  gosta do  a gente  '"
      ]
     },
     "execution_count": 134,
     "metadata": {},
     "output_type": "execute_result"
    }
   ],
   "source": [
    "#Célula de Testes das funções:\n",
    "variavel_teste=\"@joniel,  gosta!?????? do: https:'hgah, a gente #skaska &sasjas\"\n",
    "\n",
    "variavel_limpa = cleanup_links(variavel_teste)\n",
    "variavel_limpa\n",
    "variavel_limpa2= cleanup(variavel_limpa)\n",
    "variavel_limpa2"
   ]
  },
  {
   "cell_type": "code",
   "execution_count": 135,
   "metadata": {},
   "outputs": [
    {
     "data": {
      "text/plain": [
       "1        airpods pro é bom é qualidade boa sim noise ...\n",
       "2           mais uns airpods estragados… que sorte 🤦🏻‍♂️\n",
       "4      sonhando com o dia que vou achar airpods por m...\n",
       "5      tava pensando se esse airpods tinha valido o p...\n",
       "7             oh trenzin q doi os zovido é esses airpods\n",
       "                             ...                        \n",
       "583           passando 3 meses encontrei os meus airpods\n",
       "591    esqueci de carregar o airpods treinar sem músi...\n",
       "593                                 perdi meus airpods 🥲\n",
       "594        airpods compramos 2 um pra mim um pra minh...\n",
       "596    meu deus quem disse q ter airpods era uma boa ...\n",
       "Name: Treinamento, Length: 212, dtype: object"
      ]
     },
     "execution_count": 135,
     "metadata": {},
     "output_type": "execute_result"
    }
   ],
   "source": [
    "#já foi dividido em rel. e irrel. pois depois não será possivel dividir por ser um df de apenas uma coluna \n",
    "train_relevantes_clean = train.loc[train[\"Classificacao_Treino\"] == 1, 'Treinamento'].apply(cleanup_links).apply(cleanup)\n",
    "train_relevantes_clean"
   ]
  },
  {
   "cell_type": "code",
   "execution_count": 136,
   "metadata": {},
   "outputs": [],
   "source": [
    "\n",
    "#train_rel_clean.astype(str)\n",
    "train_relevantes_lower = train_relevantes_clean.str.lower() #por que usar o .str ao inves de uma variavel-- Não quero trabalhar no dataset,mas em cada linha.\n",
    "train_relevantes = train_relevantes_lower.str.split()"
   ]
  },
  {
   "cell_type": "code",
   "execution_count": 137,
   "metadata": {},
   "outputs": [
    {
     "data": {
      "text/plain": [
       "pandas.core.series.Series"
      ]
     },
     "execution_count": 137,
     "metadata": {},
     "output_type": "execute_result"
    }
   ],
   "source": [
    "type(train_relevantes_clean)"
   ]
  },
  {
   "cell_type": "code",
   "execution_count": 138,
   "metadata": {},
   "outputs": [
    {
     "data": {
      "text/plain": [
       "0       airpods\n",
       "1           pro\n",
       "2             é\n",
       "3           bom\n",
       "4             é\n",
       "         ...   \n",
       "3363        uma\n",
       "3364        boa\n",
       "3365      ideia\n",
       "3366          q\n",
       "3367    inferno\n",
       "Length: 3368, dtype: object"
      ]
     },
     "execution_count": 138,
     "metadata": {},
     "output_type": "execute_result"
    }
   ],
   "source": [
    "train_relevantes_l = []  #criando uma lista para englobar todas as outras listas criadas com o .split\n",
    "\n",
    "for palavras in train_relevantes:\n",
    "    train_relevantes_l += palavras\n",
    "serie_train_relevantes = pd.Series(train_relevantes_l)\n",
    "serie_train_relevantes"
   ]
  },
  {
   "cell_type": "code",
   "execution_count": 139,
   "metadata": {},
   "outputs": [
    {
     "data": {
      "text/plain": [
       "airpods    0.063242\n",
       "o          0.029394\n",
       "de         0.027019\n",
       "que        0.022862\n",
       "e          0.021675\n",
       "             ...   \n",
       "🥱🥱         0.000297\n",
       "caso       0.000297\n",
       "vi         0.000297\n",
       "deixar     0.000297\n",
       "precisa    0.000297\n",
       "Length: 1117, dtype: float64"
      ]
     },
     "execution_count": 139,
     "metadata": {},
     "output_type": "execute_result"
    }
   ],
   "source": [
    "serie_train_relevantes_absoluta = serie_train_relevantes.value_counts(True)\n",
    "serie_train_relevantes_absoluta\n"
   ]
  },
  {
   "cell_type": "code",
   "execution_count": 140,
   "metadata": {},
   "outputs": [
    {
     "data": {
      "text/plain": [
       "0      alguem me da um apple watch 😭😭😭😭 um macbook pr...\n",
       "3        isso eu sei mas nem esperaria algo assim é q...\n",
       "6       sete anos atrás em 09092014 o valor do dólar ...\n",
       "8         queria tanto um fone airpods mas zero dinheiro\n",
       "9                                necessito de um airpods\n",
       "                             ...                        \n",
       "592    items do dreamcatcher para uma boa noite de so...\n",
       "595                    vale a pena pegar um airpods pro \n",
       "597                                 me compra um airpods\n",
       "598    cara de mau mas no airpods tá tocando harry st...\n",
       "599    algm tem link daquele airpods da shoppee q o i...\n",
       "Name: Treinamento, Length: 388, dtype: object"
      ]
     },
     "execution_count": 140,
     "metadata": {},
     "output_type": "execute_result"
    }
   ],
   "source": [
    "train_irrelevantes_clean = train.loc[train[\"Classificacao_Treino\"] == 0, 'Treinamento'].apply(cleanup_links).apply(cleanup)\n",
    "train_irrelevantes_clean"
   ]
  },
  {
   "cell_type": "code",
   "execution_count": 141,
   "metadata": {},
   "outputs": [],
   "source": [
    "train_irrelevantes_lower = train_irrelevantes_clean.str.lower() \n",
    "train_irrelevantes = train_irrelevantes_lower.str.split()"
   ]
  },
  {
   "cell_type": "code",
   "execution_count": 142,
   "metadata": {},
   "outputs": [
    {
     "data": {
      "text/plain": [
       "pandas.core.series.Series"
      ]
     },
     "execution_count": 142,
     "metadata": {},
     "output_type": "execute_result"
    }
   ],
   "source": [
    "type(train_irrelevantes_clean)"
   ]
  },
  {
   "cell_type": "code",
   "execution_count": 143,
   "metadata": {},
   "outputs": [
    {
     "data": {
      "text/plain": [
       "0          alguem\n",
       "1              me\n",
       "2              da\n",
       "3              um\n",
       "4           apple\n",
       "          ...    \n",
       "6431            o\n",
       "6432       iphone\n",
       "6433    reconhece\n",
       "6434         como\n",
       "6435     original\n",
       "Length: 6436, dtype: object"
      ]
     },
     "execution_count": 143,
     "metadata": {},
     "output_type": "execute_result"
    }
   ],
   "source": [
    "train_irrelevantes_l = []  #criando uma lista para englobar todas as outras listas criadas com o .split\n",
    "\n",
    "for palavras in train_irrelevantes:\n",
    "    train_irrelevantes_l += palavras\n",
    "serie_train_irrelevantes = pd.Series(train_irrelevantes_l)\n",
    "serie_train_irrelevantes"
   ]
  },
  {
   "cell_type": "code",
   "execution_count": 144,
   "metadata": {},
   "outputs": [
    {
     "data": {
      "text/plain": [
       "airpods    0.061840\n",
       "o          0.025326\n",
       "um         0.025171\n",
       "e          0.024549\n",
       "de         0.024394\n",
       "             ...   \n",
       "dedo       0.000155\n",
       "cortei     0.000155\n",
       "prime      0.000155\n",
       "klee       0.000155\n",
       "posso      0.000155\n",
       "Length: 1732, dtype: float64"
      ]
     },
     "execution_count": 144,
     "metadata": {},
     "output_type": "execute_result"
    }
   ],
   "source": [
    "serie_train_irrelevantes_absoluta = serie_train_irrelevantes.value_counts(True)\n",
    "serie_train_irrelevantes_absoluta"
   ]
  },
  {
   "cell_type": "code",
   "execution_count": 145,
   "metadata": {},
   "outputs": [
    {
     "data": {
      "text/plain": [
       "14     dica do dia não coloque seus airpods na máquin...\n",
       "16       olha se vc quiser algo que dure não compra a...\n",
       "17     pqp achei que eu tinha perdido a capinha do ai...\n",
       "24              esqueci de trazer meu airpods qero morre\n",
       "34            o airpods é a melhor coisa q eu já comprei\n",
       "                             ...                        \n",
       "284      mano tu parea os airpods no iphone ele mostr...\n",
       "286     airpods duram umas 4 horas carregam em uns 30...\n",
       "287          diz a pessoa que perdeu mais de 30 airpods \n",
       "289    eu preciiiiiso de um ipad pra assistir as aula...\n",
       "298                 meus airpods tão com o volume baixo \n",
       "Name: Teste, Length: 86, dtype: object"
      ]
     },
     "execution_count": 145,
     "metadata": {},
     "output_type": "execute_result"
    }
   ],
   "source": [
    "test_relevantes_clean = test.loc[test[\"Classificacao_Teste\"] == 1, 'Teste'].apply(cleanup_links).apply(cleanup)\n",
    "test_relevantes_clean"
   ]
  },
  {
   "cell_type": "code",
   "execution_count": 146,
   "metadata": {},
   "outputs": [
    {
     "data": {
      "text/plain": [
       "0         favela venceu o pai lançou um airpods monstro \n",
       "1      [weverse]  “namjoon oppa se eles lançarem airp...\n",
       "2                    comprei um fone tipo airpods e amei\n",
       "3            army  se você sair do airpods 3você não ...\n",
       "4       ainda bem que foi o de fio porque se fosse os...\n",
       "                             ...                        \n",
       "294                    a meu mano eu tenho airpods certo\n",
       "295      vou querer um macbook um ipad um airpods um ...\n",
       "296                       meu airpods até caiu da orelha\n",
       "297    anonymous vazem o número do cartão do bolsonar...\n",
       "299    sorte que comprei airpods pro de r1990 no shop...\n",
       "Name: Teste, Length: 214, dtype: object"
      ]
     },
     "execution_count": 146,
     "metadata": {},
     "output_type": "execute_result"
    }
   ],
   "source": [
    "test_irrelevantes_clean = test.loc[test[\"Classificacao_Teste\"] == 0, 'Teste'].apply(cleanup_links).apply(cleanup)\n",
    "test_irrelevantes_clean"
   ]
  },
  {
   "cell_type": "markdown",
   "metadata": {},
   "source": [
    "### Implementando a suavização de Laplace ###"
   ]
  },
  {
   "cell_type": "code",
   "execution_count": 157,
   "metadata": {},
   "outputs": [
    {
     "data": {
      "text/plain": [
       "1732"
      ]
     },
     "execution_count": 157,
     "metadata": {},
     "output_type": "execute_result"
    }
   ],
   "source": [
    "train_tamanho_irrelevantes = len(serie_train_irrelevantes_absoluta)\n",
    "train_tamanho_irrelevantes"
   ]
  },
  {
   "cell_type": "code",
   "execution_count": 158,
   "metadata": {},
   "outputs": [
    {
     "data": {
      "text/plain": [
       "1117"
      ]
     },
     "execution_count": 158,
     "metadata": {},
     "output_type": "execute_result"
    }
   ],
   "source": [
    "train_tamanho_relevantes = len(serie_train_relevantes_absoluta)\n",
    "train_tamanho_relevantes"
   ]
  },
  {
   "cell_type": "code",
   "execution_count": 159,
   "metadata": {},
   "outputs": [
    {
     "data": {
      "text/plain": [
       "2849"
      ]
     },
     "execution_count": 159,
     "metadata": {},
     "output_type": "execute_result"
    }
   ],
   "source": [
    "total = train_tamanho_irrelevantes + train_tamanho_relevantes\n",
    "D = total\n",
    "D"
   ]
  },
  {
   "cell_type": "markdown",
   "metadata": {},
   "source": [
    "###### Definindo o alfa e o D ######"
   ]
  },
  {
   "cell_type": "code",
   "execution_count": 160,
   "metadata": {},
   "outputs": [],
   "source": [
    "alfa = 1\n",
    "D = total"
   ]
  },
  {
   "cell_type": "markdown",
   "metadata": {},
   "source": [
    "___\n",
    "### Verificando a performance do Classificador\n",
    "\n",
    "Agora você deve testar o seu classificador com a base de Testes."
   ]
  },
  {
   "cell_type": "code",
   "execution_count": null,
   "metadata": {},
   "outputs": [],
   "source": []
  },
  {
   "cell_type": "code",
   "execution_count": null,
   "metadata": {},
   "outputs": [],
   "source": []
  },
  {
   "cell_type": "code",
   "execution_count": null,
   "metadata": {},
   "outputs": [],
   "source": []
  },
  {
   "cell_type": "markdown",
   "metadata": {},
   "source": [
    "___\n",
    "### Concluindo"
   ]
  },
  {
   "cell_type": "code",
   "execution_count": null,
   "metadata": {},
   "outputs": [],
   "source": []
  },
  {
   "cell_type": "code",
   "execution_count": null,
   "metadata": {},
   "outputs": [],
   "source": []
  },
  {
   "cell_type": "code",
   "execution_count": null,
   "metadata": {},
   "outputs": [],
   "source": []
  },
  {
   "cell_type": "markdown",
   "metadata": {},
   "source": [
    "___\n",
    "### Qualidade do Classificador a partir de novas separações dos tweets entre Treinamento e Teste\n",
    "\n",
    "Caso for fazer esse item do Projeto"
   ]
  },
  {
   "cell_type": "code",
   "execution_count": null,
   "metadata": {},
   "outputs": [],
   "source": []
  },
  {
   "cell_type": "code",
   "execution_count": null,
   "metadata": {},
   "outputs": [],
   "source": []
  },
  {
   "cell_type": "code",
   "execution_count": null,
   "metadata": {},
   "outputs": [],
   "source": []
  },
  {
   "cell_type": "markdown",
   "metadata": {},
   "source": [
    "___\n",
    "## Aperfeiçoamento:\n",
    "\n",
    "Trabalhos que conseguirem pelo menos conceito B vão evoluir em conceito dependendo da quantidade de itens avançados:\n",
    "\n",
    "* IMPLEMENTOU outras limpezas e transformações que não afetem a qualidade da informação contida nos tweets. Ex: stemming, lemmatization, stopwords\n",
    "* CORRIGIU separação de espaços entre palavras e emojis ou entre emojis e emojis\n",
    "* CRIOU categorias intermediárias de relevância baseadas na probabilidade: ex.: muito relevante, relevante, neutro, irrelevante, muito irrelevante. Pelo menos quatro categorias, com adição de mais tweets na base, conforme enunciado. (OBRIGATÓRIO PARA TRIOS, sem contar como item avançado)\n",
    "* EXPLICOU porquê não pode usar o próprio classificador para gerar mais amostras de treinamento\n",
    "* PROPÔS diferentes cenários para Naïve Bayes fora do contexto do projeto\n",
    "* SUGERIU e EXPLICOU melhorias reais com indicações concretas de como implementar (indicar como fazer e indicar material de pesquisa)\n",
    "* FEZ o item 6. Qualidade do Classificador a partir de novas separações dos tweets entre Treinamento e Teste descrito no enunciado do projeto (OBRIGATÓRIO para conceitos A ou A+)"
   ]
  },
  {
   "cell_type": "markdown",
   "metadata": {},
   "source": [
    "___\n",
    "## Referências"
   ]
  },
  {
   "cell_type": "markdown",
   "metadata": {},
   "source": [
    "[Naive Bayes and Text Classification](https://arxiv.org/pdf/1410.5329.pdf)  **Mais completo**\n",
    "\n",
    "[A practical explanation of a Naive Bayes Classifier](https://monkeylearn.com/blog/practical-explanation-naive-bayes-classifier/) **Mais simples**"
   ]
  },
  {
   "cell_type": "code",
   "execution_count": null,
   "metadata": {},
   "outputs": [],
   "source": []
  }
 ],
 "metadata": {
  "kernelspec": {
   "display_name": "Python 3",
   "language": "python",
   "name": "python3"
  },
  "language_info": {
   "codemirror_mode": {
    "name": "ipython",
    "version": 3
   },
   "file_extension": ".py",
   "mimetype": "text/x-python",
   "name": "python",
   "nbconvert_exporter": "python",
   "pygments_lexer": "ipython3",
   "version": "3.7.4"
  }
 },
 "nbformat": 4,
 "nbformat_minor": 4
}
