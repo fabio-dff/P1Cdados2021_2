{
 "cells": [
  {
   "cell_type": "markdown",
   "metadata": {},
   "source": [
    "# Projeto 1 - Ciência dos Dados"
   ]
  },
  {
   "cell_type": "markdown",
   "metadata": {},
   "source": [
    "### Alunos, digo, contratados da Apple :) \n",
    "\n",
    "#### Nome: Livia Brigido do Nascimento\n",
    "\n",
    "#### Nome: Fabio Dotoli Ferreira Filho\n",
    "\n"
   ]
  },
  {
   "cell_type": "markdown",
   "metadata": {},
   "source": [
    "Atenção: Serão permitidos grupos de três pessoas, mas com uma rubrica mais exigente. Grupos deste tamanho precisarão fazer um questionário de avaliação de trabalho em equipe"
   ]
  },
  {
   "cell_type": "markdown",
   "metadata": {},
   "source": [
    "## INTRODUÇÃO: ## \n",
    "\n",
    "##### Enunciado do projeto proposto: Você foi contratado por uma empresa para analisar como os clientes estão reagindo a umdeterminado produto no Twitter. A empresa deseja que você: crie um programa que selecionealgumas mensagens disponíveis no Twitter, as quais mencionam esse particular produto; e classifique esses tweets como \"relevante\" ou \"irrelevante\", pelo menos.\n",
    "\n",
    "#### Os objetivos principais foram:\n",
    "\n",
    "##### - Ter a primeira base de treinamento para o programa, ou seja, classificar à mão para servir de \"exemplo\" para a máquina;\n",
    "\n",
    "##### - Juntamente à isso ter uma base de teste para colocar em prática o programa. Junto à ela uma classificação também feita à mão para fins de comparação;\n",
    "\n",
    "##### - Limpar os dados da maneira que mais se encaixava com o nosso objetivo (Como por exemplo não apagar os emojis, mas considerá-los colocando espaços entre eles e as palavras;\n",
    "\n",
    "##### - Enxergar a problemática que um termo exclusivo poderia trazer e, desse modo, adicionar a suavização (Laplace);\n",
    "\n",
    "##### - Analisar as probabilidades de ser relevante ou não cada tweet;\n",
    "\n",
    "##### - Finalizar com observações gerais sobre a atividade proposta.\n"
   ]
  },
  {
   "cell_type": "markdown",
   "metadata": {},
   "source": [
    "___\n",
    "Carregando algumas bibliotecas que serão úteis:"
   ]
  },
  {
   "cell_type": "code",
   "execution_count": 160,
   "metadata": {},
   "outputs": [],
   "source": [
    "%matplotlib inline\n",
    "import pandas as pd\n",
    "import matplotlib.pyplot as plt\n",
    "import numpy as np\n",
    "import os\n",
    "from emoji import UNICODE_EMOJI  #Essa serve para quê mesmo?\n",
    "import re #utilizaremos para limpar o texto ('replace')\n",
    "import nltk\n",
    "from nltk.corpus import stopwords"
   ]
  },
  {
   "cell_type": "code",
   "execution_count": 161,
   "metadata": {},
   "outputs": [],
   "source": [
    "#pip install emoji\n",
    "#import nltk\n",
    "#nltk.download('stopwords')"
   ]
  },
  {
   "cell_type": "code",
   "execution_count": 162,
   "metadata": {
    "scrolled": false
   },
   "outputs": [
    {
     "name": "stdout",
     "output_type": "stream",
     "text": [
      "Esperamos trabalhar no diretório\n",
      "C:\\Users\\liviabn\\Documents\\Cdados- Projetos\\PROJETO1_Cdados\\P1Cdados2021_2\n"
     ]
    }
   ],
   "source": [
    "# Confirmando o diretório a ser utilizado:\n",
    "\n",
    "print('Esperamos trabalhar no diretório')\n",
    "print(os.getcwd())"
   ]
  },
  {
   "cell_type": "markdown",
   "metadata": {},
   "source": [
    "Carregando a base de dados com os tweets classificados como relevantes e não relevantes:"
   ]
  },
  {
   "cell_type": "code",
   "execution_count": 163,
   "metadata": {},
   "outputs": [],
   "source": [
    "filename = 'Airpods.xlsx'"
   ]
  },
  {
   "cell_type": "code",
   "execution_count": 164,
   "metadata": {},
   "outputs": [
    {
     "data": {
      "text/html": [
       "<div>\n",
       "<style scoped>\n",
       "    .dataframe tbody tr th:only-of-type {\n",
       "        vertical-align: middle;\n",
       "    }\n",
       "\n",
       "    .dataframe tbody tr th {\n",
       "        vertical-align: top;\n",
       "    }\n",
       "\n",
       "    .dataframe thead th {\n",
       "        text-align: right;\n",
       "    }\n",
       "</style>\n",
       "<table border=\"1\" class=\"dataframe\">\n",
       "  <thead>\n",
       "    <tr style=\"text-align: right;\">\n",
       "      <th></th>\n",
       "      <th>Treinamento</th>\n",
       "      <th>Classificacao_Treino</th>\n",
       "    </tr>\n",
       "  </thead>\n",
       "  <tbody>\n",
       "    <tr>\n",
       "      <th>0</th>\n",
       "      <td>alguem me da um apple watch 😭😭😭😭 um macbook pr...</td>\n",
       "      <td>0</td>\n",
       "    </tr>\n",
       "    <tr>\n",
       "      <th>1</th>\n",
       "      <td>@hschmaiske @matheus1lva airpods pro é bom? é....</td>\n",
       "      <td>1</td>\n",
       "    </tr>\n",
       "    <tr>\n",
       "      <th>2</th>\n",
       "      <td>mais uns airpods estragados… que sorte 🤦🏻‍♂️</td>\n",
       "      <td>1</td>\n",
       "    </tr>\n",
       "    <tr>\n",
       "      <th>3</th>\n",
       "      <td>@annaeso @masbahnana isso eu sei, mas nem espe...</td>\n",
       "      <td>0</td>\n",
       "    </tr>\n",
       "    <tr>\n",
       "      <th>4</th>\n",
       "      <td>sonhando com o dia que vou achar airpods por m...</td>\n",
       "      <td>1</td>\n",
       "    </tr>\n",
       "  </tbody>\n",
       "</table>\n",
       "</div>"
      ],
      "text/plain": [
       "                                         Treinamento  Classificacao_Treino\n",
       "0  alguem me da um apple watch 😭😭😭😭 um macbook pr...                     0\n",
       "1  @hschmaiske @matheus1lva airpods pro é bom? é....                     1\n",
       "2       mais uns airpods estragados… que sorte 🤦🏻‍♂️                     1\n",
       "3  @annaeso @masbahnana isso eu sei, mas nem espe...                     0\n",
       "4  sonhando com o dia que vou achar airpods por m...                     1"
      ]
     },
     "execution_count": 164,
     "metadata": {},
     "output_type": "execute_result"
    }
   ],
   "source": [
    "#A de treinamento (A que será responsável pela ação de \"ensinar\" a máquina o que é ou não é relevante)\n",
    "\n",
    "train = pd.read_excel(filename, sheet_name = 'Treinamento')\n",
    "train.head(5)"
   ]
  },
  {
   "cell_type": "code",
   "execution_count": 165,
   "metadata": {},
   "outputs": [
    {
     "data": {
      "text/plain": [
       "0    0.633333\n",
       "1    0.366667\n",
       "Name: Classificacao_Treino, dtype: float64"
      ]
     },
     "execution_count": 165,
     "metadata": {},
     "output_type": "execute_result"
    }
   ],
   "source": [
    "#Observando a quantidade relativa das duas classificações:\n",
    "\n",
    "train.Classificacao_Treino.value_counts(True) #Precisamos equilibrar um pouco mais esses dados:"
   ]
  },
  {
   "cell_type": "code",
   "execution_count": 166,
   "metadata": {},
   "outputs": [
    {
     "data": {
      "text/html": [
       "<div>\n",
       "<style scoped>\n",
       "    .dataframe tbody tr th:only-of-type {\n",
       "        vertical-align: middle;\n",
       "    }\n",
       "\n",
       "    .dataframe tbody tr th {\n",
       "        vertical-align: top;\n",
       "    }\n",
       "\n",
       "    .dataframe thead th {\n",
       "        text-align: right;\n",
       "    }\n",
       "</style>\n",
       "<table border=\"1\" class=\"dataframe\">\n",
       "  <thead>\n",
       "    <tr style=\"text-align: right;\">\n",
       "      <th></th>\n",
       "      <th>Teste</th>\n",
       "      <th>Classificacao_Teste</th>\n",
       "    </tr>\n",
       "  </thead>\n",
       "  <tbody>\n",
       "    <tr>\n",
       "      <th>0</th>\n",
       "      <td>favela venceu, o pai lançou um airpods monstro...</td>\n",
       "      <td>0</td>\n",
       "    </tr>\n",
       "    <tr>\n",
       "      <th>1</th>\n",
       "      <td>[weverse]\\n\\n“namjoon oppa, se eles lançarem a...</td>\n",
       "      <td>0</td>\n",
       "    </tr>\n",
       "    <tr>\n",
       "      <th>2</th>\n",
       "      <td>@priboechat comprei um fone tipo airpods e amei</td>\n",
       "      <td>0</td>\n",
       "    </tr>\n",
       "    <tr>\n",
       "      <th>3</th>\n",
       "      <td>@_army_brasileira_7 \\n _army_brasileira_7 \\n\\n...</td>\n",
       "      <td>0</td>\n",
       "    </tr>\n",
       "    <tr>\n",
       "      <th>4</th>\n",
       "      <td>@abelardo_moura ainda bem que foi o de fio, po...</td>\n",
       "      <td>0</td>\n",
       "    </tr>\n",
       "  </tbody>\n",
       "</table>\n",
       "</div>"
      ],
      "text/plain": [
       "                                               Teste  Classificacao_Teste\n",
       "0  favela venceu, o pai lançou um airpods monstro...                    0\n",
       "1  [weverse]\\n\\n“namjoon oppa, se eles lançarem a...                    0\n",
       "2    @priboechat comprei um fone tipo airpods e amei                    0\n",
       "3  @_army_brasileira_7 \\n _army_brasileira_7 \\n\\n...                    0\n",
       "4  @abelardo_moura ainda bem que foi o de fio, po...                    0"
      ]
     },
     "execution_count": 166,
     "metadata": {},
     "output_type": "execute_result"
    }
   ],
   "source": [
    "#A de teste (Com a classficação que fizemos apenas para comparar com a futura ação da máquina)\n",
    "\n",
    "test = pd.read_excel(filename, sheet_name = 'Teste')\n",
    "test.head(5)"
   ]
  },
  {
   "cell_type": "code",
   "execution_count": 167,
   "metadata": {},
   "outputs": [
    {
     "data": {
      "text/plain": [
       "0    0.713333\n",
       "1    0.286667\n",
       "Name: Classificacao_Teste, dtype: float64"
      ]
     },
     "execution_count": 167,
     "metadata": {},
     "output_type": "execute_result"
    }
   ],
   "source": [
    "#Observando a quantidade relativa das duas classificações:\n",
    "\n",
    "test.Classificacao_Teste.value_counts(True)"
   ]
  },
  {
   "cell_type": "markdown",
   "metadata": {},
   "source": [
    "___\n",
    "## Classificador automático de sentimento\n"
   ]
  },
  {
   "cell_type": "markdown",
   "metadata": {},
   "source": [
    "### Produto escolhido ##\n",
    "\n",
    "Os Airpods, lançamento da Apple no ano de 2016, são pequenos fones com conexão via bluetooth, que vêm acompanhados do estojo (usado para recarregá-los) e de um cabo lightning (carregador).\n",
    "\n",
    "Os tweets considerados relevantes foram aqueles que citavam alguma caracteristica relacionada ao produto escolhido, como por exemplo a durabilidade, a facilidade em perder os fones, preço e críticas/elogios aos Airpods como um todo.\n",
    "\n",
    "Os tweets irrelevantes, por sua vez, são aqueles que citam o produto, porém de uma forma que não é possivel extrair um feedback significativo sobre satisfação ou qualidades (positivas ou negativas) como, por exemplo, uma frase citando alguns itens aleatórios (dentre eles, os Airpods)."
   ]
  },
  {
   "cell_type": "markdown",
   "metadata": {},
   "source": [
    "___\n",
    "### Montando um Classificador Naive-Bayes\n",
    "\n",
    "Considerando apenas as mensagens da planilha Treinamento, ensine  seu classificador."
   ]
  },
  {
   "cell_type": "code",
   "execution_count": 168,
   "metadata": {},
   "outputs": [],
   "source": [
    "#Montando a função de limpeza principal e para a limpeza de palavras mais específicas** (cleanup)\n",
    "\n",
    "def cleanup_emoji(emoji1):\n",
    "    return emoji1 in UNICODE_EMOJI\n",
    "\n",
    "def cleanup(text):\n",
    "    \"\"\"\n",
    "        Função de limpeza muito simples que troca alguns sinais básicos por espaços\n",
    "    \"\"\"\n",
    "    #import string\n",
    "    punctuation = '[\"\\/!-.:?;\"]' # Note que os sinais [] são delimitadores de um conjunto.\n",
    "    pattern = re.compile(punctuation)\n",
    "    text_subbed = re.sub(pattern, '', text) #substitui o primeiro argumento pelo segundo, e o terceiro argumento é onde será aplicada a substituição\n",
    "    text_subbed = re.sub('\\n', ' ', text_subbed) #retirando o enter (pular para a próxima linha)\n",
    "    text_subbed = ''.join(' ' + char + ' ' if cleanup_emoji(char) else char for char in text_subbed).strip()\n",
    "\n",
    "    \n",
    "    padrao = r'https\\w+'\n",
    "    pattern2 = re.compile(padrao)\n",
    "    text_subbed2 = re.sub(pattern2, '', text_subbed)\n",
    "    \n",
    "    return text_subbed2.lower()\n",
    "\n",
    "\n",
    "def cleanup_links(text):\n",
    "    \n",
    "    padrao1 = r'@\\w+' #remove o símbolo ou escrita e as letras após ele\n",
    "    pattern1 = re.compile(padrao1)\n",
    "    text_subbed = re.sub(pattern1, '', text)  \n",
    "    \n",
    "    padrao3 = r'#\\w+'\n",
    "    pattern3 = re.compile(padrao3)\n",
    "    text_subbed3 = re.sub(pattern3, '', text_subbed)\n",
    "    \n",
    "    padrao4 = r'&\\w+'\n",
    "    pattern4 = re.compile(padrao4)\n",
    "    text_subbed4 = re.sub(pattern4, '', text_subbed3)\n",
    "    \n",
    "    padrao5 = r'_\\w+'\n",
    "    pattern5 = re.compile(padrao5)\n",
    "    text_subbed5 = re.sub(pattern5, '', text_subbed4)\n",
    "    \n",
    "    \n",
    "    \n",
    "    return text_subbed5\n",
    "\n",
    "\n",
    "\n",
    "def stopwords_funcao(texto):\n",
    "    stop_words = (nltk.corpus.stopwords.words('portuguese'))\n",
    "    \n",
    "    stopwords_lista = []\n",
    "    \n",
    "    for palavras in texto:\n",
    "        if palavras not in stop_words: \n",
    "            stopwords_lista.append(palavras)\n",
    "    \n",
    "    return stopwords_lista"
   ]
  },
  {
   "cell_type": "code",
   "execution_count": 169,
   "metadata": {},
   "outputs": [
    {
     "data": {
      "text/plain": [
       "'a ou o que  gosta do  a gente'"
      ]
     },
     "execution_count": 169,
     "metadata": {},
     "output_type": "execute_result"
    }
   ],
   "source": [
    "#Célula de Testes das funções:\n",
    "variavel_teste=\"@joniel, a ou o que  gosta!?????? do: https:'hgah, a gente #skaska &sasjas\"\n",
    "\n",
    "variavel_limpa = cleanup_links(variavel_teste)\n",
    "variavel_limpa\n",
    "variavel_limpa2= cleanup(variavel_limpa)\n",
    "variavel_limpa2"
   ]
  },
  {
   "cell_type": "code",
   "execution_count": 170,
   "metadata": {},
   "outputs": [
    {
     "data": {
      "text/plain": [
       "1      airpods pro é bom é qualidade boa sim noise ca...\n",
       "2           mais uns airpods estragados… que sorte 🤦🏻‍♂️\n",
       "4      sonhando com o dia que vou achar airpods por m...\n",
       "5      tava pensando se esse airpods tinha valido o p...\n",
       "7             oh trenzin q doi os zovido é esses airpods\n",
       "                             ...                        \n",
       "583           passando 3 meses encontrei os meus airpods\n",
       "591    esqueci de carregar o airpods treinar sem músi...\n",
       "593                                 perdi meus airpods 🥲\n",
       "594    airpods compramos 2 um pra mim um pra minha es...\n",
       "596    meu deus quem disse q ter airpods era uma boa ...\n",
       "Name: Treinamento, Length: 220, dtype: object"
      ]
     },
     "execution_count": 170,
     "metadata": {},
     "output_type": "execute_result"
    }
   ],
   "source": [
    "#já foi dividido em rel. e irrel. pois depois não será possivel dividir por ser um df de apenas uma coluna \n",
    "train_relevantes_clean = train.loc[train[\"Classificacao_Treino\"] == 1, 'Treinamento'].apply(cleanup_links).apply(cleanup)\n",
    "train_relevantes_clean"
   ]
  },
  {
   "cell_type": "code",
   "execution_count": 171,
   "metadata": {},
   "outputs": [],
   "source": [
    "\n",
    "#train_rel_clean.astype(str)\n",
    "train_relevantes_lower = train_relevantes_clean.str.lower() #por que usar o .str ao inves de uma variavel-- Não quero trabalhar no dataset,mas em cada linha.\n",
    "train_relevantes = train_relevantes_lower.str.split()\n",
    "train_relevantes_clean = train_relevantes.apply(stopwords_funcao)\n"
   ]
  },
  {
   "cell_type": "code",
   "execution_count": 172,
   "metadata": {},
   "outputs": [
    {
     "data": {
      "text/plain": [
       "1      [airpods, pro, bom, qualidade, boa, sim, noise...\n",
       "2              [uns, airpods, estragados…, sorte, 🤦🏻‍♂️]\n",
       "4      [sonhando, dia, vou, achar, airpods, menos, 10...\n",
       "5      [tava, pensando, airpods, valido, preço, realm...\n",
       "7                 [oh, trenzin, q, doi, zovido, airpods]\n",
       "                             ...                        \n",
       "583             [passando, 3, meses, encontrei, airpods]\n",
       "591    [esqueci, carregar, airpods, treinar, música, ...\n",
       "593                                  [perdi, airpods, 🥲]\n",
       "594    [airpods, compramos, 2, pra, mim, pra, esposa,...\n",
       "596    [deus, disse, q, ter, airpods, boa, ideia, q, ...\n",
       "Name: Treinamento, Length: 220, dtype: object"
      ]
     },
     "execution_count": 172,
     "metadata": {},
     "output_type": "execute_result"
    }
   ],
   "source": [
    "type(train_relevantes_clean)\n",
    "train_relevantes_clean"
   ]
  },
  {
   "cell_type": "code",
   "execution_count": 173,
   "metadata": {},
   "outputs": [
    {
     "data": {
      "text/plain": [
       "0         airpods\n",
       "1             pro\n",
       "2             bom\n",
       "3       qualidade\n",
       "4             boa\n",
       "          ...    \n",
       "2148      airpods\n",
       "2149          boa\n",
       "2150        ideia\n",
       "2151            q\n",
       "2152      inferno\n",
       "Length: 2153, dtype: object"
      ]
     },
     "execution_count": 173,
     "metadata": {},
     "output_type": "execute_result"
    }
   ],
   "source": [
    "train_relevantes_l = []  #criando uma lista para englobar todas as outras listas criadas com o .split\n",
    "\n",
    "for palavras in train_relevantes_clean:\n",
    "    train_relevantes_l += palavras\n",
    "serie_train_relevantes = pd.Series(train_relevantes_l)\n",
    "serie_train_relevantes"
   ]
  },
  {
   "cell_type": "code",
   "execution_count": 174,
   "metadata": {},
   "outputs": [
    {
     "data": {
      "text/plain": [
       "airpods    222\n",
       "pra         32\n",
       "perdi       30\n",
       "q           29\n",
       "pro         25\n",
       "          ... \n",
       "quiser       1\n",
       "15000        1\n",
       "gloria       1\n",
       "ach          1\n",
       "coloca       1\n",
       "Length: 1061, dtype: int64"
      ]
     },
     "execution_count": 174,
     "metadata": {},
     "output_type": "execute_result"
    }
   ],
   "source": [
    "serie_train_relevantes_absoluta = serie_train_relevantes.value_counts()\n",
    "serie_train_relevantes_absoluta\n"
   ]
  },
  {
   "cell_type": "code",
   "execution_count": 175,
   "metadata": {},
   "outputs": [
    {
     "data": {
      "text/plain": [
       "0      alguem me da um apple watch 😭😭😭😭 um macbook pr...\n",
       "3      isso eu sei mas nem esperaria algo assim é que...\n",
       "6      sete anos atrás em 09092014 o valor do dólar e...\n",
       "8         queria tanto um fone airpods mas zero dinheiro\n",
       "9                                necessito de um airpods\n",
       "                             ...                        \n",
       "592    items do dreamcatcher para uma boa noite de so...\n",
       "595                     vale a pena pegar um airpods pro\n",
       "597                                 me compra um airpods\n",
       "598    cara de mau mas no airpods tá tocando harry st...\n",
       "599    algm tem link daquele airpods da shoppee q o i...\n",
       "Name: Treinamento, Length: 380, dtype: object"
      ]
     },
     "execution_count": 175,
     "metadata": {},
     "output_type": "execute_result"
    }
   ],
   "source": [
    "train_irrelevantes_clean = train.loc[train[\"Classificacao_Treino\"] == 0, 'Treinamento'].apply(cleanup_links).apply(cleanup)\n",
    "train_irrelevantes_clean\n"
   ]
  },
  {
   "cell_type": "code",
   "execution_count": 176,
   "metadata": {},
   "outputs": [],
   "source": [
    "train_irrelevantes_lower = train_irrelevantes_clean.str.lower() \n",
    "train_irrelevantes = train_irrelevantes_lower.str.split()\n",
    "train_irrelevantes_clean = train_irrelevantes.apply(stopwords_funcao)"
   ]
  },
  {
   "cell_type": "code",
   "execution_count": 177,
   "metadata": {},
   "outputs": [
    {
     "data": {
      "text/plain": [
       "pandas.core.series.Series"
      ]
     },
     "execution_count": 177,
     "metadata": {},
     "output_type": "execute_result"
    }
   ],
   "source": [
    "type(train_irrelevantes_clean)"
   ]
  },
  {
   "cell_type": "code",
   "execution_count": 178,
   "metadata": {},
   "outputs": [
    {
     "data": {
      "text/plain": [
       "0      [alguem, apple, watch, 😭😭😭😭, macbook, pro, air...\n",
       "3      [sei, esperaria, algo, assim, in, ficam, orelh...\n",
       "6      [sete, anos, atrás, 09092014, valor, dólar, r2...\n",
       "8         [queria, tanto, fone, airpods, zero, dinheiro]\n",
       "9                                   [necessito, airpods]\n",
       "                             ...                        \n",
       "592    [items, dreamcatcher, boa, noite, sono, 🐼, cub...\n",
       "595                    [vale, pena, pegar, airpods, pro]\n",
       "597                                    [compra, airpods]\n",
       "598     [cara, mau, airpods, tá, tocando, harry, styles]\n",
       "599    [algm, link, daquele, airpods, shoppee, q, iph...\n",
       "Name: Treinamento, Length: 380, dtype: object"
      ]
     },
     "execution_count": 178,
     "metadata": {},
     "output_type": "execute_result"
    }
   ],
   "source": [
    "train_irrelevantes_clean"
   ]
  },
  {
   "cell_type": "code",
   "execution_count": 179,
   "metadata": {},
   "outputs": [
    {
     "data": {
      "text/plain": [
       "0          alguem\n",
       "1           apple\n",
       "2           watch\n",
       "3            😭😭😭😭\n",
       "4         macbook\n",
       "          ...    \n",
       "4072      shoppee\n",
       "4073            q\n",
       "4074       iphone\n",
       "4075    reconhece\n",
       "4076     original\n",
       "Length: 4077, dtype: object"
      ]
     },
     "execution_count": 179,
     "metadata": {},
     "output_type": "execute_result"
    }
   ],
   "source": [
    "train_irrelevantes_l = []  #criando uma lista para englobar todas as outras listas criadas com o .split\n",
    "\n",
    "for palavras in train_irrelevantes_clean:\n",
    "    train_irrelevantes_l += palavras\n",
    "serie_train_irrelevantes = pd.Series(train_irrelevantes_l)\n",
    "serie_train_irrelevantes"
   ]
  },
  {
   "cell_type": "code",
   "execution_count": 180,
   "metadata": {},
   "outputs": [
    {
     "data": {
      "text/plain": [
       "airpods     389\n",
       "pro          71\n",
       "apple        62\n",
       "iphone       59\n",
       "comprar      54\n",
       "           ... \n",
       "mor           1\n",
       "fita          1\n",
       "explicar      1\n",
       "virou         1\n",
       "passa         1\n",
       "Length: 1589, dtype: int64"
      ]
     },
     "execution_count": 180,
     "metadata": {},
     "output_type": "execute_result"
    }
   ],
   "source": [
    "serie_train_irrelevantes_absoluta = serie_train_irrelevantes.value_counts()\n",
    "serie_train_irrelevantes_absoluta"
   ]
  },
  {
   "cell_type": "code",
   "execution_count": 181,
   "metadata": {},
   "outputs": [
    {
     "data": {
      "text/html": [
       "<div>\n",
       "<style scoped>\n",
       "    .dataframe tbody tr th:only-of-type {\n",
       "        vertical-align: middle;\n",
       "    }\n",
       "\n",
       "    .dataframe tbody tr th {\n",
       "        vertical-align: top;\n",
       "    }\n",
       "\n",
       "    .dataframe thead th {\n",
       "        text-align: right;\n",
       "    }\n",
       "</style>\n",
       "<table border=\"1\" class=\"dataframe\">\n",
       "  <thead>\n",
       "    <tr style=\"text-align: right;\">\n",
       "      <th></th>\n",
       "      <th>Teste</th>\n",
       "      <th>Classificacao_Teste</th>\n",
       "    </tr>\n",
       "  </thead>\n",
       "  <tbody>\n",
       "    <tr>\n",
       "      <th>0</th>\n",
       "      <td>favela venceu o pai lançou um airpods monstro</td>\n",
       "      <td>0</td>\n",
       "    </tr>\n",
       "    <tr>\n",
       "      <th>1</th>\n",
       "      <td>[weverse]  “namjoon oppa se eles lançarem airp...</td>\n",
       "      <td>0</td>\n",
       "    </tr>\n",
       "    <tr>\n",
       "      <th>2</th>\n",
       "      <td>comprei um fone tipo airpods e amei</td>\n",
       "      <td>0</td>\n",
       "    </tr>\n",
       "    <tr>\n",
       "      <th>3</th>\n",
       "      <td>army  se você sair do airpods 3você não vive  ...</td>\n",
       "      <td>0</td>\n",
       "    </tr>\n",
       "    <tr>\n",
       "      <th>4</th>\n",
       "      <td>ainda bem que foi o de fio porque se fosse os ...</td>\n",
       "      <td>0</td>\n",
       "    </tr>\n",
       "    <tr>\n",
       "      <th>...</th>\n",
       "      <td>...</td>\n",
       "      <td>...</td>\n",
       "    </tr>\n",
       "    <tr>\n",
       "      <th>295</th>\n",
       "      <td>vou querer um macbook um ipad um airpods um ap...</td>\n",
       "      <td>0</td>\n",
       "    </tr>\n",
       "    <tr>\n",
       "      <th>296</th>\n",
       "      <td>meu airpods até caiu da orelha</td>\n",
       "      <td>0</td>\n",
       "    </tr>\n",
       "    <tr>\n",
       "      <th>297</th>\n",
       "      <td>anonymous vazem o número do cartão do bolsonar...</td>\n",
       "      <td>0</td>\n",
       "    </tr>\n",
       "    <tr>\n",
       "      <th>298</th>\n",
       "      <td>meus airpods tão com o volume baixo</td>\n",
       "      <td>1</td>\n",
       "    </tr>\n",
       "    <tr>\n",
       "      <th>299</th>\n",
       "      <td>sorte que comprei airpods pro de r1990 no shop...</td>\n",
       "      <td>0</td>\n",
       "    </tr>\n",
       "  </tbody>\n",
       "</table>\n",
       "<p>300 rows × 2 columns</p>\n",
       "</div>"
      ],
      "text/plain": [
       "                                                 Teste  Classificacao_Teste\n",
       "0       favela venceu o pai lançou um airpods monstro                     0\n",
       "1    [weverse]  “namjoon oppa se eles lançarem airp...                    0\n",
       "2                  comprei um fone tipo airpods e amei                    0\n",
       "3    army  se você sair do airpods 3você não vive  ...                    0\n",
       "4    ainda bem que foi o de fio porque se fosse os ...                    0\n",
       "..                                                 ...                  ...\n",
       "295  vou querer um macbook um ipad um airpods um ap...                    0\n",
       "296                     meu airpods até caiu da orelha                    0\n",
       "297  anonymous vazem o número do cartão do bolsonar...                    0\n",
       "298                meus airpods tão com o volume baixo                    1\n",
       "299  sorte que comprei airpods pro de r1990 no shop...                    0\n",
       "\n",
       "[300 rows x 2 columns]"
      ]
     },
     "execution_count": 181,
     "metadata": {},
     "output_type": "execute_result"
    }
   ],
   "source": [
    "test[\"Teste\"] = test[\"Teste\"].apply(cleanup_links).apply(cleanup) #atualizar dataframe\n",
    "test"
   ]
  },
  {
   "cell_type": "code",
   "execution_count": 182,
   "metadata": {},
   "outputs": [
    {
     "data": {
      "text/html": [
       "<div>\n",
       "<style scoped>\n",
       "    .dataframe tbody tr th:only-of-type {\n",
       "        vertical-align: middle;\n",
       "    }\n",
       "\n",
       "    .dataframe tbody tr th {\n",
       "        vertical-align: top;\n",
       "    }\n",
       "\n",
       "    .dataframe thead th {\n",
       "        text-align: right;\n",
       "    }\n",
       "</style>\n",
       "<table border=\"1\" class=\"dataframe\">\n",
       "  <thead>\n",
       "    <tr style=\"text-align: right;\">\n",
       "      <th></th>\n",
       "      <th>Treinamento</th>\n",
       "      <th>Classificacao_Treino</th>\n",
       "    </tr>\n",
       "  </thead>\n",
       "  <tbody>\n",
       "    <tr>\n",
       "      <th>0</th>\n",
       "      <td>alguem me da um apple watch 😭😭😭😭 um macbook pr...</td>\n",
       "      <td>0</td>\n",
       "    </tr>\n",
       "    <tr>\n",
       "      <th>1</th>\n",
       "      <td>airpods pro é bom é qualidade boa sim noise ca...</td>\n",
       "      <td>1</td>\n",
       "    </tr>\n",
       "    <tr>\n",
       "      <th>2</th>\n",
       "      <td>mais uns airpods estragados… que sorte 🤦🏻‍♂️</td>\n",
       "      <td>1</td>\n",
       "    </tr>\n",
       "    <tr>\n",
       "      <th>3</th>\n",
       "      <td>isso eu sei mas nem esperaria algo assim é que...</td>\n",
       "      <td>0</td>\n",
       "    </tr>\n",
       "    <tr>\n",
       "      <th>4</th>\n",
       "      <td>sonhando com o dia que vou achar airpods por m...</td>\n",
       "      <td>1</td>\n",
       "    </tr>\n",
       "    <tr>\n",
       "      <th>...</th>\n",
       "      <td>...</td>\n",
       "      <td>...</td>\n",
       "    </tr>\n",
       "    <tr>\n",
       "      <th>595</th>\n",
       "      <td>vale a pena pegar um airpods pro</td>\n",
       "      <td>0</td>\n",
       "    </tr>\n",
       "    <tr>\n",
       "      <th>596</th>\n",
       "      <td>meu deus quem disse q ter airpods era uma boa ...</td>\n",
       "      <td>1</td>\n",
       "    </tr>\n",
       "    <tr>\n",
       "      <th>597</th>\n",
       "      <td>me compra um airpods</td>\n",
       "      <td>0</td>\n",
       "    </tr>\n",
       "    <tr>\n",
       "      <th>598</th>\n",
       "      <td>cara de mau mas no airpods tá tocando harry st...</td>\n",
       "      <td>0</td>\n",
       "    </tr>\n",
       "    <tr>\n",
       "      <th>599</th>\n",
       "      <td>algm tem link daquele airpods da shoppee q o i...</td>\n",
       "      <td>0</td>\n",
       "    </tr>\n",
       "  </tbody>\n",
       "</table>\n",
       "<p>600 rows × 2 columns</p>\n",
       "</div>"
      ],
      "text/plain": [
       "                                           Treinamento  Classificacao_Treino\n",
       "0    alguem me da um apple watch 😭😭😭😭 um macbook pr...                     0\n",
       "1    airpods pro é bom é qualidade boa sim noise ca...                     1\n",
       "2         mais uns airpods estragados… que sorte 🤦🏻‍♂️                     1\n",
       "3    isso eu sei mas nem esperaria algo assim é que...                     0\n",
       "4    sonhando com o dia que vou achar airpods por m...                     1\n",
       "..                                                 ...                   ...\n",
       "595                   vale a pena pegar um airpods pro                     0\n",
       "596  meu deus quem disse q ter airpods era uma boa ...                     1\n",
       "597                               me compra um airpods                     0\n",
       "598  cara de mau mas no airpods tá tocando harry st...                     0\n",
       "599  algm tem link daquele airpods da shoppee q o i...                     0\n",
       "\n",
       "[600 rows x 2 columns]"
      ]
     },
     "execution_count": 182,
     "metadata": {},
     "output_type": "execute_result"
    }
   ],
   "source": [
    "train[\"Treinamento\"]= train[\"Treinamento\"].apply(cleanup_links).apply(cleanup)\n",
    "train"
   ]
  },
  {
   "cell_type": "markdown",
   "metadata": {},
   "source": [
    "### Implementando a suavização de Laplace ###"
   ]
  },
  {
   "cell_type": "code",
   "execution_count": 183,
   "metadata": {},
   "outputs": [
    {
     "data": {
      "text/plain": [
       "1589"
      ]
     },
     "execution_count": 183,
     "metadata": {},
     "output_type": "execute_result"
    }
   ],
   "source": [
    "train_tamanho_irrelevantes = len(serie_train_irrelevantes_absoluta)\n",
    "train_tamanho_irrelevantes"
   ]
  },
  {
   "cell_type": "code",
   "execution_count": 184,
   "metadata": {},
   "outputs": [
    {
     "data": {
      "text/plain": [
       "1061"
      ]
     },
     "execution_count": 184,
     "metadata": {},
     "output_type": "execute_result"
    }
   ],
   "source": [
    "train_tamanho_relevantes = len(serie_train_relevantes_absoluta)\n",
    "train_tamanho_relevantes"
   ]
  },
  {
   "cell_type": "code",
   "execution_count": 185,
   "metadata": {},
   "outputs": [],
   "source": [
    "Dimensao = train_tamanho_irrelevantes + train_tamanho_relevantes\n",
    "D= Dimensao #Dimensão do nosso \"universo\" de palavras e emojis."
   ]
  },
  {
   "cell_type": "code",
   "execution_count": 186,
   "metadata": {},
   "outputs": [
    {
     "data": {
      "text/plain": [
       "2153"
      ]
     },
     "execution_count": 186,
     "metadata": {},
     "output_type": "execute_result"
    }
   ],
   "source": [
    "#Quantidade total de palavras em relevantes:\n",
    "Nr= len(train_relevantes_l)\n",
    "Nr"
   ]
  },
  {
   "cell_type": "code",
   "execution_count": 187,
   "metadata": {},
   "outputs": [
    {
     "data": {
      "text/plain": [
       "4077"
      ]
     },
     "execution_count": 187,
     "metadata": {},
     "output_type": "execute_result"
    }
   ],
   "source": [
    "#Quantidade total de palavras em irrelevantes:\n",
    "Ni= len(train_irrelevantes_l)\n",
    "Ni"
   ]
  },
  {
   "cell_type": "markdown",
   "metadata": {},
   "source": [
    "### Explicação das  três variáveis criadas: ###"
   ]
  },
  {
   "cell_type": "markdown",
   "metadata": {},
   "source": []
  },
  {
   "cell_type": "markdown",
   "metadata": {},
   "source": [
    "## Enfim o classificador: ##\n"
   ]
  },
  {
   "cell_type": "code",
   "execution_count": 188,
   "metadata": {},
   "outputs": [],
   "source": [
    "#Função que será executada com \"apply\":\n",
    "def classificador_suavizado(tweet):\n",
    "    prob_relevante=1\n",
    "    prob_irrelevante=1\n",
    "    alpha= 1\n",
    "    lista_palavras = tweet.split()\n",
    "    for palavra in lista_palavras:\n",
    "        \n",
    "        #Como vimos que, quando o termo não existia na lista, dava erro pois não se igualava à zero automaticamente:\n",
    "        if palavra not in train_relevantes_l:\n",
    "            serie_train_relevantes_absoluta[palavra]=0\n",
    "        \n",
    "        elif palavra not in train_irrelevantes_l:\n",
    "            serie_train_irrelevantes_absoluta[palavra]=0\n",
    "            \n",
    "        if palavra in train_relevantes_l and palavra in train_irrelevantes_l:\n",
    "            prob_relevante*= (serie_train_relevantes_absoluta[palavra]+1)/ (Nr+D)\n",
    "            prob_irrelevante*= (serie_train_irrelevantes_absoluta[palavra]+1)/ (Ni+D)\n",
    "        \n",
    "    #Em vez do que está abaixo, acrescentar em uma coluna nova a classficação feita pela maquina (Para comparar posteriormente com a nossa feita à mão)\n",
    "    if prob_relevante>prob_irrelevante:\n",
    "        return 1\n",
    "    else:\n",
    "        return 0\n"
   ]
  },
  {
   "cell_type": "code",
   "execution_count": 189,
   "metadata": {},
   "outputs": [
    {
     "name": "stdout",
     "output_type": "stream",
     "text": [
      "0\n"
     ]
    }
   ],
   "source": [
    "#Teste da função:\n",
    "tweet=\"airpods não funciona\"\n",
    "print(classificador_suavizado(tweet))"
   ]
  },
  {
   "cell_type": "code",
   "execution_count": 190,
   "metadata": {},
   "outputs": [],
   "source": [
    "test[\"classificacao_modelo\"]= test[\"Teste\"].apply(classificador_suavizado)"
   ]
  },
  {
   "cell_type": "code",
   "execution_count": 191,
   "metadata": {},
   "outputs": [
    {
     "data": {
      "text/plain": [
       "0    0.663333\n",
       "1    0.336667\n",
       "Name: classificacao_modelo, dtype: float64"
      ]
     },
     "execution_count": 191,
     "metadata": {},
     "output_type": "execute_result"
    }
   ],
   "source": [
    "test[\"classificacao_modelo\"].value_counts(True)"
   ]
  },
  {
   "cell_type": "code",
   "execution_count": 192,
   "metadata": {},
   "outputs": [
    {
     "data": {
      "text/html": [
       "<div>\n",
       "<style scoped>\n",
       "    .dataframe tbody tr th:only-of-type {\n",
       "        vertical-align: middle;\n",
       "    }\n",
       "\n",
       "    .dataframe tbody tr th {\n",
       "        vertical-align: top;\n",
       "    }\n",
       "\n",
       "    .dataframe thead th {\n",
       "        text-align: right;\n",
       "    }\n",
       "</style>\n",
       "<table border=\"1\" class=\"dataframe\">\n",
       "  <thead>\n",
       "    <tr style=\"text-align: right;\">\n",
       "      <th></th>\n",
       "      <th>Teste</th>\n",
       "      <th>Classificacao_Teste</th>\n",
       "      <th>classificacao_modelo</th>\n",
       "    </tr>\n",
       "  </thead>\n",
       "  <tbody>\n",
       "    <tr>\n",
       "      <th>0</th>\n",
       "      <td>favela venceu o pai lançou um airpods monstro</td>\n",
       "      <td>0</td>\n",
       "      <td>0</td>\n",
       "    </tr>\n",
       "    <tr>\n",
       "      <th>1</th>\n",
       "      <td>[weverse]  “namjoon oppa se eles lançarem airp...</td>\n",
       "      <td>0</td>\n",
       "      <td>0</td>\n",
       "    </tr>\n",
       "    <tr>\n",
       "      <th>2</th>\n",
       "      <td>comprei um fone tipo airpods e amei</td>\n",
       "      <td>0</td>\n",
       "      <td>1</td>\n",
       "    </tr>\n",
       "    <tr>\n",
       "      <th>3</th>\n",
       "      <td>army  se você sair do airpods 3você não vive  ...</td>\n",
       "      <td>0</td>\n",
       "      <td>0</td>\n",
       "    </tr>\n",
       "    <tr>\n",
       "      <th>4</th>\n",
       "      <td>ainda bem que foi o de fio porque se fosse os ...</td>\n",
       "      <td>0</td>\n",
       "      <td>0</td>\n",
       "    </tr>\n",
       "    <tr>\n",
       "      <th>...</th>\n",
       "      <td>...</td>\n",
       "      <td>...</td>\n",
       "      <td>...</td>\n",
       "    </tr>\n",
       "    <tr>\n",
       "      <th>295</th>\n",
       "      <td>vou querer um macbook um ipad um airpods um ap...</td>\n",
       "      <td>0</td>\n",
       "      <td>0</td>\n",
       "    </tr>\n",
       "    <tr>\n",
       "      <th>296</th>\n",
       "      <td>meu airpods até caiu da orelha</td>\n",
       "      <td>0</td>\n",
       "      <td>1</td>\n",
       "    </tr>\n",
       "    <tr>\n",
       "      <th>297</th>\n",
       "      <td>anonymous vazem o número do cartão do bolsonar...</td>\n",
       "      <td>0</td>\n",
       "      <td>0</td>\n",
       "    </tr>\n",
       "    <tr>\n",
       "      <th>298</th>\n",
       "      <td>meus airpods tão com o volume baixo</td>\n",
       "      <td>1</td>\n",
       "      <td>0</td>\n",
       "    </tr>\n",
       "    <tr>\n",
       "      <th>299</th>\n",
       "      <td>sorte que comprei airpods pro de r1990 no shop...</td>\n",
       "      <td>0</td>\n",
       "      <td>0</td>\n",
       "    </tr>\n",
       "  </tbody>\n",
       "</table>\n",
       "<p>300 rows × 3 columns</p>\n",
       "</div>"
      ],
      "text/plain": [
       "                                                 Teste  Classificacao_Teste  \\\n",
       "0       favela venceu o pai lançou um airpods monstro                     0   \n",
       "1    [weverse]  “namjoon oppa se eles lançarem airp...                    0   \n",
       "2                  comprei um fone tipo airpods e amei                    0   \n",
       "3    army  se você sair do airpods 3você não vive  ...                    0   \n",
       "4    ainda bem que foi o de fio porque se fosse os ...                    0   \n",
       "..                                                 ...                  ...   \n",
       "295  vou querer um macbook um ipad um airpods um ap...                    0   \n",
       "296                     meu airpods até caiu da orelha                    0   \n",
       "297  anonymous vazem o número do cartão do bolsonar...                    0   \n",
       "298                meus airpods tão com o volume baixo                    1   \n",
       "299  sorte que comprei airpods pro de r1990 no shop...                    0   \n",
       "\n",
       "     classificacao_modelo  \n",
       "0                       0  \n",
       "1                       0  \n",
       "2                       1  \n",
       "3                       0  \n",
       "4                       0  \n",
       "..                    ...  \n",
       "295                     0  \n",
       "296                     1  \n",
       "297                     0  \n",
       "298                     0  \n",
       "299                     0  \n",
       "\n",
       "[300 rows x 3 columns]"
      ]
     },
     "execution_count": 192,
     "metadata": {},
     "output_type": "execute_result"
    }
   ],
   "source": [
    "test"
   ]
  },
  {
   "cell_type": "markdown",
   "metadata": {},
   "source": [
    "___\n",
    "### Verificando a performance do Classificador\n",
    "\n",
    "Agora você deve testar o seu classificador com a base de Testes."
   ]
  },
  {
   "cell_type": "code",
   "execution_count": 193,
   "metadata": {},
   "outputs": [
    {
     "data": {
      "text/plain": [
       "0    0.663333\n",
       "1    0.336667\n",
       "Name: classificacao_modelo, dtype: float64"
      ]
     },
     "execution_count": 193,
     "metadata": {},
     "output_type": "execute_result"
    }
   ],
   "source": [
    "#Ver qual foi a distribuição do modelo\n",
    "test[\"classificacao_modelo\"].value_counts(True)"
   ]
  },
  {
   "cell_type": "code",
   "execution_count": 194,
   "metadata": {},
   "outputs": [
    {
     "data": {
      "text/plain": [
       "0    0.713333\n",
       "1    0.286667\n",
       "Name: Classificacao_Teste, dtype: float64"
      ]
     },
     "execution_count": 194,
     "metadata": {},
     "output_type": "execute_result"
    }
   ],
   "source": [
    "#Ver a distribuição que colocamos\n",
    "test[\"Classificacao_Teste\"].value_counts(True)"
   ]
  },
  {
   "cell_type": "markdown",
   "metadata": {},
   "source": [
    "### Porcentagem de erros e acertos:"
   ]
  },
  {
   "cell_type": "code",
   "execution_count": 195,
   "metadata": {},
   "outputs": [
    {
     "data": {
      "text/html": [
       "<div>\n",
       "<style scoped>\n",
       "    .dataframe tbody tr th:only-of-type {\n",
       "        vertical-align: middle;\n",
       "    }\n",
       "\n",
       "    .dataframe tbody tr th {\n",
       "        vertical-align: top;\n",
       "    }\n",
       "\n",
       "    .dataframe thead th {\n",
       "        text-align: right;\n",
       "    }\n",
       "</style>\n",
       "<table border=\"1\" class=\"dataframe\">\n",
       "  <thead>\n",
       "    <tr style=\"text-align: right;\">\n",
       "      <th>classificacao_modelo</th>\n",
       "      <th>0</th>\n",
       "      <th>1</th>\n",
       "    </tr>\n",
       "    <tr>\n",
       "      <th>Classificacao_Teste</th>\n",
       "      <th></th>\n",
       "      <th></th>\n",
       "    </tr>\n",
       "  </thead>\n",
       "  <tbody>\n",
       "    <tr>\n",
       "      <th>0</th>\n",
       "      <td>54.666667</td>\n",
       "      <td>16.666667</td>\n",
       "    </tr>\n",
       "    <tr>\n",
       "      <th>1</th>\n",
       "      <td>11.666667</td>\n",
       "      <td>17.000000</td>\n",
       "    </tr>\n",
       "  </tbody>\n",
       "</table>\n",
       "</div>"
      ],
      "text/plain": [
       "classificacao_modelo          0          1\n",
       "Classificacao_Teste                       \n",
       "0                     54.666667  16.666667\n",
       "1                     11.666667  17.000000"
      ]
     },
     "execution_count": 195,
     "metadata": {},
     "output_type": "execute_result"
    }
   ],
   "source": [
    "#Matriz de confusão--Pesquisar\n",
    "mat_porcentagem=pd.crosstab(test.Classificacao_Teste, test.classificacao_modelo, normalize=True)*100 #Multiplicar po 100 porque é porcentagem!\n",
    "mat_porcentagem"
   ]
  },
  {
   "cell_type": "markdown",
   "metadata": {},
   "source": [
    "### Acurácia:"
   ]
  },
  {
   "cell_type": "code",
   "execution_count": 196,
   "metadata": {},
   "outputs": [
    {
     "data": {
      "text/plain": [
       "71.66666666666666"
      ]
     },
     "execution_count": 196,
     "metadata": {},
     "output_type": "execute_result"
    }
   ],
   "source": [
    "#Será aquelas em que ambos marcaram 0 e 1:\n",
    "acuracia= mat_porcentagem[0][0]+mat_porcentagem[1][1]  #Coluna/ linha\n",
    "acuracia"
   ]
  },
  {
   "cell_type": "markdown",
   "metadata": {},
   "source": [
    "___\n",
    "### Concluindo"
   ]
  },
  {
   "cell_type": "markdown",
   "metadata": {},
   "source": [
    "### Sobre a performance:"
   ]
  },
  {
   "cell_type": "code",
   "execution_count": null,
   "metadata": {},
   "outputs": [],
   "source": []
  },
  {
   "cell_type": "code",
   "execution_count": null,
   "metadata": {},
   "outputs": [],
   "source": []
  },
  {
   "cell_type": "markdown",
   "metadata": {},
   "source": [
    "___\n",
    "### Qualidade do Classificador a partir de novas separações dos tweets entre Treinamento e Teste\n",
    "\n",
    "Caso for fazer esse item do Projeto"
   ]
  },
  {
   "cell_type": "code",
   "execution_count": 197,
   "metadata": {},
   "outputs": [],
   "source": [
    "def classificador_suavizado_geral(tweet):\n",
    "    prob_relevante=1\n",
    "    prob_irrelevante=1\n",
    "    alpha= 1\n",
    "    lista_palavras = tweet.split()\n",
    "    for palavra in lista_palavras:\n",
    "        \n",
    "        #Como vimos que, quando o termo não existia na lista, dava erro pois não se igualava à zero automaticamente:\n",
    "        if palavra not in train_r_l:\n",
    "              train_r_abs[palavra]=0\n",
    "        \n",
    "        elif palavra not in train_i_l:\n",
    "              train_i_abs[palavra]=0\n",
    "            \n",
    "        if palavra in train_i_l and palavra in train_r_l:\n",
    "            prob_relevante*= (train_r_abs[palavra]+1)/ (Nr+D)\n",
    "            prob_irrelevante*= (train_i_abs[palavra]+1)/ (Ni+D)\n",
    "        \n",
    "    #Em vez do que está abaixo, acrescentar em uma coluna nova a classficação feita pela maquina (Para comparar posteriormente com a nossa feita à mão)\n",
    "    if prob_relevante>prob_irrelevante:\n",
    "        return 1\n",
    "    else:\n",
    "        return 0"
   ]
  },
  {
   "cell_type": "code",
   "execution_count": 198,
   "metadata": {},
   "outputs": [],
   "source": [
    "testcopy= test.drop([\"classificacao_modelo\"], axis=1)\n",
    "testcopy= testcopy.rename(columns={\"Teste\": \"Treinamento\", \"Classificacao_Teste\": \"Classificacao_Treino\"})\n",
    "traincopy= train.copy()\n",
    "novoframe= pd.concat([traincopy, testcopy], ignore_index=True)"
   ]
  },
  {
   "cell_type": "code",
   "execution_count": 199,
   "metadata": {},
   "outputs": [
    {
     "data": {
      "text/html": [
       "<div>\n",
       "<style scoped>\n",
       "    .dataframe tbody tr th:only-of-type {\n",
       "        vertical-align: middle;\n",
       "    }\n",
       "\n",
       "    .dataframe tbody tr th {\n",
       "        vertical-align: top;\n",
       "    }\n",
       "\n",
       "    .dataframe thead th {\n",
       "        text-align: right;\n",
       "    }\n",
       "</style>\n",
       "<table border=\"1\" class=\"dataframe\">\n",
       "  <thead>\n",
       "    <tr style=\"text-align: right;\">\n",
       "      <th></th>\n",
       "      <th>Treinamento</th>\n",
       "      <th>Classificacao_Treino</th>\n",
       "    </tr>\n",
       "  </thead>\n",
       "  <tbody>\n",
       "    <tr>\n",
       "      <th>0</th>\n",
       "      <td>alguem me da um apple watch 😭😭😭😭 um macbook pr...</td>\n",
       "      <td>0</td>\n",
       "    </tr>\n",
       "    <tr>\n",
       "      <th>1</th>\n",
       "      <td>airpods pro é bom é qualidade boa sim noise ca...</td>\n",
       "      <td>1</td>\n",
       "    </tr>\n",
       "    <tr>\n",
       "      <th>2</th>\n",
       "      <td>mais uns airpods estragados… que sorte 🤦🏻‍♂️</td>\n",
       "      <td>1</td>\n",
       "    </tr>\n",
       "    <tr>\n",
       "      <th>3</th>\n",
       "      <td>isso eu sei mas nem esperaria algo assim é que...</td>\n",
       "      <td>0</td>\n",
       "    </tr>\n",
       "    <tr>\n",
       "      <th>4</th>\n",
       "      <td>sonhando com o dia que vou achar airpods por m...</td>\n",
       "      <td>1</td>\n",
       "    </tr>\n",
       "    <tr>\n",
       "      <th>...</th>\n",
       "      <td>...</td>\n",
       "      <td>...</td>\n",
       "    </tr>\n",
       "    <tr>\n",
       "      <th>895</th>\n",
       "      <td>vou querer um macbook um ipad um airpods um ap...</td>\n",
       "      <td>0</td>\n",
       "    </tr>\n",
       "    <tr>\n",
       "      <th>896</th>\n",
       "      <td>meu airpods até caiu da orelha</td>\n",
       "      <td>0</td>\n",
       "    </tr>\n",
       "    <tr>\n",
       "      <th>897</th>\n",
       "      <td>anonymous vazem o número do cartão do bolsonar...</td>\n",
       "      <td>0</td>\n",
       "    </tr>\n",
       "    <tr>\n",
       "      <th>898</th>\n",
       "      <td>meus airpods tão com o volume baixo</td>\n",
       "      <td>1</td>\n",
       "    </tr>\n",
       "    <tr>\n",
       "      <th>899</th>\n",
       "      <td>sorte que comprei airpods pro de r1990 no shop...</td>\n",
       "      <td>0</td>\n",
       "    </tr>\n",
       "  </tbody>\n",
       "</table>\n",
       "<p>900 rows × 2 columns</p>\n",
       "</div>"
      ],
      "text/plain": [
       "                                           Treinamento  Classificacao_Treino\n",
       "0    alguem me da um apple watch 😭😭😭😭 um macbook pr...                     0\n",
       "1    airpods pro é bom é qualidade boa sim noise ca...                     1\n",
       "2         mais uns airpods estragados… que sorte 🤦🏻‍♂️                     1\n",
       "3    isso eu sei mas nem esperaria algo assim é que...                     0\n",
       "4    sonhando com o dia que vou achar airpods por m...                     1\n",
       "..                                                 ...                   ...\n",
       "895  vou querer um macbook um ipad um airpods um ap...                     0\n",
       "896                     meu airpods até caiu da orelha                     0\n",
       "897  anonymous vazem o número do cartão do bolsonar...                     0\n",
       "898                meus airpods tão com o volume baixo                     1\n",
       "899  sorte que comprei airpods pro de r1990 no shop...                     0\n",
       "\n",
       "[900 rows x 2 columns]"
      ]
     },
     "execution_count": 199,
     "metadata": {},
     "output_type": "execute_result"
    }
   ],
   "source": [
    "novoframe"
   ]
  },
  {
   "cell_type": "code",
   "execution_count": 200,
   "metadata": {},
   "outputs": [],
   "source": [
    "all_i = novoframe.loc[novoframe[\"Classificacao_Treino\"] == 0 , :].copy()\n",
    "all_i[\"Treinamento\"] = all_i.loc[:, 'Treinamento'].apply(cleanup_links).apply(cleanup)\n",
    "\n",
    "all_r = novoframe.loc[novoframe[\"Classificacao_Treino\"] == 1, :].copy()\n",
    "all_r[\"Treinamento\"] = all_r.loc[: , \"Treinamento\"].apply(cleanup_links).apply(cleanup)"
   ]
  },
  {
   "cell_type": "code",
   "execution_count": 207,
   "metadata": {},
   "outputs": [],
   "source": [
    "def dividir(all_i, all_r):\n",
    "    #Separar aleatoriamente as listas- USO DE SPLIT SKLEARN\n",
    "    test_random_i, train_random_i=train_test_split(all_i, test_size=0.33,  train_size=1-0.33, shuffle=True)     \n",
    "    test_random_r, train_random_r=train_test_split(all_r, test_size=0.33,  train_size=1-0.33, shuffle=True) \n",
    "    todos= [test_random_r, train_random_r, test_random_i, train_random_i]\n",
    "    return  todos"
   ]
  },
  {
   "cell_type": "code",
   "execution_count": 213,
   "metadata": {},
   "outputs": [
    {
     "name": "stdout",
     "output_type": "stream",
     "text": [
      "[28.333333333333343]\n",
      "[71.66666666666666]\n"
     ]
    }
   ],
   "source": [
    "#Teste da Função dividir\n",
    "acertos_lista=[]\n",
    "erros_lista=[]\n",
    "\n",
    "lista_randomizada= dividir(all_i, all_r)\n",
    "test_random_r= lista_randomizada[0]\n",
    "train_random_r= lista_randomizada[1]\n",
    "test_random_i= lista_randomizada[2]\n",
    "train_random_i=lista_randomizada[3]\n",
    "#print(train_random_i)\n",
    "\n",
    "test_random=pd.concat([test_random_i,test_random_r],ignore_index=True)\n",
    "train_random=pd.concat([train_random_i,train_random_r],ignore_index=True)\n",
    "#print(train_random)\n",
    "\n",
    "train_random_i_lower = train_random_i[\"Treinamento\"].str.lower()\n",
    "train_random_i_split=train_random_i_lower.str.split()\n",
    "train_random_i_clean = train_random_i_split.apply(stopwords_funcao)\n",
    "#print(train_random_i_clean)\n",
    "\n",
    "train_random_r_lower = train_random_r[\"Treinamento\"].str.lower()\n",
    "train_random_r_split= train_random_r_lower.str.split()\n",
    "train_random_r_clean = train_random_r_split.apply(stopwords_funcao)\n",
    "#print(train_random_r_clean)\n",
    "\n",
    "train_r_l=[]\n",
    "train_i_l=[]\n",
    "\n",
    "for palavras in train_random_r_clean:\n",
    "    train_r_l += palavras\n",
    "for palavras in train_random_i_clean:\n",
    "    train_i_l += palavras\n",
    "\n",
    "serie_train_r = pd.Series(train_r_l)\n",
    "serie_train_i = pd.Series(train_i_l)\n",
    "#print(serie_train_r)\n",
    "\n",
    "train_i_abs=serie_train_i.value_counts()\n",
    "train_r_abs=serie_train_r.value_counts()\n",
    "#print(train_r_abs)\n",
    "\n",
    "Nr= len(train_r_l)\n",
    "Ni= len(train_i_l)\n",
    "#print(Ni)\n",
    "\n",
    "#Aplicar função:\n",
    "test_random[\"classificacao_modelo\"]= test_random[\"Treinamento\"].apply(classificador_suavizado_geral)\n",
    "#print(test_random[\"classificacao_modelo\"])\n",
    "\n",
    "#Retornar\n",
    "mat_porcentagem01=pd.crosstab(test_random.Classificacao_Treino, test_random.classificacao_modelo, normalize=True)*100 \n",
    "acertos= mat_porcentagem[1][1] + mat_porcentagem[0][0]\n",
    "erros= 100-acertos\n",
    "#print(erros)\n",
    "\n",
    "#Listas para o histograma\n",
    "acertos_lista.append(acertos)\n",
    "erros_lista.append(erros)\n",
    "\n",
    "print(erros_lista)\n",
    "print(acertos_lista)"
   ]
  },
  {
   "cell_type": "code",
   "execution_count": 215,
   "metadata": {},
   "outputs": [
    {
     "name": "stdout",
     "output_type": "stream",
     "text": [
      "1\n",
      "2\n",
      "3\n",
      "4\n",
      "5\n",
      "6\n",
      "7\n",
      "8\n",
      "9\n",
      "10\n",
      "11\n",
      "12\n",
      "13\n",
      "14\n",
      "15\n",
      "16\n",
      "17\n",
      "18\n",
      "19\n",
      "20\n",
      "21\n",
      "22\n",
      "23\n",
      "24\n",
      "25\n",
      "26\n",
      "27\n",
      "28\n",
      "29\n",
      "30\n",
      "31\n",
      "32\n",
      "33\n",
      "34\n",
      "35\n",
      "36\n",
      "37\n",
      "38\n",
      "39\n",
      "40\n",
      "41\n",
      "42\n",
      "43\n",
      "44\n",
      "45\n",
      "46\n",
      "47\n",
      "48\n",
      "49\n",
      "50\n",
      "51\n",
      "52\n",
      "53\n",
      "54\n",
      "55\n",
      "56\n",
      "57\n",
      "58\n",
      "59\n",
      "60\n",
      "61\n",
      "62\n",
      "63\n",
      "64\n",
      "65\n",
      "66\n",
      "67\n",
      "68\n",
      "69\n",
      "70\n",
      "71\n",
      "72\n",
      "73\n",
      "74\n",
      "75\n",
      "76\n",
      "77\n",
      "78\n",
      "79\n",
      "80\n",
      "81\n",
      "82\n",
      "83\n",
      "84\n",
      "85\n",
      "86\n",
      "87\n",
      "88\n",
      "89\n",
      "90\n",
      "91\n",
      "92\n",
      "93\n",
      "94\n",
      "95\n",
      "96\n",
      "97\n",
      "98\n",
      "99\n",
      "100\n"
     ]
    }
   ],
   "source": [
    "from sklearn.model_selection import train_test_split\n",
    "acertos_lista=[]\n",
    "erros_lista=[]\n",
    "\n",
    "for i in range (1,101): \n",
    "    lista_randomizada= dividir(all_i, all_r)\n",
    "    test_random_r= lista_randomizada[0]\n",
    "    train_random_r= lista_randomizada[1]\n",
    "    test_random_i= lista_randomizada[2]\n",
    "    train_random_i=lista_randomizada[3]\n",
    "    #print(train_random_i)\n",
    "    \n",
    "    test_random=pd.concat([test_random_i,test_random_r],ignore_index=True)\n",
    "    train_random=pd.concat([train_random_i,train_random_r],ignore_index=True)\n",
    "    #print(train_random)\n",
    "    \n",
    "    train_random_i_lower = train_random_i[\"Treinamento\"].str.lower()\n",
    "    train_random_i_split=train_random_i_lower.str.split()\n",
    "    train_random_i_clean = train_random_i_split.apply(stopwords_funcao)\n",
    "    #print(train_random_i_clean)\n",
    "    \n",
    "    train_random_r_lower = train_random_r[\"Treinamento\"].str.lower()\n",
    "    train_random_r_split= train_random_r_lower.str.split()\n",
    "    train_random_r_clean = train_random_r_split.apply(stopwords_funcao)\n",
    "    #print(train_random_r_clean)\n",
    "    \n",
    "    train_r_l=[]\n",
    "    train_i_l=[]\n",
    "    \n",
    "    for palavras in train_random_r_clean:\n",
    "        train_r_l += palavras\n",
    "    for palavras in train_random_i_clean:\n",
    "        train_i_l += palavras\n",
    "        \n",
    "    serie_train_r = pd.Series(train_r_l)\n",
    "    serie_train_i = pd.Series(train_i_l)\n",
    "    #print(serie_train_r)\n",
    "    \n",
    "    train_i_abs=serie_train_i.value_counts()\n",
    "    train_r_abs=serie_train_r.value_counts()\n",
    "    #print(train_r_abs)\n",
    "    \n",
    "    Nr= len(train_r_l)\n",
    "    Ni= len(train_i_l)\n",
    "    #print(Ni)\n",
    "    \n",
    "    #Aplicar função:\n",
    "    test_random[\"classificacao_modelo\"]= test_random[\"Treinamento\"].apply(classificador_suavizado_geral)\n",
    "    #print(test_random[\"classificacao_modelo\"])\n",
    "    \n",
    "    #Retornar\n",
    "    mat_porcentagem01=pd.crosstab(test_random.Classificacao_Treino, test_random.classificacao_modelo, normalize=True)*100 \n",
    "    acertos= mat_porcentagem[1][1] + mat_porcentagem[0][0]\n",
    "    erros= 100-acertos\n",
    "    #print(erros)\n",
    "    \n",
    "    #Listas para o histograma\n",
    "    acertos_lista.append(acertos)\n",
    "    erros_lista.append(erros)\n",
    "    print(i)"
   ]
  },
  {
   "cell_type": "markdown",
   "metadata": {},
   "source": [
    "## Construindo o histograma da qualidade do classificador:"
   ]
  },
  {
   "cell_type": "code",
   "execution_count": 216,
   "metadata": {},
   "outputs": [
    {
     "name": "stdout",
     "output_type": "stream",
     "text": [
      "100.0\n"
     ]
    },
    {
     "data": {
      "text/plain": [
       "Text(0, 0.5, 'Densidade')"
      ]
     },
     "execution_count": 216,
     "metadata": {},
     "output_type": "execute_result"
    },
    {
     "data": {
      "image/png": "[encoded data removed]",
      "text/plain": [
       "<Figure size 1080x360 with 2 Axes>"
      ]
     },
     "metadata": {
      "needs_background": "light"
     },
     "output_type": "display_data"
    }
   ],
   "source": [
    "plt.figure(figsize=(15, 5))\n",
    "\n",
    "print(acertos_lista[0]+erros_lista[0])\n",
    "\n",
    "plt.subplot(121) \n",
    "plt.hist(erros_lista, edgecolor='white', color='red',density=True)\n",
    "plt.title('Porcentagem de erros')\n",
    "plt.ylabel('Densidade')\n",
    "\n",
    "plt.subplot(122) \n",
    "plt.hist(acertos_lista , edgecolor='white', color=\"green\",density=True)\n",
    "plt.title('Porcentagem de acertos')\n",
    "plt.ylabel('Densidade')"
   ]
  },
  {
   "cell_type": "markdown",
   "metadata": {},
   "source": [
    "# • Diferentes cenários para a aplicação de Naïve Bayes: #"
   ]
  },
  {
   "cell_type": "markdown",
   "metadata": {},
   "source": [
    "• Naive Bayes pode ser implementado quando há a necessidade de se diferenciar e-mails comuns, e-mails com assuntos voltados a business, e-mails voltados a notícias ou e-mails que são SPAM. \n",
    "\n",
    "• Utilizar Naive Bayes para se ter um panorama da probabilidade de contágio ou não-contágio de pessoas expostas ao coronavírus, baseando-se em características fisiológicas de cada uma, por exemplo.\n",
    " \n",
    "• Classificar a faixa etária de um público com base no vocabulário e abreviações utilizadas nas redes sociais.\n"
   ]
  },
  {
   "cell_type": "markdown",
   "metadata": {},
   "source": [
    "# • Por quê não se pode usar o classificador para gerar mais amostras?"
   ]
  },
  {
   "cell_type": "markdown",
   "metadata": {},
   "source": [
    "• Não se pode usar o classificador para gerar mais amostras de treinamento pois recai em um ponto não desejado em uma análise de probabilidades: Enviezar a pesquisa. A base de treinamento é elaborada da forma mais confiável possível, nesse caso, elaborada diretamente por seres humanos, que conseguem, a partir de sua interpretação de cada amostra, mostrar exatamentente quais são as informações relevantes ou não.\n",
    "\n",
    "  Quando se trata do classificador já é implementada a noção de probabilidade, o que já abre espaço para erros. Dessa forma, usando o classificador para gerar mais amostras leva a conclusão de que as classificações incorretas, que podem ser cometidas, serão perpetuadas por todos os futuros processos com a ferramenta.\n",
    " "
   ]
  },
  {
   "cell_type": "markdown",
   "metadata": {},
   "source": [
    "# • Sugestão e implementação de melhorias no classificador:"
   ]
  },
  {
   "cell_type": "markdown",
   "metadata": {},
   "source": [
    "### PERGUNTAR QUINTA\n",
    "\n",
    "Utilizar mais fontes dos comentários (Youtube, facebook, instagram...) E comparar para descobrir qual fonte apresenta uma possibiidade maior de oferecer comentarios relevantes.\n",
    "\n",
    "Na função de limpeza stopwords acrescentar as abreviações mais comuns do português nas redes sociais.\n",
    "\n",
    "Em conjunto com a limpeza citada anteriormente, um modo em que o computador considere palavras/frases iguais em ambas as formas: Abreviada e por extenso. Exemplo: \"mto\" == \"muito\" ; \"vdc\" == \"Vai dar certo\".\n",
    "\n"
   ]
  },
  {
   "cell_type": "markdown",
   "metadata": {},
   "source": [
    "___\n",
    "## Aperfeiçoamento:\n",
    "\n",
    "Trabalhos que conseguirem pelo menos conceito B vão evoluir em conceito dependendo da quantidade de itens avançados:\n",
    "\n",
    "* IMPLEMENTOU outras limpezas e transformações que não afetem a qualidade da informação contida nos tweets. Ex: stemming, lemmatization, stopwords\n",
    "\n",
    "* PROPÔS diferentes cenários para Naïve Bayes fora do contexto do projeto\n",
    "\n",
    "* CORRIGIU separação de espaços entre palavras e emojis ou entre emojis e emojis\n",
    "\n",
    "* EXPLICOU porquê não pode usar o próprio classificador para gerar mais amostras de treinamento\n",
    "\n",
    "_____________________________________________________________________________________________________________________\n",
    "* CRIOU categorias intermediárias de relevância baseadas na probabilidade: ex.: muito relevante, relevante, neutro, irrelevante, muito irrelevante. Pelo menos quatro categorias, com adição de mais tweets na base, conforme enunciado. (OBRIGATÓRIO PARA TRIOS, sem contar como item avançado)\n",
    "* SUGERIU e EXPLICOU melhorias reais com indicações concretas de como implementar (indicar como fazer e indicar material de pesquisa)\n",
    "* FEZ o item 6. Qualidade do Classificador a partir de novas separações dos tweets entre Treinamento e Teste descrito no enunciado do projeto (OBRIGATÓRIO para conceitos A ou A+)"
   ]
  },
  {
   "cell_type": "markdown",
   "metadata": {},
   "source": [
    "___\n",
    "## Referências"
   ]
  },
  {
   "cell_type": "markdown",
   "metadata": {},
   "source": [
    "[Naive Bayes and Text Classification](https://arxiv.org/pdf/1410.5329.pdf)  **Mais completo**\n",
    "\n",
    "[A practical explanation of a Naive Bayes Classifier](https://monkeylearn.com/blog/practical-explanation-naive-bayes-classifier/) **Mais simples**"
   ]
  },
  {
   "cell_type": "code",
   "execution_count": null,
   "metadata": {},
   "outputs": [],
   "source": []
  }
 ],
 "metadata": {
  "kernelspec": {
   "display_name": "Python 3",
   "language": "python",
   "name": "python3"
  },
  "language_info": {
   "codemirror_mode": {
    "name": "ipython",
    "version": 3
   },
   "file_extension": ".py",
   "mimetype": "text/x-python",
   "name": "python",
   "nbconvert_exporter": "python",
   "pygments_lexer": "ipython3",
   "version": "3.8.5"
  }
 },
 "nbformat": 4,
 "nbformat_minor": 4
}
