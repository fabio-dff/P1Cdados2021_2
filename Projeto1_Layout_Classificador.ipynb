{
 "cells": [
  {
   "cell_type": "markdown",
   "metadata": {},
   "source": [
    "# Projeto 1 - Ciência dos Dados"
   ]
  },
  {
   "cell_type": "markdown",
   "metadata": {},
   "source": [
    "### Alunos, digo, contratados da Apple:\n",
    "\n",
    "#### Nome: Livia Brigido do Nascimento\n",
    "\n",
    "#### Nome: Fabio Dotoli Ferreira Filho\n",
    "\n"
   ]
  },
  {
   "cell_type": "markdown",
   "metadata": {},
   "source": [
    "Atenção: Serão permitidos grupos de três pessoas, mas com uma rubrica mais exigente. Grupos deste tamanho precisarão fazer um questionário de avaliação de trabalho em equipe"
   ]
  },
  {
   "cell_type": "markdown",
   "metadata": {},
   "source": [
    "## INTRODUÇÃO: ## \n",
    "##### (Aqui vamos colocar algo sobre o projeto, quais serão os principais aprendizados...)"
   ]
  },
  {
   "cell_type": "markdown",
   "metadata": {},
   "source": [
    "___\n",
    "Carregando algumas bibliotecas que serão úteis:"
   ]
  },
  {
   "cell_type": "code",
   "execution_count": 13,
   "metadata": {},
   "outputs": [],
   "source": [
    "%matplotlib inline\n",
    "import pandas as pd\n",
    "import matplotlib.pyplot as plt\n",
    "import numpy as np\n",
    "import os\n",
    "#from emoji import UNICODE_EMOJI  #Essa serve para quê mesmo?\n",
    "import re #utilizaremos para limpar o texto ('replace')\n",
    "import nltk\n",
    "from nltk.corpus import stopwords"
   ]
  },
  {
   "cell_type": "code",
   "execution_count": 14,
   "metadata": {
    "scrolled": false
   },
   "outputs": [
    {
     "name": "stdout",
     "output_type": "stream",
     "text": [
      "Esperamos trabalhar no diretório\n",
      "/Users/fabiodff/Desktop/P1Cdados2021_2\n"
     ]
    }
   ],
   "source": [
    "# Confirmando o diretório a ser utilizado:\n",
    "\n",
    "print('Esperamos trabalhar no diretório')\n",
    "print(os.getcwd())"
   ]
  },
  {
   "cell_type": "markdown",
   "metadata": {},
   "source": [
    "Carregando a base de dados com os tweets classificados como relevantes e não relevantes:"
   ]
  },
  {
   "cell_type": "code",
   "execution_count": 15,
   "metadata": {},
   "outputs": [],
   "source": [
    "filename = 'Airpods.xlsx'"
   ]
  },
  {
   "cell_type": "code",
   "execution_count": 16,
   "metadata": {},
   "outputs": [
    {
     "data": {
      "text/html": [
       "<div>\n",
       "<style scoped>\n",
       "    .dataframe tbody tr th:only-of-type {\n",
       "        vertical-align: middle;\n",
       "    }\n",
       "\n",
       "    .dataframe tbody tr th {\n",
       "        vertical-align: top;\n",
       "    }\n",
       "\n",
       "    .dataframe thead th {\n",
       "        text-align: right;\n",
       "    }\n",
       "</style>\n",
       "<table border=\"1\" class=\"dataframe\">\n",
       "  <thead>\n",
       "    <tr style=\"text-align: right;\">\n",
       "      <th></th>\n",
       "      <th>Treinamento</th>\n",
       "      <th>Classificacao_Treino</th>\n",
       "    </tr>\n",
       "  </thead>\n",
       "  <tbody>\n",
       "    <tr>\n",
       "      <td>0</td>\n",
       "      <td>alguem me da um apple watch 😭😭😭😭 um macbook pr...</td>\n",
       "      <td>0</td>\n",
       "    </tr>\n",
       "    <tr>\n",
       "      <td>1</td>\n",
       "      <td>@hschmaiske @matheus1lva airpods pro é bom? é....</td>\n",
       "      <td>1</td>\n",
       "    </tr>\n",
       "    <tr>\n",
       "      <td>2</td>\n",
       "      <td>mais uns airpods estragados… que sorte 🤦🏻‍♂️</td>\n",
       "      <td>1</td>\n",
       "    </tr>\n",
       "    <tr>\n",
       "      <td>3</td>\n",
       "      <td>@annaeso @masbahnana isso eu sei, mas nem espe...</td>\n",
       "      <td>0</td>\n",
       "    </tr>\n",
       "    <tr>\n",
       "      <td>4</td>\n",
       "      <td>sonhando com o dia que vou achar airpods por m...</td>\n",
       "      <td>1</td>\n",
       "    </tr>\n",
       "  </tbody>\n",
       "</table>\n",
       "</div>"
      ],
      "text/plain": [
       "                                         Treinamento  Classificacao_Treino\n",
       "0  alguem me da um apple watch 😭😭😭😭 um macbook pr...                     0\n",
       "1  @hschmaiske @matheus1lva airpods pro é bom? é....                     1\n",
       "2       mais uns airpods estragados… que sorte 🤦🏻‍♂️                     1\n",
       "3  @annaeso @masbahnana isso eu sei, mas nem espe...                     0\n",
       "4  sonhando com o dia que vou achar airpods por m...                     1"
      ]
     },
     "execution_count": 16,
     "metadata": {},
     "output_type": "execute_result"
    }
   ],
   "source": [
    "#A de treinamento (A que será responsável pela ação de \"ensinar\" a máquina o que é ou não é relevante)\n",
    "\n",
    "train = pd.read_excel(filename, sheet_name = 'Treinamento')\n",
    "train.head(5)"
   ]
  },
  {
   "cell_type": "code",
   "execution_count": 17,
   "metadata": {},
   "outputs": [
    {
     "data": {
      "text/plain": [
       "0    0.633333\n",
       "1    0.366667\n",
       "Name: Classificacao_Treino, dtype: float64"
      ]
     },
     "execution_count": 17,
     "metadata": {},
     "output_type": "execute_result"
    }
   ],
   "source": [
    "#Observando a quantidade relativa das duas classificações:\n",
    "\n",
    "train.Classificacao_Treino.value_counts(True) #Precisamos equilibrar um pouco mais esses dados:"
   ]
  },
  {
   "cell_type": "code",
   "execution_count": 18,
   "metadata": {},
   "outputs": [
    {
     "data": {
      "text/html": [
       "<div>\n",
       "<style scoped>\n",
       "    .dataframe tbody tr th:only-of-type {\n",
       "        vertical-align: middle;\n",
       "    }\n",
       "\n",
       "    .dataframe tbody tr th {\n",
       "        vertical-align: top;\n",
       "    }\n",
       "\n",
       "    .dataframe thead th {\n",
       "        text-align: right;\n",
       "    }\n",
       "</style>\n",
       "<table border=\"1\" class=\"dataframe\">\n",
       "  <thead>\n",
       "    <tr style=\"text-align: right;\">\n",
       "      <th></th>\n",
       "      <th>Teste</th>\n",
       "      <th>Classificacao_Teste</th>\n",
       "    </tr>\n",
       "  </thead>\n",
       "  <tbody>\n",
       "    <tr>\n",
       "      <td>0</td>\n",
       "      <td>favela venceu, o pai lançou um airpods monstro...</td>\n",
       "      <td>0</td>\n",
       "    </tr>\n",
       "    <tr>\n",
       "      <td>1</td>\n",
       "      <td>[weverse]\\n\\n“namjoon oppa, se eles lançarem a...</td>\n",
       "      <td>0</td>\n",
       "    </tr>\n",
       "    <tr>\n",
       "      <td>2</td>\n",
       "      <td>@priboechat comprei um fone tipo airpods e amei</td>\n",
       "      <td>0</td>\n",
       "    </tr>\n",
       "    <tr>\n",
       "      <td>3</td>\n",
       "      <td>@_army_brasileira_7 \\n _army_brasileira_7 \\n\\n...</td>\n",
       "      <td>0</td>\n",
       "    </tr>\n",
       "    <tr>\n",
       "      <td>4</td>\n",
       "      <td>@abelardo_moura ainda bem que foi o de fio, po...</td>\n",
       "      <td>0</td>\n",
       "    </tr>\n",
       "  </tbody>\n",
       "</table>\n",
       "</div>"
      ],
      "text/plain": [
       "                                               Teste  Classificacao_Teste\n",
       "0  favela venceu, o pai lançou um airpods monstro...                    0\n",
       "1  [weverse]\\n\\n“namjoon oppa, se eles lançarem a...                    0\n",
       "2    @priboechat comprei um fone tipo airpods e amei                    0\n",
       "3  @_army_brasileira_7 \\n _army_brasileira_7 \\n\\n...                    0\n",
       "4  @abelardo_moura ainda bem que foi o de fio, po...                    0"
      ]
     },
     "execution_count": 18,
     "metadata": {},
     "output_type": "execute_result"
    }
   ],
   "source": [
    "#A de teste (Com a classficação que fizemos apenas para comparar com a futura ação da máquina)\n",
    "\n",
    "test = pd.read_excel(filename, sheet_name = 'Teste')\n",
    "test.head(5)"
   ]
  },
  {
   "cell_type": "code",
   "execution_count": 19,
   "metadata": {},
   "outputs": [
    {
     "data": {
      "text/plain": [
       "0    0.713333\n",
       "1    0.286667\n",
       "Name: Classificacao_Teste, dtype: float64"
      ]
     },
     "execution_count": 19,
     "metadata": {},
     "output_type": "execute_result"
    }
   ],
   "source": [
    "#Observando a quantidade relativa das duas classificações:\n",
    "\n",
    "test.Classificacao_Teste.value_counts(True)"
   ]
  },
  {
   "cell_type": "markdown",
   "metadata": {},
   "source": [
    "___\n",
    "## Classificador automático de sentimento\n"
   ]
  },
  {
   "cell_type": "markdown",
   "metadata": {},
   "source": [
    "### Produto escolhido ##\n",
    "\n",
    "Os Airpods, lançamento da Apple no ano de 2016, são pequenos fones com conexão via bluetooth, que vêm acompanhados do estojo (usado para recarregá-los) e de um cabo lightning (carregador).\n",
    "\n",
    "Os tweets considerados relevantes foram aqueles que citavam alguma caracteristica relacionada ao produto escolhido, como por exemplo a durabilidade, a facilidade em perder os fones, preço e críticas/elogios aos Airpods como um todo.\n",
    "\n",
    "Os tweets irrelevantes, por sua vez, são aqueles que citam o produto, porém de uma forma que não é possivel extrair um feedback significativo sobre satisfação ou qualidades (positivas ou negativas) como, por exemplo, uma frase citando alguns itens aleatórios (dentre eles, os Airpods)."
   ]
  },
  {
   "cell_type": "markdown",
   "metadata": {},
   "source": [
    "___\n",
    "### Montando um Classificador Naive-Bayes\n",
    "\n",
    "Considerando apenas as mensagens da planilha Treinamento, ensine  seu classificador."
   ]
  },
  {
   "cell_type": "code",
   "execution_count": 20,
   "metadata": {},
   "outputs": [],
   "source": [
    "#Montando a função de limpeza principal e para a limpeza de palavras mais específicas** (cleanup)\n",
    "\n",
    "def cleanup(text):\n",
    "    \"\"\"\n",
    "        Função de limpeza muito simples que troca alguns sinais básicos por espaços\n",
    "    \"\"\"\n",
    "    #import string\n",
    "    punctuation = '[\\/!-.:?;]' # Note que os sinais [] são delimitadores de um conjunto.\n",
    "    pattern = re.compile(punctuation)\n",
    "    text_subbed = re.sub(pattern, '', text) #substitui o primeiro argumento pelo segundo, e o terceiro argumento é onde será aplicada a substituição\n",
    "    text_subbed = re.sub('\\n', ' ', text_subbed) #retirando o enter (pular para a próxima linha)\n",
    "    \n",
    "    padrao = r'https\\w+'\n",
    "    pattern2 = re.compile(padrao)\n",
    "    text_subbed2 = re.sub(pattern2, '', text_subbed)\n",
    "    \n",
    "    return text_subbed2.lower()\n",
    "\n",
    "\n",
    "def cleanup_links(text):\n",
    "    \n",
    "    padrao1 = r'@\\w+' #remove o símbolo ou escrita e as letras após ele\n",
    "    pattern1 = re.compile(padrao1)\n",
    "    text_subbed = re.sub(pattern1, '', text)  \n",
    "    \n",
    "    padrao3 = r'#\\w+'\n",
    "    pattern3 = re.compile(padrao3)\n",
    "    text_subbed3 = re.sub(pattern3, '', text_subbed)\n",
    "    \n",
    "    padrao4 = r'&\\w+'\n",
    "    pattern4 = re.compile(padrao4)\n",
    "    text_subbed4 = re.sub(pattern4, '', text_subbed3)\n",
    "    \n",
    "    padrao5 = r'_\\w+'\n",
    "    pattern5 = re.compile(padrao5)\n",
    "    text_subbed5 = re.sub(pattern5, '', text_subbed4)\n",
    "    \n",
    "    \n",
    "    \n",
    "    return text_subbed5\n",
    "\n",
    "\n",
    "\n",
    "def stopwords_funcao(texto):\n",
    "    stop_words = (nltk.corpus.stopwords.words('portuguese'))\n",
    "    \n",
    "    stopwords_lista = []\n",
    "    \n",
    "    for palavras in texto:\n",
    "        if palavras not in stop_words: \n",
    "            stopwords_lista.append(palavras)\n",
    "    \n",
    "    return stopwords_lista"
   ]
  },
  {
   "cell_type": "code",
   "execution_count": 54,
   "metadata": {},
   "outputs": [
    {
     "data": {
      "text/plain": [
       "' a ou o que  gosta do  a gente  '"
      ]
     },
     "execution_count": 54,
     "metadata": {},
     "output_type": "execute_result"
    }
   ],
   "source": [
    "#Célula de Testes das funções:\n",
    "variavel_teste=\"@joniel, a ou o que  gosta!?????? do: https:'hgah, a gente #skaska &sasjas\"\n",
    "\n",
    "variavel_limpa = cleanup_links(variavel_teste)\n",
    "variavel_limpa\n",
    "variavel_limpa2= cleanup(variavel_limpa)\n",
    "variavel_limpa2"
   ]
  },
  {
   "cell_type": "code",
   "execution_count": 22,
   "metadata": {},
   "outputs": [
    {
     "data": {
      "text/plain": [
       "1        airpods pro é bom é qualidade boa sim noise ...\n",
       "2           mais uns airpods estragados… que sorte 🤦🏻‍♂️\n",
       "4      sonhando com o dia que vou achar airpods por m...\n",
       "5      tava pensando se esse airpods tinha valido o p...\n",
       "7             oh trenzin q doi os zovido é esses airpods\n",
       "                             ...                        \n",
       "583           passando 3 meses encontrei os meus airpods\n",
       "591    esqueci de carregar o airpods treinar sem músi...\n",
       "593                                 perdi meus airpods 🥲\n",
       "594        airpods compramos 2 um pra mim um pra minh...\n",
       "596    meu deus quem disse q ter airpods era uma boa ...\n",
       "Name: Treinamento, Length: 220, dtype: object"
      ]
     },
     "execution_count": 22,
     "metadata": {},
     "output_type": "execute_result"
    }
   ],
   "source": [
    "#já foi dividido em rel. e irrel. pois depois não será possivel dividir por ser um df de apenas uma coluna \n",
    "train_relevantes_clean = train.loc[train[\"Classificacao_Treino\"] == 1, 'Treinamento'].apply(cleanup_links).apply(cleanup)\n",
    "train_relevantes_clean"
   ]
  },
  {
   "cell_type": "code",
   "execution_count": 23,
   "metadata": {},
   "outputs": [],
   "source": [
    "\n",
    "#train_rel_clean.astype(str)\n",
    "train_relevantes_lower = train_relevantes_clean.str.lower() #por que usar o .str ao inves de uma variavel-- Não quero trabalhar no dataset,mas em cada linha.\n",
    "train_relevantes = train_relevantes_lower.str.split()\n",
    "train_relevantes_clean = train_relevantes.apply(stopwords_funcao)\n"
   ]
  },
  {
   "cell_type": "code",
   "execution_count": 24,
   "metadata": {},
   "outputs": [
    {
     "data": {
      "text/plain": [
       "pandas.core.series.Series"
      ]
     },
     "execution_count": 24,
     "metadata": {},
     "output_type": "execute_result"
    }
   ],
   "source": [
    "type(train_relevantes_clean)"
   ]
  },
  {
   "cell_type": "code",
   "execution_count": 25,
   "metadata": {},
   "outputs": [
    {
     "data": {
      "text/plain": [
       "0         airpods\n",
       "1             pro\n",
       "2             bom\n",
       "3       qualidade\n",
       "4             boa\n",
       "          ...    \n",
       "2148      airpods\n",
       "2149          boa\n",
       "2150        ideia\n",
       "2151            q\n",
       "2152      inferno\n",
       "Length: 2153, dtype: object"
      ]
     },
     "execution_count": 25,
     "metadata": {},
     "output_type": "execute_result"
    }
   ],
   "source": [
    "train_relevantes_l = []  #criando uma lista para englobar todas as outras listas criadas com o .split\n",
    "\n",
    "for palavras in train_relevantes_clean:\n",
    "    train_relevantes_l += palavras\n",
    "serie_train_relevantes = pd.Series(train_relevantes_l)\n",
    "serie_train_relevantes"
   ]
  },
  {
   "cell_type": "code",
   "execution_count": 26,
   "metadata": {},
   "outputs": [
    {
     "data": {
      "text/plain": [
       "airpods        222\n",
       "pra             32\n",
       "perdi           30\n",
       "q               29\n",
       "pro             25\n",
       "              ... \n",
       "amigos           1\n",
       "acreditando      1\n",
       "frustrar         1\n",
       "encontrei        1\n",
       "iria             1\n",
       "Length: 1061, dtype: int64"
      ]
     },
     "execution_count": 26,
     "metadata": {},
     "output_type": "execute_result"
    }
   ],
   "source": [
    "serie_train_relevantes_absoluta = serie_train_relevantes.value_counts()\n",
    "serie_train_relevantes_absoluta\n"
   ]
  },
  {
   "cell_type": "code",
   "execution_count": 27,
   "metadata": {},
   "outputs": [
    {
     "data": {
      "text/plain": [
       "0      alguem me da um apple watch 😭😭😭😭 um macbook pr...\n",
       "3        isso eu sei mas nem esperaria algo assim é q...\n",
       "6       sete anos atrás em 09092014 o valor do dólar ...\n",
       "8         queria tanto um fone airpods mas zero dinheiro\n",
       "9                                necessito de um airpods\n",
       "                             ...                        \n",
       "592    items do dreamcatcher para uma boa noite de so...\n",
       "595                    vale a pena pegar um airpods pro \n",
       "597                                 me compra um airpods\n",
       "598    cara de mau mas no airpods tá tocando harry st...\n",
       "599    algm tem link daquele airpods da shoppee q o i...\n",
       "Name: Treinamento, Length: 380, dtype: object"
      ]
     },
     "execution_count": 27,
     "metadata": {},
     "output_type": "execute_result"
    }
   ],
   "source": [
    "train_irrelevantes_clean = train.loc[train[\"Classificacao_Treino\"] == 0, 'Treinamento'].apply(cleanup_links).apply(cleanup)\n",
    "train_irrelevantes_clean\n"
   ]
  },
  {
   "cell_type": "code",
   "execution_count": 28,
   "metadata": {},
   "outputs": [],
   "source": [
    "train_irrelevantes_lower = train_irrelevantes_clean.str.lower() \n",
    "train_irrelevantes = train_irrelevantes_lower.str.split()\n",
    "train_irrelevantes_clean = train_irrelevantes.apply(stopwords_funcao)"
   ]
  },
  {
   "cell_type": "code",
   "execution_count": 29,
   "metadata": {},
   "outputs": [
    {
     "data": {
      "text/plain": [
       "pandas.core.series.Series"
      ]
     },
     "execution_count": 29,
     "metadata": {},
     "output_type": "execute_result"
    }
   ],
   "source": [
    "type(train_irrelevantes_clean)"
   ]
  },
  {
   "cell_type": "code",
   "execution_count": 30,
   "metadata": {},
   "outputs": [
    {
     "data": {
      "text/plain": [
       "0      [alguem, apple, watch, 😭😭😭😭, macbook, pro, air...\n",
       "3      [sei, esperaria, algo, assim, in, ficam, orelh...\n",
       "6      [sete, anos, atrás, 09092014, valor, dólar, r2...\n",
       "8         [queria, tanto, fone, airpods, zero, dinheiro]\n",
       "9                                   [necessito, airpods]\n",
       "                             ...                        \n",
       "592    [items, dreamcatcher, boa, noite, sono, 🐼, cub...\n",
       "595                    [vale, pena, pegar, airpods, pro]\n",
       "597                                    [compra, airpods]\n",
       "598     [cara, mau, airpods, tá, tocando, harry, styles]\n",
       "599    [algm, link, daquele, airpods, shoppee, q, iph...\n",
       "Name: Treinamento, Length: 380, dtype: object"
      ]
     },
     "execution_count": 30,
     "metadata": {},
     "output_type": "execute_result"
    }
   ],
   "source": [
    "train_irrelevantes_clean"
   ]
  },
  {
   "cell_type": "code",
   "execution_count": 31,
   "metadata": {},
   "outputs": [
    {
     "data": {
      "text/plain": [
       "0          alguem\n",
       "1           apple\n",
       "2           watch\n",
       "3            😭😭😭😭\n",
       "4         macbook\n",
       "          ...    \n",
       "4072      shoppee\n",
       "4073            q\n",
       "4074       iphone\n",
       "4075    reconhece\n",
       "4076     original\n",
       "Length: 4077, dtype: object"
      ]
     },
     "execution_count": 31,
     "metadata": {},
     "output_type": "execute_result"
    }
   ],
   "source": [
    "train_irrelevantes_l = []  #criando uma lista para englobar todas as outras listas criadas com o .split\n",
    "\n",
    "for palavras in train_irrelevantes_clean:\n",
    "    train_irrelevantes_l += palavras\n",
    "serie_train_irrelevantes = pd.Series(train_irrelevantes_l)\n",
    "serie_train_irrelevantes"
   ]
  },
  {
   "cell_type": "code",
   "execution_count": 32,
   "metadata": {},
   "outputs": [
    {
     "data": {
      "text/plain": [
       "airpods    389\n",
       "pro         71\n",
       "apple       62\n",
       "iphone      59\n",
       "comprar     54\n",
       "          ... \n",
       "qqr          1\n",
       "sentir       1\n",
       "mandou       1\n",
       "perde        1\n",
       "hein         1\n",
       "Length: 1589, dtype: int64"
      ]
     },
     "execution_count": 32,
     "metadata": {},
     "output_type": "execute_result"
    }
   ],
   "source": [
    "serie_train_irrelevantes_absoluta = serie_train_irrelevantes.value_counts()\n",
    "serie_train_irrelevantes_absoluta"
   ]
  },
  {
   "cell_type": "code",
   "execution_count": 33,
   "metadata": {},
   "outputs": [
    {
     "data": {
      "text/plain": [
       "14     dica do dia não coloque seus airpods na máquin...\n",
       "16       olha se vc quiser algo que dure não compra a...\n",
       "17     pqp achei que eu tinha perdido a capinha do ai...\n",
       "24              esqueci de trazer meu airpods qero morre\n",
       "34            o airpods é a melhor coisa q eu já comprei\n",
       "                             ...                        \n",
       "284      mano tu parea os airpods no iphone ele mostr...\n",
       "286     airpods duram umas 4 horas carregam em uns 30...\n",
       "287          diz a pessoa que perdeu mais de 30 airpods \n",
       "289    eu preciiiiiso de um ipad pra assistir as aula...\n",
       "298                 meus airpods tão com o volume baixo \n",
       "Name: Teste, Length: 86, dtype: object"
      ]
     },
     "execution_count": 33,
     "metadata": {},
     "output_type": "execute_result"
    }
   ],
   "source": [
    "test_relevantes_clean = test.loc[test[\"Classificacao_Teste\"] == 1, 'Teste'].apply(cleanup_links).apply(cleanup)\n",
    "test_relevantes_clean"
   ]
  },
  {
   "cell_type": "code",
   "execution_count": 34,
   "metadata": {},
   "outputs": [
    {
     "data": {
      "text/plain": [
       "0         favela venceu o pai lançou um airpods monstro \n",
       "1      [weverse]  “namjoon oppa se eles lançarem airp...\n",
       "2                    comprei um fone tipo airpods e amei\n",
       "3            army  se você sair do airpods 3você não ...\n",
       "4       ainda bem que foi o de fio porque se fosse os...\n",
       "                             ...                        \n",
       "294                    a meu mano eu tenho airpods certo\n",
       "295      vou querer um macbook um ipad um airpods um ...\n",
       "296                       meu airpods até caiu da orelha\n",
       "297    anonymous vazem o número do cartão do bolsonar...\n",
       "299    sorte que comprei airpods pro de r1990 no shop...\n",
       "Name: Teste, Length: 214, dtype: object"
      ]
     },
     "execution_count": 34,
     "metadata": {},
     "output_type": "execute_result"
    }
   ],
   "source": [
    "test_irrelevantes_clean = test.loc[test[\"Classificacao_Teste\"] == 0, 'Teste'].apply(cleanup_links).apply(cleanup)\n",
    "test_irrelevantes_clean"
   ]
  },
  {
   "cell_type": "markdown",
   "metadata": {},
   "source": [
    "### Implementando a suavização de Laplace ###"
   ]
  },
  {
   "cell_type": "code",
   "execution_count": 35,
   "metadata": {},
   "outputs": [
    {
     "data": {
      "text/plain": [
       "1589"
      ]
     },
     "execution_count": 35,
     "metadata": {},
     "output_type": "execute_result"
    }
   ],
   "source": [
    "train_tamanho_irrelevantes = len(serie_train_irrelevantes_absoluta)\n",
    "train_tamanho_irrelevantes"
   ]
  },
  {
   "cell_type": "code",
   "execution_count": 36,
   "metadata": {},
   "outputs": [
    {
     "data": {
      "text/plain": [
       "1061"
      ]
     },
     "execution_count": 36,
     "metadata": {},
     "output_type": "execute_result"
    }
   ],
   "source": [
    "train_tamanho_relevantes = len(serie_train_relevantes_absoluta)\n",
    "train_tamanho_relevantes"
   ]
  },
  {
   "cell_type": "code",
   "execution_count": 37,
   "metadata": {},
   "outputs": [],
   "source": [
    "Dimensao = train_tamanho_irrelevantes + train_tamanho_relevantes\n",
    "D= Dimensao #Dimensão do nosso \"universo\" de palavras e emojis."
   ]
  },
  {
   "cell_type": "code",
   "execution_count": 38,
   "metadata": {},
   "outputs": [
    {
     "data": {
      "text/plain": [
       "2153"
      ]
     },
     "execution_count": 38,
     "metadata": {},
     "output_type": "execute_result"
    }
   ],
   "source": [
    "#Quantidade total de palavras em relevantes:\n",
    "Nr= len(train_relevantes_l)\n",
    "Nr"
   ]
  },
  {
   "cell_type": "code",
   "execution_count": 39,
   "metadata": {},
   "outputs": [
    {
     "data": {
      "text/plain": [
       "4077"
      ]
     },
     "execution_count": 39,
     "metadata": {},
     "output_type": "execute_result"
    }
   ],
   "source": [
    "#Quantidade total de palavras em irrelevantes:\n",
    "Ni= len(train_irrelevantes_l)\n",
    "Ni"
   ]
  },
  {
   "cell_type": "markdown",
   "metadata": {},
   "source": [
    "### Explicação das  três variáveis criadas: ###"
   ]
  },
  {
   "cell_type": "markdown",
   "metadata": {},
   "source": []
  },
  {
   "cell_type": "markdown",
   "metadata": {},
   "source": [
    "## Enfim o classificador: ##\n"
   ]
  },
  {
   "cell_type": "code",
   "execution_count": 40,
   "metadata": {},
   "outputs": [],
   "source": [
    "#Função que será executada com \"apply\":\n",
    "def classificador_suavizado(tweet):\n",
    "    prob_relevante=1\n",
    "    prob_irrelevante=1\n",
    "    alpha= 1\n",
    "    lista_palavras= tweet.split()\n",
    "    for palavra in lista_palavras:\n",
    "        \n",
    "        #Como vimos que, quando o termo não existia na lista, dava erro pois não se igualava à zero automaticamente:\n",
    "        if palavra not in train_relevantes_l:\n",
    "            serie_train_relevantes_absoluta[palavra]=0\n",
    "        \n",
    "        elif palavra not in train_irrelevantes_l:\n",
    "            serie_train_irrelevantes_absoluta[palavra]=0\n",
    "            \n",
    "            \n",
    "        #Não estava indo sem um outro if. Não sei o pq\n",
    "        if palavra in train_relevantes_l and palavra in train_relevantes_l:\n",
    "            prob_relevante*= (serie_train_relevantes_absoluta[palavra]+1)/ (Nr+D)\n",
    "            prob_irrelevante*= (serie_train_irrelevantes_absoluta[palavra]+1)/ (Ni+D)\n",
    "        \n",
    "    #Em vez do que está abaixo, acrescentar em uma coluna nova a classficação feita pela maquina (Para comparar posteriormente com a nossa feita à mão)\n",
    "    if prob_relevante>prob_irrelevante:\n",
    "        return 1\n",
    "    else:\n",
    "        return 0\n"
   ]
  },
  {
   "cell_type": "code",
   "execution_count": 41,
   "metadata": {},
   "outputs": [
    {
     "name": "stdout",
     "output_type": "stream",
     "text": [
      "1\n"
     ]
    }
   ],
   "source": [
    "#Teste da função:\n",
    "tweet=\"airpods não funciona\"\n",
    "print(classificador_suavizado(tweet))"
   ]
  },
  {
   "cell_type": "code",
   "execution_count": 42,
   "metadata": {},
   "outputs": [],
   "source": [
    "testcopy= test.copy()\n",
    "testcopy[\"classificacao_modelo\"]= testcopy[\"Teste\"].apply(classificador_suavizado)\n",
    "\n",
    "#testcopy[\"classificacao_modelo\"]=\"None\"\n",
    "\n",
    "#for linha, coluna in testcopy.iterrows():\n",
    "    #testcopy.loc[linha, \"classificacao_modelo\"]=classificador_suavizado(testcopy.loc[linha, \"Teste\"])"
   ]
  },
  {
   "cell_type": "code",
   "execution_count": 43,
   "metadata": {},
   "outputs": [
    {
     "data": {
      "text/plain": [
       "0    167\n",
       "1    133\n",
       "Name: classificacao_modelo, dtype: int64"
      ]
     },
     "execution_count": 43,
     "metadata": {},
     "output_type": "execute_result"
    }
   ],
   "source": [
    "testcopy[\"classificacao_modelo\"].value_counts()"
   ]
  },
  {
   "cell_type": "code",
   "execution_count": 44,
   "metadata": {},
   "outputs": [
    {
     "data": {
      "text/html": [
       "<div>\n",
       "<style scoped>\n",
       "    .dataframe tbody tr th:only-of-type {\n",
       "        vertical-align: middle;\n",
       "    }\n",
       "\n",
       "    .dataframe tbody tr th {\n",
       "        vertical-align: top;\n",
       "    }\n",
       "\n",
       "    .dataframe thead th {\n",
       "        text-align: right;\n",
       "    }\n",
       "</style>\n",
       "<table border=\"1\" class=\"dataframe\">\n",
       "  <thead>\n",
       "    <tr style=\"text-align: right;\">\n",
       "      <th></th>\n",
       "      <th>Teste</th>\n",
       "      <th>Classificacao_Teste</th>\n",
       "      <th>classificacao_modelo</th>\n",
       "    </tr>\n",
       "  </thead>\n",
       "  <tbody>\n",
       "    <tr>\n",
       "      <td>0</td>\n",
       "      <td>favela venceu, o pai lançou um airpods monstro...</td>\n",
       "      <td>0</td>\n",
       "      <td>0</td>\n",
       "    </tr>\n",
       "    <tr>\n",
       "      <td>1</td>\n",
       "      <td>[weverse]\\n\\n“namjoon oppa, se eles lançarem a...</td>\n",
       "      <td>0</td>\n",
       "      <td>0</td>\n",
       "    </tr>\n",
       "    <tr>\n",
       "      <td>2</td>\n",
       "      <td>@priboechat comprei um fone tipo airpods e amei</td>\n",
       "      <td>0</td>\n",
       "      <td>1</td>\n",
       "    </tr>\n",
       "    <tr>\n",
       "      <td>3</td>\n",
       "      <td>@_army_brasileira_7 \\n _army_brasileira_7 \\n\\n...</td>\n",
       "      <td>0</td>\n",
       "      <td>0</td>\n",
       "    </tr>\n",
       "    <tr>\n",
       "      <td>4</td>\n",
       "      <td>@abelardo_moura ainda bem que foi o de fio, po...</td>\n",
       "      <td>0</td>\n",
       "      <td>0</td>\n",
       "    </tr>\n",
       "    <tr>\n",
       "      <td>...</td>\n",
       "      <td>...</td>\n",
       "      <td>...</td>\n",
       "      <td>...</td>\n",
       "    </tr>\n",
       "    <tr>\n",
       "      <td>295</td>\n",
       "      <td>@jnkdress @anonymousbrof vou querer um macbook...</td>\n",
       "      <td>0</td>\n",
       "      <td>0</td>\n",
       "    </tr>\n",
       "    <tr>\n",
       "      <td>296</td>\n",
       "      <td>@lucxssl2 meu airpods até caiu da orelha</td>\n",
       "      <td>0</td>\n",
       "      <td>1</td>\n",
       "    </tr>\n",
       "    <tr>\n",
       "      <td>297</td>\n",
       "      <td>anonymous vazem o número do cartão do bolsonar...</td>\n",
       "      <td>0</td>\n",
       "      <td>0</td>\n",
       "    </tr>\n",
       "    <tr>\n",
       "      <td>298</td>\n",
       "      <td>meus airpods tão com o volume baixo :(</td>\n",
       "      <td>1</td>\n",
       "      <td>1</td>\n",
       "    </tr>\n",
       "    <tr>\n",
       "      <td>299</td>\n",
       "      <td>sorte que comprei airpods pro de r$19,90 no sh...</td>\n",
       "      <td>0</td>\n",
       "      <td>0</td>\n",
       "    </tr>\n",
       "  </tbody>\n",
       "</table>\n",
       "<p>300 rows × 3 columns</p>\n",
       "</div>"
      ],
      "text/plain": [
       "                                                 Teste  Classificacao_Teste  \\\n",
       "0    favela venceu, o pai lançou um airpods monstro...                    0   \n",
       "1    [weverse]\\n\\n“namjoon oppa, se eles lançarem a...                    0   \n",
       "2      @priboechat comprei um fone tipo airpods e amei                    0   \n",
       "3    @_army_brasileira_7 \\n _army_brasileira_7 \\n\\n...                    0   \n",
       "4    @abelardo_moura ainda bem que foi o de fio, po...                    0   \n",
       "..                                                 ...                  ...   \n",
       "295  @jnkdress @anonymousbrof vou querer um macbook...                    0   \n",
       "296           @lucxssl2 meu airpods até caiu da orelha                    0   \n",
       "297  anonymous vazem o número do cartão do bolsonar...                    0   \n",
       "298             meus airpods tão com o volume baixo :(                    1   \n",
       "299  sorte que comprei airpods pro de r$19,90 no sh...                    0   \n",
       "\n",
       "     classificacao_modelo  \n",
       "0                       0  \n",
       "1                       0  \n",
       "2                       1  \n",
       "3                       0  \n",
       "4                       0  \n",
       "..                    ...  \n",
       "295                     0  \n",
       "296                     1  \n",
       "297                     0  \n",
       "298                     1  \n",
       "299                     0  \n",
       "\n",
       "[300 rows x 3 columns]"
      ]
     },
     "execution_count": 44,
     "metadata": {},
     "output_type": "execute_result"
    }
   ],
   "source": [
    "testcopy"
   ]
  },
  {
   "cell_type": "markdown",
   "metadata": {},
   "source": [
    "___\n",
    "### Verificando a performance do Classificador\n",
    "\n",
    "Agora você deve testar o seu classificador com a base de Testes."
   ]
  },
  {
   "cell_type": "code",
   "execution_count": 45,
   "metadata": {},
   "outputs": [
    {
     "data": {
      "text/plain": [
       "0    0.556667\n",
       "1    0.443333\n",
       "Name: classificacao_modelo, dtype: float64"
      ]
     },
     "execution_count": 45,
     "metadata": {},
     "output_type": "execute_result"
    }
   ],
   "source": [
    "#Ver qual foi a distribuição do modelo\n",
    "testcopy[\"classificacao_modelo\"].value_counts(True)"
   ]
  },
  {
   "cell_type": "code",
   "execution_count": 46,
   "metadata": {},
   "outputs": [
    {
     "data": {
      "text/plain": [
       "0    0.713333\n",
       "1    0.286667\n",
       "Name: Classificacao_Teste, dtype: float64"
      ]
     },
     "execution_count": 46,
     "metadata": {},
     "output_type": "execute_result"
    }
   ],
   "source": [
    "#Ver a distribuição que colocamos\n",
    "testcopy[\"Classificacao_Teste\"].value_counts(True)"
   ]
  },
  {
   "cell_type": "markdown",
   "metadata": {},
   "source": [
    "### Porcentagem de erros e acertos:"
   ]
  },
  {
   "cell_type": "code",
   "execution_count": 47,
   "metadata": {},
   "outputs": [
    {
     "data": {
      "text/html": [
       "<div>\n",
       "<style scoped>\n",
       "    .dataframe tbody tr th:only-of-type {\n",
       "        vertical-align: middle;\n",
       "    }\n",
       "\n",
       "    .dataframe tbody tr th {\n",
       "        vertical-align: top;\n",
       "    }\n",
       "\n",
       "    .dataframe thead th {\n",
       "        text-align: right;\n",
       "    }\n",
       "</style>\n",
       "<table border=\"1\" class=\"dataframe\">\n",
       "  <thead>\n",
       "    <tr style=\"text-align: right;\">\n",
       "      <th>classificacao_modelo</th>\n",
       "      <th>0</th>\n",
       "      <th>1</th>\n",
       "    </tr>\n",
       "    <tr>\n",
       "      <th>Classificacao_Teste</th>\n",
       "      <th></th>\n",
       "      <th></th>\n",
       "    </tr>\n",
       "  </thead>\n",
       "  <tbody>\n",
       "    <tr>\n",
       "      <td>0</td>\n",
       "      <td>47.000000</td>\n",
       "      <td>24.333333</td>\n",
       "    </tr>\n",
       "    <tr>\n",
       "      <td>1</td>\n",
       "      <td>8.666667</td>\n",
       "      <td>20.000000</td>\n",
       "    </tr>\n",
       "  </tbody>\n",
       "</table>\n",
       "</div>"
      ],
      "text/plain": [
       "classificacao_modelo          0          1\n",
       "Classificacao_Teste                       \n",
       "0                     47.000000  24.333333\n",
       "1                      8.666667  20.000000"
      ]
     },
     "execution_count": 47,
     "metadata": {},
     "output_type": "execute_result"
    }
   ],
   "source": [
    "#Matriz de confusão--Pesquisar\n",
    "mat_porcentagem=pd.crosstab(testcopy.Classificacao_Teste, testcopy.classificacao_modelo, normalize=True)*100 #Multiplicar po 100 porque é porcentagem!\n",
    "mat_porcentagem"
   ]
  },
  {
   "cell_type": "markdown",
   "metadata": {},
   "source": [
    "### Acurácia:"
   ]
  },
  {
   "cell_type": "code",
   "execution_count": 48,
   "metadata": {},
   "outputs": [
    {
     "data": {
      "text/plain": [
       "67.0"
      ]
     },
     "execution_count": 48,
     "metadata": {},
     "output_type": "execute_result"
    }
   ],
   "source": [
    "#Será aquelas em que ambos marcaram 0 e 1:\n",
    "acuracia= mat_porcentagem[0][0]+mat_porcentagem[1][1]  #Coluna/ linha\n",
    "acuracia"
   ]
  },
  {
   "cell_type": "markdown",
   "metadata": {},
   "source": [
    "___\n",
    "### Concluindo"
   ]
  },
  {
   "cell_type": "code",
   "execution_count": null,
   "metadata": {},
   "outputs": [],
   "source": []
  },
  {
   "cell_type": "code",
   "execution_count": null,
   "metadata": {},
   "outputs": [],
   "source": []
  },
  {
   "cell_type": "code",
   "execution_count": null,
   "metadata": {},
   "outputs": [],
   "source": []
  },
  {
   "cell_type": "markdown",
   "metadata": {},
   "source": [
    "___\n",
    "### Qualidade do Classificador a partir de novas separações dos tweets entre Treinamento e Teste\n",
    "\n",
    "Caso for fazer esse item do Projeto"
   ]
  },
  {
   "cell_type": "code",
   "execution_count": null,
   "metadata": {},
   "outputs": [],
   "source": [
    "  "
   ]
  },
  {
   "cell_type": "code",
   "execution_count": null,
   "metadata": {},
   "outputs": [],
   "source": []
  },
  {
   "cell_type": "markdown",
   "metadata": {},
   "source": [
    "# Diferentes cenários para a aplicação de Naïve Bayes #"
   ]
  },
  {
   "cell_type": "markdown",
   "metadata": {},
   "source": [
    "•Naive Bayes pode ser implementado quando há a necessidade de se diferenciar e-mails comuns, e-mails com assuntos voltados a business, e-mails voltados a notícias ou e-mails que são SPAM.\n",
    "\n",
    "•Utilizar Naive Bayes para se ter um panorama do contágio ou não-contágio de pessoas expostas a determinado patógeno, baseando-se na taxa de contágio do mesmo\n",
    " \n",
    "•Classificar a faixa etária de um público com base no vocabulário e abreviações utilizadas."
   ]
  },
  {
   "cell_type": "markdown",
   "metadata": {},
   "source": [
    "___\n",
    "## Aperfeiçoamento:\n",
    "\n",
    "Trabalhos que conseguirem pelo menos conceito B vão evoluir em conceito dependendo da quantidade de itens avançados:\n",
    "\n",
    "* IMPLEMENTOU outras limpezas e transformações que não afetem a qualidade da informação contida nos tweets. Ex: stemming, lemmatization, stopwords\n",
    "\n",
    "* PROPÔS diferentes cenários para Naïve Bayes fora do contexto do projeto\n",
    "_____________________________________________________________________________________________________________________\n",
    "* CORRIGIU separação de espaços entre palavras e emojis ou entre emojis e emojis\n",
    "* CRIOU categorias intermediárias de relevância baseadas na probabilidade: ex.: muito relevante, relevante, neutro, irrelevante, muito irrelevante. Pelo menos quatro categorias, com adição de mais tweets na base, conforme enunciado. (OBRIGATÓRIO PARA TRIOS, sem contar como item avançado)\n",
    "* EXPLICOU porquê não pode usar o próprio classificador para gerar mais amostras de treinamento\n",
    "* SUGERIU e EXPLICOU melhorias reais com indicações concretas de como implementar (indicar como fazer e indicar material de pesquisa)\n",
    "* FEZ o item 6. Qualidade do Classificador a partir de novas separações dos tweets entre Treinamento e Teste descrito no enunciado do projeto (OBRIGATÓRIO para conceitos A ou A+)"
   ]
  },
  {
   "cell_type": "markdown",
   "metadata": {},
   "source": [
    "___\n",
    "## Referências"
   ]
  },
  {
   "cell_type": "markdown",
   "metadata": {},
   "source": [
    "[Naive Bayes and Text Classification](https://arxiv.org/pdf/1410.5329.pdf)  **Mais completo**\n",
    "\n",
    "[A practical explanation of a Naive Bayes Classifier](https://monkeylearn.com/blog/practical-explanation-naive-bayes-classifier/) **Mais simples**"
   ]
  },
  {
   "cell_type": "code",
   "execution_count": null,
   "metadata": {},
   "outputs": [],
   "source": []
  }
 ],
 "metadata": {
  "kernelspec": {
   "display_name": "Python 3",
   "language": "python",
   "name": "python3"
  },
  "language_info": {
   "codemirror_mode": {
    "name": "ipython",
    "version": 3
   },
   "file_extension": ".py",
   "mimetype": "text/x-python",
   "name": "python",
   "nbconvert_exporter": "python",
   "pygments_lexer": "ipython3",
   "version": "3.7.4"
  }
 },
 "nbformat": 4,
 "nbformat_minor": 4
}
