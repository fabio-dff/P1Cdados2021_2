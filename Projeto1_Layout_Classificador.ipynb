{
 "cells": [
  {
   "cell_type": "markdown",
   "metadata": {},
   "source": [
    "# Projeto 1 - Ciência dos Dados"
   ]
  },
  {
   "cell_type": "code",
   "execution_count": null,
   "metadata": {},
   "outputs": [],
   "source": []
  },
  {
   "cell_type": "markdown",
   "metadata": {},
   "source": [
    "Nome:Livia Brigido do Nascimento\n",
    "\n",
    "Nome:Fabio Dotoli Ferreira Filho"
   ]
  },
  {
   "cell_type": "markdown",
   "metadata": {},
   "source": [
    "Atenção: Serão permitidos grupos de três pessoas, mas com uma rubrica mais exigente. Grupos deste tamanho precisarão fazer um questionário de avaliação de trabalho em equipe"
   ]
  },
  {
   "cell_type": "markdown",
   "metadata": {},
   "source": [
    "___\n",
    "Carregando algumas bibliotecas:"
   ]
  },
  {
   "cell_type": "code",
<<<<<<< HEAD
   "execution_count": 16,
=======
   "execution_count": 39,
>>>>>>> b9fe26816743253b90cb4bf88f9646a77cc59b27
   "metadata": {},
   "outputs": [],
   "source": [
    "%matplotlib inline\n",
    "import pandas as pd\n",
    "import matplotlib.pyplot as plt\n",
    "import numpy as np\n",
<<<<<<< HEAD
    "import os\n",
    "from emoji import UNICODE_EMOJI\n",
    "import nltk #Neutral Language Tool Kit\n"
=======
    "import os"
>>>>>>> b9fe26816743253b90cb4bf88f9646a77cc59b27
   ]
  },
  {
   "cell_type": "code",
<<<<<<< HEAD
   "execution_count": 17,
=======
   "execution_count": 40,
>>>>>>> b9fe26816743253b90cb4bf88f9646a77cc59b27
   "metadata": {
    "scrolled": false
   },
   "outputs": [
    {
     "name": "stdout",
     "output_type": "stream",
     "text": [
      "Esperamos trabalhar no diretório\n",
      "/Users/fabiodff/Desktop/P1Cdados2021_2\n"
     ]
    }
   ],
   "source": [
    "print('Esperamos trabalhar no diretório')\n",
    "print(os.getcwd())"
   ]
  },
  {
   "cell_type": "markdown",
   "metadata": {},
   "source": [
    "Carregando a base de dados com os tweets classificados como relevantes e não relevantes:"
   ]
  },
  {
   "cell_type": "code",
<<<<<<< HEAD
   "execution_count": 18,
=======
   "execution_count": 41,
>>>>>>> b9fe26816743253b90cb4bf88f9646a77cc59b27
   "metadata": {},
   "outputs": [],
   "source": [
    "filename = 'Airpods.xlsx'"
   ]
  },
  {
   "cell_type": "code",
<<<<<<< HEAD
   "execution_count": 19,
=======
   "execution_count": 50,
>>>>>>> b9fe26816743253b90cb4bf88f9646a77cc59b27
   "metadata": {},
   "outputs": [
    {
     "data": {
      "text/html": [
       "<div>\n",
       "<style scoped>\n",
       "    .dataframe tbody tr th:only-of-type {\n",
       "        vertical-align: middle;\n",
       "    }\n",
       "\n",
       "    .dataframe tbody tr th {\n",
       "        vertical-align: top;\n",
       "    }\n",
       "\n",
       "    .dataframe thead th {\n",
       "        text-align: right;\n",
       "    }\n",
       "</style>\n",
       "<table border=\"1\" class=\"dataframe\">\n",
       "  <thead>\n",
       "    <tr style=\"text-align: right;\">\n",
       "      <th></th>\n",
       "      <th>Treinamento</th>\n",
       "      <th>Classificacao_Treino</th>\n",
       "    </tr>\n",
       "  </thead>\n",
       "  <tbody>\n",
       "    <tr>\n",
       "      <th>0</th>\n",
       "      <td>alguem me da um apple watch 😭😭😭😭 um macbook pr...</td>\n",
       "      <td>NaN</td>\n",
       "    </tr>\n",
       "    <tr>\n",
       "      <th>1</th>\n",
       "      <td>@hschmaiske @matheus1lva airpods pro é bom? é....</td>\n",
       "      <td>NaN</td>\n",
       "    </tr>\n",
       "    <tr>\n",
       "      <th>2</th>\n",
       "      <td>mais uns airpods estragados… que sorte 🤦🏻‍♂️</td>\n",
       "      <td>NaN</td>\n",
       "    </tr>\n",
       "    <tr>\n",
       "      <th>3</th>\n",
       "      <td>@annaeso @masbahnana isso eu sei, mas nem espe...</td>\n",
       "      <td>NaN</td>\n",
       "    </tr>\n",
       "    <tr>\n",
       "      <th>4</th>\n",
       "      <td>sonhando com o dia que vou achar airpods por m...</td>\n",
       "      <td>NaN</td>\n",
       "    </tr>\n",
       "  </tbody>\n",
       "</table>\n",
       "</div>"
      ],
      "text/plain": [
       "                                         Treinamento  Classificacao_Treino\n",
       "0  alguem me da um apple watch 😭😭😭😭 um macbook pr...                   NaN\n",
       "1  @hschmaiske @matheus1lva airpods pro é bom? é....                   NaN\n",
       "2       mais uns airpods estragados… que sorte 🤦🏻‍♂️                   NaN\n",
       "3  @annaeso @masbahnana isso eu sei, mas nem espe...                   NaN\n",
       "4  sonhando com o dia que vou achar airpods por m...                   NaN"
      ]
     },
<<<<<<< HEAD
     "execution_count": 19,
=======
     "execution_count": 50,
>>>>>>> b9fe26816743253b90cb4bf88f9646a77cc59b27
     "metadata": {},
     "output_type": "execute_result"
    }
   ],
   "source": [
    "train = pd.read_excel(filename, sheet_name = 'Treinamento')\n",
    "train.head(5)"
   ]
  },
  {
   "cell_type": "code",
<<<<<<< HEAD
   "execution_count": 20,
=======
   "execution_count": 54,
>>>>>>> b9fe26816743253b90cb4bf88f9646a77cc59b27
   "metadata": {},
   "outputs": [
    {
     "data": {
      "text/plain": [
       "Series([], Name: Classificacao_Treino, dtype: float64)"
      ]
     },
<<<<<<< HEAD
     "execution_count": 20,
=======
     "execution_count": 54,
>>>>>>> b9fe26816743253b90cb4bf88f9646a77cc59b27
     "metadata": {},
     "output_type": "execute_result"
    }
   ],
   "source": [
    "train.Classificacao_Treino.value_counts(True)"
   ]
  },
  {
   "cell_type": "code",
<<<<<<< HEAD
   "execution_count": 21,
=======
   "execution_count": 52,
>>>>>>> b9fe26816743253b90cb4bf88f9646a77cc59b27
   "metadata": {},
   "outputs": [
    {
     "data": {
      "text/html": [
       "<div>\n",
       "<style scoped>\n",
       "    .dataframe tbody tr th:only-of-type {\n",
       "        vertical-align: middle;\n",
       "    }\n",
       "\n",
       "    .dataframe tbody tr th {\n",
       "        vertical-align: top;\n",
       "    }\n",
       "\n",
       "    .dataframe thead th {\n",
       "        text-align: right;\n",
       "    }\n",
       "</style>\n",
       "<table border=\"1\" class=\"dataframe\">\n",
       "  <thead>\n",
       "    <tr style=\"text-align: right;\">\n",
       "      <th></th>\n",
       "      <th>Teste</th>\n",
       "      <th>Classificacao_Teste</th>\n",
       "    </tr>\n",
       "  </thead>\n",
       "  <tbody>\n",
       "    <tr>\n",
       "      <th>0</th>\n",
       "      <td>favela venceu, o pai lançou um airpods monstro...</td>\n",
       "      <td>0</td>\n",
       "    </tr>\n",
       "    <tr>\n",
       "      <th>1</th>\n",
       "      <td>[weverse]\\n\\n“namjoon oppa, se eles lançarem a...</td>\n",
       "      <td>0</td>\n",
       "    </tr>\n",
       "    <tr>\n",
       "      <th>2</th>\n",
       "      <td>@priboechat comprei um fone tipo airpods e amei</td>\n",
       "      <td>0</td>\n",
       "    </tr>\n",
       "    <tr>\n",
       "      <th>3</th>\n",
       "      <td>@_army_brasileira_7 \\n _army_brasileira_7 \\n\\n...</td>\n",
       "      <td>0</td>\n",
       "    </tr>\n",
       "    <tr>\n",
       "      <th>4</th>\n",
       "      <td>@abelardo_moura ainda bem que foi o de fio, po...</td>\n",
       "      <td>0</td>\n",
       "    </tr>\n",
       "  </tbody>\n",
       "</table>\n",
       "</div>"
      ],
      "text/plain": [
       "                                               Teste  Classificacao_Teste\n",
       "0  favela venceu, o pai lançou um airpods monstro...                    0\n",
       "1  [weverse]\\n\\n“namjoon oppa, se eles lançarem a...                    0\n",
       "2    @priboechat comprei um fone tipo airpods e amei                    0\n",
       "3  @_army_brasileira_7 \\n _army_brasileira_7 \\n\\n...                    0\n",
       "4  @abelardo_moura ainda bem que foi o de fio, po...                    0"
      ]
     },
<<<<<<< HEAD
     "execution_count": 21,
=======
     "execution_count": 52,
>>>>>>> b9fe26816743253b90cb4bf88f9646a77cc59b27
     "metadata": {},
     "output_type": "execute_result"
    }
   ],
   "source": [
    "test = pd.read_excel(filename, sheet_name = 'Teste')\n",
    "test.head(5)"
   ]
  },
  {
   "cell_type": "code",
<<<<<<< HEAD
   "execution_count": 22,
=======
   "execution_count": 53,
>>>>>>> b9fe26816743253b90cb4bf88f9646a77cc59b27
   "metadata": {},
   "outputs": [
    {
     "data": {
      "text/plain": [
       "0    0.713333\n",
       "1    0.286667\n",
       "Name: Classificacao_Teste, dtype: float64"
      ]
     },
<<<<<<< HEAD
     "execution_count": 22,
=======
     "execution_count": 53,
>>>>>>> b9fe26816743253b90cb4bf88f9646a77cc59b27
     "metadata": {},
     "output_type": "execute_result"
    }
   ],
   "source": [
    "test.Classificacao_Teste.value_counts(True)"
   ]
  },
  {
   "cell_type": "markdown",
   "metadata": {},
   "source": [
    "___\n",
    "## Classificador automático de sentimento\n"
   ]
  },
  {
   "cell_type": "markdown",
   "metadata": {},
   "source": [
    "Faça aqui uma descrição do seu produto e o que considerou como relevante ou não relevante na classificação dos tweets.\n",
    "\n",
    "### Produto escolhido ###\n",
    "Os Airpods, lançamento da Apple no ano de 2016, são pequenos fones com conexão via bluetooth, que vêm acompanhados do estojo (usado para recarregá-los) e de um cabo lightning (carregador).\n",
    "\n",
    "- Os tweets considerados relevantes foram aqueles que citavam alguma caracteristica relacionada ao produto escolhido, como por exemplo a durabilidade, a facilidade em perder os fones, preço e críticas/elogios aos Airpods como um todo.\n",
    "\n",
    "- Os tweets irrelevantes, por sua vez, são aqueles que citam o produto, porém de uma forma que não é possivel extrair um feedback significativo sobre satisfação ou qualidades (positivas ou negativas) como, por exemplo, uma frase citando alguns itens aleatórios (dentre eles, os Airpods)."
   ]
  },
  {
   "cell_type": "markdown",
   "metadata": {},
   "source": [
    "___\n",
    "### Montando um Classificador Naive-Bayes\n",
    "\n",
    "Considerando apenas as mensagens da planilha Treinamento, ensine  seu classificador."
   ]
  },
  {
   "cell_type": "code",
<<<<<<< HEAD
   "execution_count": 23,
=======
   "execution_count": 71,
>>>>>>> b9fe26816743253b90cb4bf88f9646a77cc59b27
   "metadata": {},
   "outputs": [],
   "source": [
    "#Montando a função de limpeza principal e para a limpeza de palavras mais específicas** (cleanup)\n",
    "\n",
    "import re #utilizaremos para limpar o texto ('replace')\n",
    "\n",
    "\n",
    "def cleanup(text):\n",
    "    \"\"\"\n",
    "        Função de limpeza muito simples que troca alguns sinais básicos por espaços\n",
    "    \"\"\"\n",
    "    #import string\n",
    "    punctuation = '[\\/!-.?;:]' # Note que os sinais [] são delimitadores de um conjunto.\n",
    "    pattern = re.compile(punctuation)\n",
    "    text_subbed = re.sub(pattern, '', text) #substitui o primeiro argumento pelo segundo, e o terceiro argumento é onde será aplicada a substituição\n",
    "    text_subbed = re.sub('\\n', '', text_subbed) #retirando o enter (pular para a próxima linha)\n",
<<<<<<< HEAD
    "    \n",
    "    padrao = r'https\\w+'\n",
    "    pattern2 = re.compile(padrao)\n",
    "    text_subbed = re.sub(pattern2, '', text_subbed)\n",
    "    \n",
    "    return text_subbed.lower()\n",
    "\n",
    "\n",
    "def cleanup_links(text):\n",
    "    \n",
    "    padrao1 = r'@\\w+' #remove o símbolo ou escrita e as letras após ele\n",
    "    pattern1 = re.compile(padrao1)\n",
    "    text_subbed = re.sub(pattern1, '', text)  \n",
    "    \n",
    "    padrao3 = r'#\\w+'\n",
    "    pattern3 = re.compile(padrao3)\n",
    "    text_subbed3 = re.sub(pattern3, '', text_subbed)\n",
    "    \n",
    "    padrao4 = r'&\\w+'\n",
    "    pattern4 = re.compile(padrao4)\n",
    "    text_subbed4 = re.sub(pattern4, '', text_subbed3)\n",
    "    \n",
    "    return text_subbed4\n"
=======
    "    return text_subbed.lower\n",
    "\n",
    "def cleanup_palavras(string): #**\n",
    "    #vimos que haviam muitos links e marcações (@user), e que os mesmos poderiam atrapalhar no desempenho do classificador\n",
    "    #Usando a ferramenta starwith de string:\n",
    "    for i in string:\n",
    "        if (i.startwith('https') == True) or (i.startwith('@') == True):\n",
    "            i= re.sub(i, \"\", string) \n",
    "    return string\n",
    "\n",
    "\n",
    "    "
>>>>>>> b9fe26816743253b90cb4bf88f9646a77cc59b27
   ]
  },
  {
   "cell_type": "code",
<<<<<<< HEAD
   "execution_count": 25,
   "metadata": {},
   "outputs": [
    {
     "data": {
      "text/plain": [
       "'  gosta do  a gente  '"
      ]
     },
     "execution_count": 25,
     "metadata": {},
     "output_type": "execute_result"
=======
   "execution_count": 72,
   "metadata": {},
   "outputs": [
    {
     "ename": "AttributeError",
     "evalue": "'str' object has no attribute 'startwith'",
     "output_type": "error",
     "traceback": [
      "\u001b[1;31m---------------------------------------------------------------------------\u001b[0m",
      "\u001b[1;31mAttributeError\u001b[0m                            Traceback (most recent call last)",
      "\u001b[1;32m<ipython-input-72-53f757039848>\u001b[0m in \u001b[0;36m<module>\u001b[1;34m\u001b[0m\n\u001b[0;32m      1\u001b[0m \u001b[1;31m#Célula de Testes das funções:\u001b[0m\u001b[1;33m\u001b[0m\u001b[1;33m\u001b[0m\u001b[1;33m\u001b[0m\u001b[0m\n\u001b[0;32m      2\u001b[0m \u001b[0mvariavel_teste\u001b[0m\u001b[1;33m=\u001b[0m \u001b[1;34m\"@joniel,  gosta! do: https.hgahgsajd ?!\"\u001b[0m\u001b[1;33m\u001b[0m\u001b[1;33m\u001b[0m\u001b[0m\n\u001b[1;32m----> 3\u001b[1;33m \u001b[0mvariavel_limpa\u001b[0m\u001b[1;33m=\u001b[0m \u001b[0mcleanup_palavras\u001b[0m \u001b[1;33m(\u001b[0m\u001b[0mvariavel_teste\u001b[0m\u001b[1;33m)\u001b[0m\u001b[1;33m\u001b[0m\u001b[1;33m\u001b[0m\u001b[0m\n\u001b[0m\u001b[0;32m      4\u001b[0m \u001b[0mvariavel_limpa\u001b[0m\u001b[1;33m\u001b[0m\u001b[1;33m\u001b[0m\u001b[0m\n",
      "\u001b[1;32m<ipython-input-71-f5b92714b267>\u001b[0m in \u001b[0;36mcleanup_palavras\u001b[1;34m(string)\u001b[0m\n\u001b[0;32m     19\u001b[0m     \u001b[1;31m#Usando a ferramenta starwith de string:\u001b[0m\u001b[1;33m\u001b[0m\u001b[1;33m\u001b[0m\u001b[1;33m\u001b[0m\u001b[0m\n\u001b[0;32m     20\u001b[0m     \u001b[1;32mfor\u001b[0m \u001b[0mi\u001b[0m \u001b[1;32min\u001b[0m \u001b[0mstring\u001b[0m\u001b[1;33m:\u001b[0m\u001b[1;33m\u001b[0m\u001b[1;33m\u001b[0m\u001b[0m\n\u001b[1;32m---> 21\u001b[1;33m         \u001b[1;32mif\u001b[0m \u001b[1;33m(\u001b[0m\u001b[0mi\u001b[0m\u001b[1;33m.\u001b[0m\u001b[0mstartwith\u001b[0m\u001b[1;33m(\u001b[0m\u001b[1;34m'https'\u001b[0m\u001b[1;33m)\u001b[0m \u001b[1;33m==\u001b[0m \u001b[1;32mTrue\u001b[0m\u001b[1;33m)\u001b[0m \u001b[1;32mor\u001b[0m \u001b[1;33m(\u001b[0m\u001b[0mi\u001b[0m\u001b[1;33m.\u001b[0m\u001b[0mstartwith\u001b[0m\u001b[1;33m(\u001b[0m\u001b[1;34m'@'\u001b[0m\u001b[1;33m)\u001b[0m \u001b[1;33m==\u001b[0m \u001b[1;32mTrue\u001b[0m\u001b[1;33m)\u001b[0m\u001b[1;33m:\u001b[0m\u001b[1;33m\u001b[0m\u001b[1;33m\u001b[0m\u001b[0m\n\u001b[0m\u001b[0;32m     22\u001b[0m             \u001b[0mi\u001b[0m\u001b[1;33m=\u001b[0m \u001b[0mre\u001b[0m\u001b[1;33m.\u001b[0m\u001b[0msub\u001b[0m\u001b[1;33m(\u001b[0m\u001b[0mi\u001b[0m\u001b[1;33m,\u001b[0m \u001b[1;34m\"\"\u001b[0m\u001b[1;33m,\u001b[0m \u001b[0mstring\u001b[0m\u001b[1;33m)\u001b[0m\u001b[1;33m\u001b[0m\u001b[1;33m\u001b[0m\u001b[0m\n\u001b[0;32m     23\u001b[0m     \u001b[1;32mreturn\u001b[0m \u001b[0mstring\u001b[0m\u001b[1;33m\u001b[0m\u001b[1;33m\u001b[0m\u001b[0m\n",
      "\u001b[1;31mAttributeError\u001b[0m: 'str' object has no attribute 'startwith'"
     ]
>>>>>>> b9fe26816743253b90cb4bf88f9646a77cc59b27
    }
   ],
   "source": [
    "#Célula de Testes das funções:\n",
<<<<<<< HEAD
    "variavel_teste=\"@joniel,  gosta! do: https:'hgah, a gente #skaska &sasjas\"\n",
    "\n",
    "variavel_limpa = cleanup_links(variavel_teste)\n",
    "variavel_limpa\n",
    "variavel_limpa2= cleanup(variavel_limpa)\n",
    "variavel_limpa2\n"
=======
    "variavel_teste= \"@joniel,  gosta! do: https.hgahgsajd ?!\"\n",
    "variavel_limpa= cleanup_palavras (variavel_teste)\n",
    "variavel_limpa"
>>>>>>> b9fe26816743253b90cb4bf88f9646a77cc59b27
   ]
  },
  {
   "cell_type": "markdown",
   "metadata": {},
   "source": [
    "#### Para os tweets Relevantes: ####"
   ]
  },
  {
   "cell_type": "code",
<<<<<<< HEAD
   "execution_count": 26,
=======
   "execution_count": 60,
>>>>>>> b9fe26816743253b90cb4bf88f9646a77cc59b27
   "metadata": {},
   "outputs": [],
   "source": [
    "#perguntar como retirar os @ e oa nomes de usuários que os acompanham\n",
    "#perguntar sobre os espaços entre palavras e emojis\n",
    "#pesquisar sobre a suavização de laplace"
   ]
  },
  {
   "cell_type": "code",
<<<<<<< HEAD
   "execution_count": 27,
=======
   "execution_count": 62,
>>>>>>> b9fe26816743253b90cb4bf88f9646a77cc59b27
   "metadata": {},
   "outputs": [
    {
     "data": {
      "text/html": [
       "<div>\n",
       "<style scoped>\n",
       "    .dataframe tbody tr th:only-of-type {\n",
       "        vertical-align: middle;\n",
       "    }\n",
       "\n",
       "    .dataframe tbody tr th {\n",
       "        vertical-align: top;\n",
       "    }\n",
       "\n",
       "    .dataframe thead th {\n",
       "        text-align: right;\n",
       "    }\n",
       "</style>\n",
       "<table border=\"1\" class=\"dataframe\">\n",
       "  <thead>\n",
       "    <tr style=\"text-align: right;\">\n",
       "      <th></th>\n",
       "      <th>Treinamento</th>\n",
       "    </tr>\n",
       "  </thead>\n",
       "  <tbody>\n",
       "  </tbody>\n",
       "</table>\n",
       "</div>"
      ],
      "text/plain": [
       "Empty DataFrame\n",
       "Columns: [Treinamento]\n",
       "Index: []"
      ]
     },
<<<<<<< HEAD
     "execution_count": 27,
=======
     "execution_count": 62,
>>>>>>> b9fe26816743253b90cb4bf88f9646a77cc59b27
     "metadata": {},
     "output_type": "execute_result"
    }
   ],
   "source": [
    "#já foi dividido em rel. e irrel. pois depois não será possivel dividir por ser um df de apenas uma coluna \n",
    "train_rel_clean = train.loc[train[\"Classificacao_Treino\"] == 1, 'Treinamento'].apply(cleanup) \n",
    "train_rel_clean.to_frame()"
   ]
  },
  {
   "cell_type": "code",
<<<<<<< HEAD
   "execution_count": 28,
=======
   "execution_count": 63,
>>>>>>> b9fe26816743253b90cb4bf88f9646a77cc59b27
   "metadata": {},
   "outputs": [],
   "source": [
    "#train_rel_clean.astype(str)\n",
    "train_rel_lower = train_rel_clean.str.lower() #por que usar o .str ao inves de uma variavel-- Não quero trabalhar no dataset,mas em cada linha.\n",
    "train_rel = train_rel_lower.str.split()"
   ]
  },
  {
   "cell_type": "code",
<<<<<<< HEAD
   "execution_count": 29,
   "metadata": {},
   "outputs": [
    {
     "data": {
      "text/plain": [
       "pandas.core.series.Series"
      ]
     },
     "execution_count": 29,
     "metadata": {},
     "output_type": "execute_result"
=======
   "execution_count": 59,
   "metadata": {},
   "outputs": [
    {
     "ename": "NameError",
     "evalue": "name 'train_rel_clean' is not defined",
     "output_type": "error",
     "traceback": [
      "\u001b[1;31m---------------------------------------------------------------------------\u001b[0m",
      "\u001b[1;31mNameError\u001b[0m                                 Traceback (most recent call last)",
      "\u001b[1;32m<ipython-input-59-084d65b6507a>\u001b[0m in \u001b[0;36m<module>\u001b[1;34m\u001b[0m\n\u001b[1;32m----> 1\u001b[1;33m \u001b[0mtype\u001b[0m\u001b[1;33m(\u001b[0m\u001b[0mtrain_rel_clean\u001b[0m\u001b[1;33m)\u001b[0m\u001b[1;33m\u001b[0m\u001b[1;33m\u001b[0m\u001b[0m\n\u001b[0m",
      "\u001b[1;31mNameError\u001b[0m: name 'train_rel_clean' is not defined"
     ]
>>>>>>> b9fe26816743253b90cb4bf88f9646a77cc59b27
    }
   ],
   "source": [
    "type(train_rel_clean)"
   ]
  },
  {
   "cell_type": "code",
<<<<<<< HEAD
   "execution_count": 30,
=======
   "execution_count": 74,
>>>>>>> b9fe26816743253b90cb4bf88f9646a77cc59b27
   "metadata": {},
   "outputs": [
    {
     "data": {
      "text/plain": [
       "0       @taecgiri\n",
       "1             que\n",
       "2         airpods\n",
       "3           podre\n",
       "4               é\n",
       "          ...    \n",
       "1412         caso\n",
       "1413        perdi\n",
       "1414          meu\n",
       "1415      airpods\n",
       "1416            🤡\n",
       "Length: 1417, dtype: object"
      ]
     },
<<<<<<< HEAD
     "execution_count": 30,
=======
     "execution_count": 74,
>>>>>>> b9fe26816743253b90cb4bf88f9646a77cc59b27
     "metadata": {},
     "output_type": "execute_result"
    }
   ],
   "source": [
    "train_rel_l = []  #criando uma lista para englobar todas as outras listas criadas com o .split\n",
    "\n",
    "for palavras in train_rel:\n",
    "    train_rel_l += palavras\n",
    "serie_train_rel = pd.Series(train_rel_l)\n",
    "serie_train_rel"
   ]
  },
  {
   "cell_type": "code",
<<<<<<< HEAD
   "execution_count": 31,
=======
   "execution_count": 76,
>>>>>>> b9fe26816743253b90cb4bf88f9646a77cc59b27
   "metadata": {},
   "outputs": [
    {
     "data": {
      "text/plain": [
<<<<<<< HEAD
       "airpods    0.060482\n",
       "o          0.028198\n",
       "de         0.026154\n",
       "que        0.022477\n",
       "um         0.020842\n",
       "             ...   \n",
       "zovido     0.000409\n",
       "coçando    0.000409\n",
       "morro      0.000409\n",
       "saco       0.000409\n",
       "meus,      0.000409\n",
       "Length: 945, dtype: float64"
      ]
     },
     "execution_count": 31,
=======
       "airpods        0.068454\n",
       "que            0.025406\n",
       "um             0.023994\n",
       "o              0.023289\n",
       "de             0.023289\n",
       "                 ...   \n",
       "abençoada      0.000706\n",
       "desse          0.000706\n",
       "gg             0.000706\n",
       "pais           0.000706\n",
       "sumirammmmm    0.000706\n",
       "Length: 574, dtype: float64"
      ]
     },
     "execution_count": 76,
>>>>>>> b9fe26816743253b90cb4bf88f9646a77cc59b27
     "metadata": {},
     "output_type": "execute_result"
    }
   ],
   "source": [
    "serie_train_rel_abs = serie_train_rel.value_counts(True)\n",
    "serie_train_rel_abs"
   ]
  },
  {
   "cell_type": "markdown",
   "metadata": {},
   "source": [
<<<<<<< HEAD
    "### Para os tweets Irrelevantes: ###"
   ]
  },
  {
   "cell_type": "code",
   "execution_count": 32,
   "metadata": {},
   "outputs": [
    {
     "data": {
      "text/html": [
       "<div>\n",
       "<style scoped>\n",
       "    .dataframe tbody tr th:only-of-type {\n",
       "        vertical-align: middle;\n",
       "    }\n",
       "\n",
       "    .dataframe tbody tr th {\n",
       "        vertical-align: top;\n",
       "    }\n",
       "\n",
       "    .dataframe thead th {\n",
       "        text-align: right;\n",
       "    }\n",
       "</style>\n",
       "<table border=\"1\" class=\"dataframe\">\n",
       "  <thead>\n",
       "    <tr style=\"text-align: right;\">\n",
       "      <th></th>\n",
       "      <th>Treinamento</th>\n",
       "    </tr>\n",
       "  </thead>\n",
       "  <tbody>\n",
       "    <tr>\n",
       "      <td>0</td>\n",
       "      <td>alguem me da um apple watch 😭😭😭😭 um macbook pr...</td>\n",
       "    </tr>\n",
       "    <tr>\n",
       "      <td>3</td>\n",
       "      <td>isso eu sei mas nem esperaria algo assim é q...</td>\n",
       "    </tr>\n",
       "    <tr>\n",
       "      <td>6</td>\n",
       "      <td>sete anos atrás em 09092014 o valor do dólar ...</td>\n",
       "    </tr>\n",
       "    <tr>\n",
       "      <td>8</td>\n",
       "      <td>queria tanto um fone airpods mas zero dinheiro</td>\n",
       "    </tr>\n",
       "    <tr>\n",
       "      <td>9</td>\n",
       "      <td>necessito de um airpods</td>\n",
       "    </tr>\n",
       "    <tr>\n",
       "      <td>...</td>\n",
       "      <td>...</td>\n",
       "    </tr>\n",
       "    <tr>\n",
       "      <td>592</td>\n",
       "      <td>items do dreamcatcher para uma boa noite de so...</td>\n",
       "    </tr>\n",
       "    <tr>\n",
       "      <td>595</td>\n",
       "      <td>vale a pena pegar um airpods pro</td>\n",
       "    </tr>\n",
       "    <tr>\n",
       "      <td>597</td>\n",
       "      <td>me compra um airpods</td>\n",
       "    </tr>\n",
       "    <tr>\n",
       "      <td>598</td>\n",
       "      <td>cara de mau mas no airpods tá tocando harry st...</td>\n",
       "    </tr>\n",
       "    <tr>\n",
       "      <td>599</td>\n",
       "      <td>algm tem link daquele airpods da shoppee q o i...</td>\n",
       "    </tr>\n",
       "  </tbody>\n",
       "</table>\n",
       "<p>432 rows × 1 columns</p>\n",
       "</div>"
      ],
      "text/plain": [
       "                                           Treinamento\n",
       "0    alguem me da um apple watch 😭😭😭😭 um macbook pr...\n",
       "3      isso eu sei mas nem esperaria algo assim é q...\n",
       "6     sete anos atrás em 09092014 o valor do dólar ...\n",
       "8       queria tanto um fone airpods mas zero dinheiro\n",
       "9                              necessito de um airpods\n",
       "..                                                 ...\n",
       "592  items do dreamcatcher para uma boa noite de so...\n",
       "595                  vale a pena pegar um airpods pro \n",
       "597                               me compra um airpods\n",
       "598  cara de mau mas no airpods tá tocando harry st...\n",
       "599  algm tem link daquele airpods da shoppee q o i...\n",
       "\n",
       "[432 rows x 1 columns]"
      ]
     },
     "execution_count": 32,
     "metadata": {},
     "output_type": "execute_result"
    }
   ],
   "source": [
    "train_irrelevantes_clean = train.loc[train[\"Classificacao_Treino\"] == 0, 'Treinamento'].apply(cleanup_links)\n",
    "train_irrelevantes_clean.apply(cleanup).to_frame()\n"
   ]
  },
  {
   "cell_type": "code",
   "execution_count": 33,
   "metadata": {},
   "outputs": [],
   "source": [
    "train_irrelevantes_lower = train_irrelevantes_clean.str.lower() \n",
    "train_irrelevantes = train_irrelevantes_lower.str.split()"
   ]
  },
  {
   "cell_type": "code",
   "execution_count": 34,
   "metadata": {},
   "outputs": [
    {
     "data": {
      "text/plain": [
       "pandas.core.series.Series"
      ]
     },
     "execution_count": 34,
     "metadata": {},
     "output_type": "execute_result"
    }
   ],
   "source": [
    "type(train_irrelevantes_clean)"
   ]
  },
  {
   "cell_type": "code",
   "execution_count": 35,
   "metadata": {},
   "outputs": [
    {
     "data": {
      "text/plain": [
       "0          alguem\n",
       "1              me\n",
       "2              da\n",
       "3              um\n",
       "4           apple\n",
       "          ...    \n",
       "7620            o\n",
       "7621       iphone\n",
       "7622    reconhece\n",
       "7623         como\n",
       "7624    original?\n",
       "Length: 7625, dtype: object"
      ]
     },
     "execution_count": 35,
     "metadata": {},
     "output_type": "execute_result"
    }
   ],
   "source": [
    "train_irrelevantes_l = []  #criando uma lista para englobar todas as outras listas criadas com o .split\n",
    "\n",
    "for palavras in train_irrelevantes:\n",
    "    train_irrelevantes_l += palavras\n",
    "serie_train_irrelevantes = pd.Series(train_irrelevantes_l)\n",
    "serie_train_irrelevantes"
   ]
  },
  {
   "cell_type": "code",
   "execution_count": 36,
   "metadata": {},
   "outputs": [
    {
     "data": {
      "text/plain": [
       "airpods         0.051934\n",
       "o               0.025049\n",
       "e               0.024131\n",
       "um              0.023869\n",
       "de              0.023869\n",
       "                  ...   \n",
       "maior,          0.000131\n",
       "recebe          0.000131\n",
       "gênesis         0.000131\n",
       "necessidade     0.000131\n",
       "lightsticks,    0.000131\n",
       "Length: 2348, dtype: float64"
      ]
     },
     "execution_count": 36,
     "metadata": {},
     "output_type": "execute_result"
    }
   ],
   "source": [
    "serie_train_irrelevantes_absoluta = serie_train_irrelevantes.value_counts(True)\n",
    "serie_train_irrelevantes_absoluta"
=======
    "#### Para os tweets Irrelevantes: ####"
>>>>>>> b9fe26816743253b90cb4bf88f9646a77cc59b27
   ]
  },
  {
   "cell_type": "markdown",
   "metadata": {},
   "source": [
    "___\n",
    "### Verificando a performance do Classificador\n",
    "\n",
    "Agora você deve testar o seu classificador com a base de Testes."
   ]
  },
  {
   "cell_type": "code",
   "execution_count": null,
   "metadata": {},
   "outputs": [],
   "source": []
  },
  {
   "cell_type": "code",
   "execution_count": null,
   "metadata": {},
   "outputs": [],
   "source": []
  },
  {
   "cell_type": "code",
   "execution_count": null,
   "metadata": {},
   "outputs": [],
   "source": []
  },
  {
   "cell_type": "markdown",
   "metadata": {},
   "source": [
    "___\n",
    "### Concluindo"
   ]
  },
  {
   "cell_type": "code",
   "execution_count": null,
   "metadata": {},
   "outputs": [],
   "source": []
  },
  {
   "cell_type": "code",
   "execution_count": null,
   "metadata": {},
   "outputs": [],
   "source": []
  },
  {
   "cell_type": "code",
   "execution_count": null,
   "metadata": {},
   "outputs": [],
   "source": []
  },
  {
   "cell_type": "markdown",
   "metadata": {},
   "source": [
    "___\n",
    "### Qualidade do Classificador a partir de novas separações dos tweets entre Treinamento e Teste\n",
    "\n",
    "Caso for fazer esse item do Projeto"
   ]
  },
  {
   "cell_type": "code",
   "execution_count": null,
   "metadata": {},
   "outputs": [],
   "source": []
  },
  {
   "cell_type": "code",
   "execution_count": null,
   "metadata": {},
   "outputs": [],
   "source": []
  },
  {
   "cell_type": "code",
   "execution_count": null,
   "metadata": {},
   "outputs": [],
   "source": []
  },
  {
   "cell_type": "markdown",
   "metadata": {},
   "source": [
    "___\n",
    "## Aperfeiçoamento:\n",
    "\n",
    "Trabalhos que conseguirem pelo menos conceito B vão evoluir em conceito dependendo da quantidade de itens avançados:\n",
    "\n",
    "* IMPLEMENTOU outras limpezas e transformações que não afetem a qualidade da informação contida nos tweets. Ex: stemming, lemmatization, stopwords\n",
    "* CORRIGIU separação de espaços entre palavras e emojis ou entre emojis e emojis\n",
    "* CRIOU categorias intermediárias de relevância baseadas na probabilidade: ex.: muito relevante, relevante, neutro, irrelevante, muito irrelevante. Pelo menos quatro categorias, com adição de mais tweets na base, conforme enunciado. (OBRIGATÓRIO PARA TRIOS, sem contar como item avançado)\n",
    "* EXPLICOU porquê não pode usar o próprio classificador para gerar mais amostras de treinamento\n",
    "* PROPÔS diferentes cenários para Naïve Bayes fora do contexto do projeto\n",
    "* SUGERIU e EXPLICOU melhorias reais com indicações concretas de como implementar (indicar como fazer e indicar material de pesquisa)\n",
    "* FEZ o item 6. Qualidade do Classificador a partir de novas separações dos tweets entre Treinamento e Teste descrito no enunciado do projeto (OBRIGATÓRIO para conceitos A ou A+)"
   ]
  },
  {
   "cell_type": "markdown",
   "metadata": {},
   "source": [
    "___\n",
    "## Referências"
   ]
  },
  {
   "cell_type": "markdown",
   "metadata": {},
   "source": [
    "[Naive Bayes and Text Classification](https://arxiv.org/pdf/1410.5329.pdf)  **Mais completo**\n",
    "\n",
    "[A practical explanation of a Naive Bayes Classifier](https://monkeylearn.com/blog/practical-explanation-naive-bayes-classifier/) **Mais simples**"
   ]
  },
  {
   "cell_type": "code",
   "execution_count": null,
   "metadata": {},
   "outputs": [],
   "source": []
  }
 ],
 "metadata": {
  "kernelspec": {
   "display_name": "Python 3",
   "language": "python",
   "name": "python3"
  },
  "language_info": {
   "codemirror_mode": {
    "name": "ipython",
    "version": 3
   },
   "file_extension": ".py",
   "mimetype": "text/x-python",
   "name": "python",
   "nbconvert_exporter": "python",
   "pygments_lexer": "ipython3",
   "version": "3.8.5"
  }
 },
 "nbformat": 4,
 "nbformat_minor": 4
}
