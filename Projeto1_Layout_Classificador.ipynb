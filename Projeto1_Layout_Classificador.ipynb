{
 "cells": [
  {
   "cell_type": "markdown",
   "metadata": {},
   "source": [
    "# Projeto 1 - Ciência dos Dados"
   ]
  },
  {
   "cell_type": "markdown",
   "metadata": {},
   "source": [
    "### Alunos, digo, contratados da Apple :) \n",
    "\n",
    "#### Nome: Livia Brigido do Nascimento\n",
    "\n",
    "#### Nome: Fabio Dotoli Ferreira Filho\n",
    "\n"
   ]
  },
  {
   "cell_type": "markdown",
   "metadata": {},
   "source": [
    "Atenção: Serão permitidos grupos de três pessoas, mas com uma rubrica mais exigente. Grupos deste tamanho precisarão fazer um questionário de avaliação de trabalho em equipe"
   ]
  },
  {
   "cell_type": "markdown",
   "metadata": {},
   "source": [
    "## INTRODUÇÃO: ## \n",
    "\n",
    "##### Enunciado do projeto proposto: Você foi contratado por uma empresa para analisar como os clientes estão reagindo a umdeterminado produto no Twitter. A empresa deseja que você: crie um programa que selecionealgumas mensagens disponíveis no Twitter, as quais mencionam esse particular produto; e classifique esses tweets como \"relevante\" ou \"irrelevante\", pelo menos.\n",
    "\n",
    "#### Os objetivos principais foram:\n",
    "\n",
    "##### - Ter a primeira base de treinamento para o programa, ou seja, classificar à mão para servir de \"exemplo\" para a máquina;\n",
    "\n",
    "##### - Juntamente à isso ter uma base de teste para colocar em prática o programa. Junto à ela uma classificação também feita à mão para fins de comparação;\n",
    "\n",
    "##### - Limpar os dados da maneira que mais se encaixava com o nosso objetivo (Como por exemplo não apagar os emojis, mas considerá-los colocando espaços entre eles e as palavras;\n",
    "\n",
    "##### - Enxergar a problemática que um termo exclusivo poderia trazer e, desse modo, adicionar a suavização (Laplace);\n",
    "\n",
    "##### - Analisar as probabilidades de ser relevante ou não cada tweet;\n",
    "\n",
    "##### - Finalizar com observações gerais sobre a atividade proposta.\n"
   ]
  },
  {
   "cell_type": "markdown",
   "metadata": {},
   "source": [
    "___\n",
    "Carregando algumas bibliotecas que serão úteis:"
   ]
  },
  {
   "cell_type": "code",
   "execution_count": 1,
   "metadata": {},
   "outputs": [],
   "source": [
    "%matplotlib inline\n",
    "import pandas as pd\n",
    "import matplotlib.pyplot as plt\n",
    "import numpy as np\n",
    "import os\n",
    "from emoji import UNICODE_EMOJI  #Essa serve para quê mesmo?\n",
    "import re #utilizaremos para limpar o texto ('replace')\n",
    "import nltk\n",
    "from nltk.corpus import stopwords"
   ]
  },
  {
   "cell_type": "code",
<<<<<<< HEAD
   "execution_count": 2,
=======
   "execution_count": 271,
>>>>>>> 05fc7d9b5385dd728905ebeffe6f8b5922f8e574
   "metadata": {},
   "outputs": [],
   "source": [
    "#pip install emoji\n",
    "#import nltk\n",
    "#nltk.download('stopwords')"
   ]
  },
  {
   "cell_type": "code",
   "execution_count": 3,
   "metadata": {
    "scrolled": false
   },
   "outputs": [
    {
     "name": "stdout",
     "output_type": "stream",
     "text": [
      "Esperamos trabalhar no diretório\n",
      "/Users/fabiodff/Desktop/P1Cdados2021_2\n"
     ]
    }
   ],
   "source": [
    "# Confirmando o diretório a ser utilizado:\n",
    "\n",
    "print('Esperamos trabalhar no diretório')\n",
    "print(os.getcwd())"
   ]
  },
  {
   "cell_type": "markdown",
   "metadata": {},
   "source": [
    "Carregando a base de dados com os tweets classificados como relevantes e não relevantes:"
   ]
  },
  {
   "cell_type": "code",
   "execution_count": 4,
   "metadata": {},
   "outputs": [],
   "source": [
    "filename = 'Airpods.xlsx'"
   ]
  },
  {
   "cell_type": "code",
   "execution_count": 5,
   "metadata": {},
   "outputs": [
    {
     "data": {
      "text/html": [
       "<div>\n",
       "<style scoped>\n",
       "    .dataframe tbody tr th:only-of-type {\n",
       "        vertical-align: middle;\n",
       "    }\n",
       "\n",
       "    .dataframe tbody tr th {\n",
       "        vertical-align: top;\n",
       "    }\n",
       "\n",
       "    .dataframe thead th {\n",
       "        text-align: right;\n",
       "    }\n",
       "</style>\n",
       "<table border=\"1\" class=\"dataframe\">\n",
       "  <thead>\n",
       "    <tr style=\"text-align: right;\">\n",
       "      <th></th>\n",
       "      <th>Treinamento</th>\n",
       "      <th>Classificacao_Treino</th>\n",
       "    </tr>\n",
       "  </thead>\n",
       "  <tbody>\n",
       "    <tr>\n",
       "      <td>0</td>\n",
       "      <td>alguem me da um apple watch 😭😭😭😭 um macbook pr...</td>\n",
       "      <td>0</td>\n",
       "    </tr>\n",
       "    <tr>\n",
       "      <td>1</td>\n",
       "      <td>@hschmaiske @matheus1lva airpods pro é bom? é....</td>\n",
       "      <td>1</td>\n",
       "    </tr>\n",
       "    <tr>\n",
       "      <td>2</td>\n",
       "      <td>mais uns airpods estragados… que sorte 🤦🏻‍♂️</td>\n",
       "      <td>1</td>\n",
       "    </tr>\n",
       "    <tr>\n",
       "      <td>3</td>\n",
       "      <td>@annaeso @masbahnana isso eu sei, mas nem espe...</td>\n",
       "      <td>0</td>\n",
       "    </tr>\n",
       "    <tr>\n",
       "      <td>4</td>\n",
       "      <td>sonhando com o dia que vou achar airpods por m...</td>\n",
       "      <td>1</td>\n",
       "    </tr>\n",
       "  </tbody>\n",
       "</table>\n",
       "</div>"
      ],
      "text/plain": [
       "                                         Treinamento  Classificacao_Treino\n",
       "0  alguem me da um apple watch 😭😭😭😭 um macbook pr...                     0\n",
       "1  @hschmaiske @matheus1lva airpods pro é bom? é....                     1\n",
       "2       mais uns airpods estragados… que sorte 🤦🏻‍♂️                     1\n",
       "3  @annaeso @masbahnana isso eu sei, mas nem espe...                     0\n",
       "4  sonhando com o dia que vou achar airpods por m...                     1"
      ]
     },
     "execution_count": 5,
     "metadata": {},
     "output_type": "execute_result"
    }
   ],
   "source": [
    "#A de treinamento (A que será responsável pela ação de \"ensinar\" a máquina o que é ou não é relevante)\n",
    "\n",
    "train = pd.read_excel(filename, sheet_name = 'Treinamento')\n",
    "train.head(5)"
   ]
  },
  {
   "cell_type": "code",
   "execution_count": 6,
   "metadata": {},
   "outputs": [
    {
     "data": {
      "text/plain": [
       "0    0.633333\n",
       "1    0.366667\n",
       "Name: Classificacao_Treino, dtype: float64"
      ]
     },
     "execution_count": 6,
     "metadata": {},
     "output_type": "execute_result"
    }
   ],
   "source": [
    "#Observando a quantidade relativa das duas classificações:\n",
    "\n",
    "train.Classificacao_Treino.value_counts(True) #Precisamos equilibrar um pouco mais esses dados:"
   ]
  },
  {
   "cell_type": "code",
   "execution_count": 7,
   "metadata": {},
   "outputs": [
    {
     "data": {
      "text/html": [
       "<div>\n",
       "<style scoped>\n",
       "    .dataframe tbody tr th:only-of-type {\n",
       "        vertical-align: middle;\n",
       "    }\n",
       "\n",
       "    .dataframe tbody tr th {\n",
       "        vertical-align: top;\n",
       "    }\n",
       "\n",
       "    .dataframe thead th {\n",
       "        text-align: right;\n",
       "    }\n",
       "</style>\n",
       "<table border=\"1\" class=\"dataframe\">\n",
       "  <thead>\n",
       "    <tr style=\"text-align: right;\">\n",
       "      <th></th>\n",
       "      <th>Teste</th>\n",
       "      <th>Classificacao_Teste</th>\n",
       "    </tr>\n",
       "  </thead>\n",
       "  <tbody>\n",
       "    <tr>\n",
       "      <td>0</td>\n",
       "      <td>favela venceu, o pai lançou um airpods monstro...</td>\n",
       "      <td>0</td>\n",
       "    </tr>\n",
       "    <tr>\n",
       "      <td>1</td>\n",
       "      <td>[weverse]\\n\\n“namjoon oppa, se eles lançarem a...</td>\n",
       "      <td>0</td>\n",
       "    </tr>\n",
       "    <tr>\n",
       "      <td>2</td>\n",
       "      <td>@priboechat comprei um fone tipo airpods e amei</td>\n",
       "      <td>0</td>\n",
       "    </tr>\n",
       "    <tr>\n",
       "      <td>3</td>\n",
       "      <td>@_army_brasileira_7 \\n _army_brasileira_7 \\n\\n...</td>\n",
       "      <td>0</td>\n",
       "    </tr>\n",
       "    <tr>\n",
       "      <td>4</td>\n",
       "      <td>@abelardo_moura ainda bem que foi o de fio, po...</td>\n",
       "      <td>0</td>\n",
       "    </tr>\n",
       "  </tbody>\n",
       "</table>\n",
       "</div>"
      ],
      "text/plain": [
       "                                               Teste  Classificacao_Teste\n",
       "0  favela venceu, o pai lançou um airpods monstro...                    0\n",
       "1  [weverse]\\n\\n“namjoon oppa, se eles lançarem a...                    0\n",
       "2    @priboechat comprei um fone tipo airpods e amei                    0\n",
       "3  @_army_brasileira_7 \\n _army_brasileira_7 \\n\\n...                    0\n",
       "4  @abelardo_moura ainda bem que foi o de fio, po...                    0"
      ]
     },
     "execution_count": 7,
     "metadata": {},
     "output_type": "execute_result"
    }
   ],
   "source": [
    "#A de teste (Com a classficação que fizemos apenas para comparar com a futura ação da máquina)\n",
    "\n",
    "test = pd.read_excel(filename, sheet_name = 'Teste')\n",
    "test.head(5)"
   ]
  },
  {
   "cell_type": "code",
   "execution_count": 8,
   "metadata": {},
   "outputs": [
    {
     "data": {
      "text/plain": [
       "0    0.713333\n",
       "1    0.286667\n",
       "Name: Classificacao_Teste, dtype: float64"
      ]
     },
     "execution_count": 8,
     "metadata": {},
     "output_type": "execute_result"
    }
   ],
   "source": [
    "#Observando a quantidade relativa das duas classificações:\n",
    "\n",
    "test.Classificacao_Teste.value_counts(True)"
   ]
  },
  {
   "cell_type": "markdown",
   "metadata": {},
   "source": [
    "___\n",
    "## Classificador automático de sentimento\n"
   ]
  },
  {
   "cell_type": "markdown",
   "metadata": {},
   "source": [
    "### Produto escolhido ##\n",
    "\n",
    "Os Airpods, lançamento da Apple no ano de 2016, são pequenos fones com conexão via bluetooth, que vêm acompanhados do estojo (usado para recarregá-los) e de um cabo lightning (carregador).\n",
    "\n",
    "Os tweets considerados relevantes foram aqueles que citavam alguma caracteristica relacionada ao produto escolhido, como por exemplo a durabilidade, a facilidade em perder os fones, preço e críticas/elogios aos Airpods como um todo.\n",
    "\n",
    "Os tweets irrelevantes, por sua vez, são aqueles que citam o produto, porém de uma forma que não é possivel extrair um feedback significativo sobre satisfação ou qualidades (positivas ou negativas) como, por exemplo, uma frase citando alguns itens aleatórios (dentre eles, os Airpods)."
   ]
  },
  {
   "cell_type": "markdown",
   "metadata": {},
   "source": [
    "___\n",
    "### Montando um Classificador Naive-Bayes\n",
    "\n",
    "Considerando apenas as mensagens da planilha Treinamento, ensine  seu classificador."
   ]
  },
  {
   "cell_type": "code",
   "execution_count": 9,
   "metadata": {},
   "outputs": [],
   "source": [
    "#Montando a função de limpeza principal e para a limpeza de palavras mais específicas** (cleanup)\n",
    "\n",
    "def cleanup_emoji(emoji1):\n",
    "    return emoji1 in UNICODE_EMOJI\n",
    "\n",
    "def cleanup(text):\n",
    "    \"\"\"\n",
    "        Função de limpeza muito simples que troca alguns sinais básicos por espaços\n",
    "    \"\"\"\n",
    "    #import string\n",
    "    punctuation = '[\"\\/!-.:?;\"]' # Note que os sinais [] são delimitadores de um conjunto.\n",
    "    pattern = re.compile(punctuation)\n",
    "    text_subbed = re.sub(pattern, '', text) #substitui o primeiro argumento pelo segundo, e o terceiro argumento é onde será aplicada a substituição\n",
    "    text_subbed = re.sub('\\n', ' ', text_subbed) #retirando o enter (pular para a próxima linha)\n",
    "    text_subbed = ''.join(' ' + char + ' ' if cleanup_emoji(char) else char for char in text_subbed).strip()\n",
    "\n",
    "    \n",
    "    padrao = r'https\\w+'\n",
    "    pattern2 = re.compile(padrao)\n",
    "    text_subbed2 = re.sub(pattern2, '', text_subbed)\n",
    "    \n",
    "    return text_subbed2.lower()\n",
    "\n",
    "\n",
    "def cleanup_links(text):\n",
    "    \n",
    "    padrao1 = r'@\\w+' #remove o símbolo ou escrita e as letras após ele\n",
    "    pattern1 = re.compile(padrao1)\n",
    "    text_subbed = re.sub(pattern1, '', text)  \n",
    "    \n",
    "    padrao3 = r'#\\w+'\n",
    "    pattern3 = re.compile(padrao3)\n",
    "    text_subbed3 = re.sub(pattern3, '', text_subbed)\n",
    "    \n",
    "    padrao4 = r'&\\w+'\n",
    "    pattern4 = re.compile(padrao4)\n",
    "    text_subbed4 = re.sub(pattern4, '', text_subbed3)\n",
    "    \n",
    "    padrao5 = r'_\\w+'\n",
    "    pattern5 = re.compile(padrao5)\n",
    "    text_subbed5 = re.sub(pattern5, '', text_subbed4)\n",
    "    \n",
    "    \n",
    "    \n",
    "    return text_subbed5\n",
    "\n",
    "\n",
    "\n",
    "def stopwords_funcao(texto):\n",
    "    stop_words = (nltk.corpus.stopwords.words('portuguese'))\n",
    "    \n",
    "    stopwords_lista = []\n",
    "    \n",
    "    for palavras in texto:\n",
    "        if palavras not in stop_words: \n",
    "            stopwords_lista.append(palavras)\n",
    "    \n",
    "    return stopwords_lista"
   ]
  },
  {
   "cell_type": "code",
   "execution_count": 48,
   "metadata": {},
   "outputs": [],
   "source": [
    "#já foi dividido em rel. e irrel. pois depois não será possivel dividir por ser um df de apenas uma coluna \n",
    "train_relevantes_clean = train.loc[train[\"Classificacao_Treino\"] == 1, 'Treinamento'].apply(cleanup_links).apply(cleanup)\n"
   ]
  },
  {
   "cell_type": "code",
   "execution_count": 49,
   "metadata": {},
   "outputs": [],
   "source": [
    "train_relevantes_lower = train_relevantes_clean.str.lower() #por que usar o .str ao inves de uma variavel-- Não quero trabalhar no dataset,mas em cada linha.\n",
    "train_relevantes = train_relevantes_lower.str.split()\n",
    "train_relevantes_clean = train_relevantes.apply(stopwords_funcao)\n"
   ]
  },
  {
   "cell_type": "code",
   "execution_count": 50,
   "metadata": {},
   "outputs": [
    {
     "data": {
      "text/plain": [
       "pandas.core.series.Series"
      ]
     },
     "execution_count": 50,
     "metadata": {},
     "output_type": "execute_result"
    }
   ],
   "source": [
    "type(train_relevantes_clean)\n"
   ]
  },
  {
   "cell_type": "code",
   "execution_count": 51,
   "metadata": {},
   "outputs": [],
   "source": [
    "train_relevantes_l = []  #criando uma lista para englobar todas as outras listas criadas com o .split\n",
    "\n",
    "for palavras in train_relevantes_clean:\n",
    "    train_relevantes_l += palavras\n",
    "serie_train_relevantes = pd.Series(train_relevantes_l)\n"
   ]
  },
  {
   "cell_type": "code",
   "execution_count": 53,
   "metadata": {},
   "outputs": [],
   "source": [
    "serie_train_relevantes_absoluta = serie_train_relevantes.value_counts()\n",
    "\n"
   ]
  },
  {
   "cell_type": "code",
   "execution_count": 54,
   "metadata": {},
   "outputs": [],
   "source": [
    "train_irrelevantes_clean = train.loc[train[\"Classificacao_Treino\"] == 0, 'Treinamento'].apply(cleanup_links).apply(cleanup)\n"
   ]
  },
  {
   "cell_type": "code",
   "execution_count": 17,
   "metadata": {},
   "outputs": [],
   "source": [
    "train_irrelevantes_lower = train_irrelevantes_clean.str.lower() \n",
    "train_irrelevantes = train_irrelevantes_lower.str.split()\n",
    "train_irrelevantes_clean = train_irrelevantes.apply(stopwords_funcao)"
   ]
  },
  {
   "cell_type": "code",
   "execution_count": 18,
   "metadata": {},
   "outputs": [
    {
     "data": {
      "text/plain": [
       "pandas.core.series.Series"
      ]
     },
     "execution_count": 18,
     "metadata": {},
     "output_type": "execute_result"
    }
   ],
   "source": [
    "type(train_irrelevantes_clean)"
   ]
  },
  {
   "cell_type": "code",
   "execution_count": 55,
   "metadata": {},
   "outputs": [],
   "source": [
    "train_irrelevantes_l = []  #criando uma lista para englobar todas as outras listas criadas com o .split\n",
    "\n",
    "for palavras in train_irrelevantes_clean:\n",
    "    train_irrelevantes_l += palavras\n",
    "serie_train_irrelevantes = pd.Series(train_irrelevantes_l)\n"
   ]
  },
  {
   "cell_type": "code",
   "execution_count": 56,
   "metadata": {},
   "outputs": [],
   "source": [
    "serie_train_irrelevantes_absoluta = serie_train_irrelevantes.value_counts()\n"
   ]
  },
  {
   "cell_type": "code",
   "execution_count": 57,
   "metadata": {},
   "outputs": [],
   "source": [
    "test[\"Teste\"] = test[\"Teste\"].apply(cleanup_links).apply(cleanup) #atualizar dataframe\n"
   ]
  },
  {
   "cell_type": "code",
   "execution_count": 58,
   "metadata": {},
   "outputs": [],
   "source": [
    "train[\"Treinamento\"]= train[\"Treinamento\"].apply(cleanup_links).apply(cleanup)\n"
   ]
  },
  {
   "cell_type": "markdown",
   "metadata": {},
   "source": [
    "### Implementando a suavização de Laplace ###"
   ]
  },
  {
   "cell_type": "code",
   "execution_count": 24,
   "metadata": {},
   "outputs": [
    {
     "data": {
      "text/plain": [
       "1582"
      ]
     },
     "execution_count": 24,
     "metadata": {},
     "output_type": "execute_result"
    }
   ],
   "source": [
    "train_tamanho_irrelevantes = len(serie_train_irrelevantes_absoluta)\n",
    "train_tamanho_irrelevantes"
   ]
  },
  {
   "cell_type": "code",
   "execution_count": 25,
   "metadata": {},
   "outputs": [
    {
     "data": {
      "text/plain": [
       "1063"
      ]
     },
     "execution_count": 25,
     "metadata": {},
     "output_type": "execute_result"
    }
   ],
   "source": [
    "train_tamanho_relevantes = len(serie_train_relevantes_absoluta)\n",
    "train_tamanho_relevantes"
   ]
  },
  {
   "cell_type": "code",
   "execution_count": 26,
   "metadata": {},
   "outputs": [],
   "source": [
    "Dimensao = train_tamanho_irrelevantes + train_tamanho_relevantes\n",
    "D= Dimensao #Dimensão do nosso \"universo\" de palavras e emojis."
   ]
  },
  {
   "cell_type": "code",
   "execution_count": 27,
   "metadata": {},
   "outputs": [
    {
     "data": {
      "text/plain": [
       "2206"
      ]
     },
     "execution_count": 27,
     "metadata": {},
     "output_type": "execute_result"
    }
   ],
   "source": [
    "#Quantidade total de palavras em relevantes:\n",
    "Nr= len(train_relevantes_l)\n",
    "Nr"
   ]
  },
  {
   "cell_type": "code",
   "execution_count": 28,
   "metadata": {},
   "outputs": [
    {
     "data": {
      "text/plain": [
       "4265"
      ]
     },
     "execution_count": 28,
     "metadata": {},
     "output_type": "execute_result"
    }
   ],
   "source": [
    "#Quantidade total de palavras em irrelevantes:\n",
    "Ni= len(train_irrelevantes_l)\n",
    "Ni"
   ]
  },
  {
   "cell_type": "markdown",
   "metadata": {},
   "source": [
    "### Explicação das  três variáveis criadas: ###"
   ]
  },
  {
   "attachments": {
    "IMG1.png": {
     "image/png": "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"
    }
   },
   "cell_type": "markdown",
   "metadata": {},
   "source": [
    "![IMG1.png](attachment:IMG1.png)"
   ]
  },
  {
   "cell_type": "code",
   "execution_count": null,
   "metadata": {},
   "outputs": [],
   "source": []
  },
  {
   "cell_type": "markdown",
   "metadata": {},
   "source": [
    "## Enfim o classificador: ##\n"
   ]
  },
  {
   "cell_type": "code",
   "execution_count": 29,
   "metadata": {},
   "outputs": [],
   "source": [
    "#Função que será executada com \"apply\":\n",
    "def classificador_suavizado(tweet):\n",
    "    prob_relevante=1\n",
    "    prob_irrelevante=1\n",
    "    alpha= 1\n",
    "    lista_palavras = tweet.split()\n",
    "    for palavra in lista_palavras:\n",
    "        \n",
    "        #Como vimos que, quando o termo não existia na lista, dava erro pois não se igualava à zero automaticamente:\n",
    "        if palavra not in train_relevantes_l:\n",
    "            serie_train_relevantes_absoluta[palavra]=0\n",
    "        \n",
    "        elif palavra not in train_irrelevantes_l:\n",
    "            serie_train_irrelevantes_absoluta[palavra]=0\n",
    "            \n",
    "        if palavra in train_relevantes_l and palavra in train_irrelevantes_l:\n",
    "            prob_relevante*= (serie_train_relevantes_absoluta[palavra]+1)/ (Nr+D)\n",
    "            prob_irrelevante*= (serie_train_irrelevantes_absoluta[palavra]+1)/ (Ni+D)\n",
    "        \n",
    "    #Em vez do que está abaixo, acrescentar em uma coluna nova a classficação feita pela maquina (Para comparar posteriormente com a nossa feita à mão)\n",
    "    if prob_relevante>prob_irrelevante:\n",
    "        return 1\n",
    "    else:\n",
    "        return 0\n"
   ]
  },
  {
   "cell_type": "code",
   "execution_count": 46,
   "metadata": {},
   "outputs": [],
   "source": [
    "test[\"classificacao_modelo\"]= test[\"Teste\"].apply(classificador_suavizado)"
   ]
  },
  {
   "cell_type": "code",
   "execution_count": 47,
   "metadata": {},
   "outputs": [
    {
     "data": {
      "text/plain": [
       "0    0.74\n",
       "1    0.26\n",
       "Name: classificacao_modelo, dtype: float64"
      ]
     },
     "execution_count": 47,
     "metadata": {},
     "output_type": "execute_result"
    }
   ],
   "source": [
    "test[\"classificacao_modelo\"].value_counts(True)"
   ]
  },
  {
   "cell_type": "markdown",
   "metadata": {},
   "source": [
    "___\n",
    "### Verificando a performance do Classificador\n",
    "\n",
    "Agora você deve testar o seu classificador com a base de Testes."
   ]
  },
  {
   "cell_type": "code",
   "execution_count": 34,
   "metadata": {},
   "outputs": [
    {
     "data": {
      "text/plain": [
       "0    0.67\n",
       "1    0.33\n",
       "Name: classificacao_modelo, dtype: float64"
      ]
     },
     "execution_count": 34,
     "metadata": {},
     "output_type": "execute_result"
    }
   ],
   "source": [
    "#Ver qual foi a distribuição do modelo\n",
    "test[\"classificacao_modelo\"].value_counts(True)"
   ]
  },
  {
   "cell_type": "code",
   "execution_count": 35,
   "metadata": {},
   "outputs": [
    {
     "data": {
      "text/plain": [
       "0    0.713333\n",
       "1    0.286667\n",
       "Name: Classificacao_Teste, dtype: float64"
      ]
     },
     "execution_count": 35,
     "metadata": {},
     "output_type": "execute_result"
    }
   ],
   "source": [
    "#Ver a distribuição que colocamos\n",
    "test[\"Classificacao_Teste\"].value_counts(True)"
   ]
  },
  {
   "cell_type": "markdown",
   "metadata": {},
   "source": [
    "### Porcentagem de erros e acertos:"
   ]
  },
  {
   "cell_type": "code",
   "execution_count": 36,
   "metadata": {},
   "outputs": [
    {
     "data": {
      "text/html": [
       "<div>\n",
       "<style scoped>\n",
       "    .dataframe tbody tr th:only-of-type {\n",
       "        vertical-align: middle;\n",
       "    }\n",
       "\n",
       "    .dataframe tbody tr th {\n",
       "        vertical-align: top;\n",
       "    }\n",
       "\n",
       "    .dataframe thead th {\n",
       "        text-align: right;\n",
       "    }\n",
       "</style>\n",
       "<table border=\"1\" class=\"dataframe\">\n",
       "  <thead>\n",
       "    <tr style=\"text-align: right;\">\n",
       "      <th>classificacao_modelo</th>\n",
       "      <th>0</th>\n",
       "      <th>1</th>\n",
       "    </tr>\n",
       "    <tr>\n",
       "      <th>Classificacao_Teste</th>\n",
       "      <th></th>\n",
       "      <th></th>\n",
       "    </tr>\n",
       "  </thead>\n",
       "  <tbody>\n",
       "    <tr>\n",
       "      <td>0</td>\n",
       "      <td>55.0</td>\n",
       "      <td>16.333333</td>\n",
       "    </tr>\n",
       "    <tr>\n",
       "      <td>1</td>\n",
       "      <td>12.0</td>\n",
       "      <td>16.666667</td>\n",
       "    </tr>\n",
       "  </tbody>\n",
       "</table>\n",
       "</div>"
      ],
      "text/plain": [
       "classificacao_modelo     0          1\n",
       "Classificacao_Teste                  \n",
       "0                     55.0  16.333333\n",
       "1                     12.0  16.666667"
      ]
     },
     "execution_count": 36,
     "metadata": {},
     "output_type": "execute_result"
    }
   ],
   "source": [
    "#Matriz de confusão--Pesquisar\n",
    "mat_porcentagem=pd.crosstab(test.Classificacao_Teste, test.classificacao_modelo, normalize=True)*100 #Multiplicar po 100 porque é porcentagem!\n",
    "mat_porcentagem"
   ]
  },
  {
   "cell_type": "markdown",
   "metadata": {},
   "source": [
    "### Acurácia:"
   ]
  },
  {
   "cell_type": "code",
   "execution_count": 37,
   "metadata": {},
   "outputs": [
    {
     "data": {
      "text/plain": [
       "71.66666666666667"
      ]
     },
     "execution_count": 37,
     "metadata": {},
     "output_type": "execute_result"
    }
   ],
   "source": [
    "#Será aquelas em que ambos marcaram 0 e 1:\n",
    "acuracia= mat_porcentagem[0][0]+mat_porcentagem[1][1]  #Coluna/ linha\n",
    "acuracia"
   ]
  },
  {
   "cell_type": "markdown",
   "metadata": {},
   "source": [
    "___\n",
    "### Concluindo"
   ]
  },
  {
   "cell_type": "markdown",
   "metadata": {},
   "source": [
    "### Sobre a performance:"
   ]
  },
  {
   "cell_type": "markdown",
   "metadata": {},
   "source": [
    "###### Concluindo: \n",
    "A performance do classificador Naïve Bayes construído foi mediana, com 71.67% de acurácia, 16.33% de falsos negativos e 12% de falsos negativos, sendo assim considerado levemente satisfatório. Podemos concluir tambem que a base de dados utilizada poderia ser melhor se buscada em outros locais como sites de reviews, por se tratar de um ambiente unicamente utilizado com a função de dar feedback sobre a experiência do usuário com o produto adquirido. Informações relevantes foram obtidas a partir da pesquisa, como durabilidade e preço do produto, facilidade de se perder um dos fones ou a case e a recorrência de problemas quanto à qualidade do mesmo. É importante ressaltar novamente que o Twitter não é a melhor rede social para buscar tais feedbacks para os produtos, devido à grande quantidade de informações irrelevantes, como frases sem sentido, em outro idioma ou se referindo à produtos falsificados.\n",
    "O projeto em questão deve continuar sendo financiado pela *Apple.inc* a fim de coletar dados de feedback de lançamentos e produtos já lançados em busca de futuras melhorias e de manter o que já é bem aceito pelo público consumidor, buscando compreender a forma que os produtos impactam os sentimentos do público. \n",
    "Mensagens com conteúdo sarcástico são analisadas ao pé da letra pelo classificador, dado que ele considera todas as palavras de um tweet de forma independente umas das outras. Já mensagens com dupla negação são consideradas de forma negativa, pois cada palavra é considerada de forma independente do restante da frase."
   ]
  },
  {
   "cell_type": "markdown",
   "metadata": {},
   "source": [
    "___\n",
    "### Qualidade do Classificador a partir de novas separações dos tweets entre Treinamento e Teste:\n",
    "\n"
   ]
  },
  {
   "cell_type": "code",
   "execution_count": 38,
   "metadata": {},
   "outputs": [],
   "source": [
    "def classificador_suavizado_geral(tweet):\n",
    "    prob_relevante=1\n",
    "    prob_irrelevante=1\n",
    "    alpha= 1\n",
    "    lista_palavras = tweet.split()\n",
    "    for palavra in lista_palavras:\n",
    "        \n",
    "        #Como vimos que, quando o termo não existia na lista, dava erro pois não se igualava à zero automaticamente:\n",
    "        if palavra not in train_r_l:\n",
    "              train_r_abs[palavra]=0\n",
    "        \n",
    "        elif palavra not in train_i_l:\n",
    "              train_i_abs[palavra]=0\n",
    "            \n",
    "        if palavra in train_i_l and palavra in train_r_l:\n",
    "            prob_relevante*= (train_r_abs[palavra]+1)/ (Nr+D)\n",
    "            prob_irrelevante*= (train_i_abs[palavra]+1)/ (Ni+D)\n",
    "        \n",
    "    #Em vez do que está abaixo, acrescentar em uma coluna nova a classficação feita pela maquina (Para comparar posteriormente com a nossa feita à mão)\n",
    "    if prob_relevante>prob_irrelevante:\n",
    "        return 1\n",
    "    else:\n",
    "        return 0"
   ]
  },
  {
   "cell_type": "code",
   "execution_count": 39,
   "metadata": {},
   "outputs": [],
   "source": [
    "testcopy= test.drop([\"classificacao_modelo\"], axis=1)\n",
    "testcopy= testcopy.rename(columns={\"Teste\": \"Treinamento\", \"Classificacao_Teste\": \"Classificacao_Treino\"})\n",
    "traincopy= train.copy()\n",
    "novoframe= pd.concat([traincopy, testcopy], ignore_index=True)"
   ]
  },
  {
   "cell_type": "code",
   "execution_count": 41,
   "metadata": {},
   "outputs": [],
   "source": [
    "all_i = novoframe.loc[novoframe[\"Classificacao_Treino\"] == 0 , :].copy()\n",
    "all_i[\"Treinamento\"] = all_i.loc[:, 'Treinamento'].apply(cleanup_links).apply(cleanup)\n",
    "\n",
    "all_r = novoframe.loc[novoframe[\"Classificacao_Treino\"] == 1, :].copy()\n",
    "all_r[\"Treinamento\"] = all_r.loc[: , \"Treinamento\"].apply(cleanup_links).apply(cleanup)"
   ]
  },
  {
   "cell_type": "code",
   "execution_count": 42,
   "metadata": {},
   "outputs": [],
   "source": [
    "from sklearn.model_selection import train_test_split\n",
    "def dividir(all_i, all_r):\n",
    "    #Separar aleatoriamente as listas- USO DE SPLIT SKLEARN\n",
    "    test_random_i, train_random_i=train_test_split(all_i, test_size=0.33,  train_size=1-0.33, shuffle=True)     \n",
    "    test_random_r, train_random_r=train_test_split(all_r, test_size=0.33,  train_size=1-0.33, shuffle=True) \n",
    "    todos= [test_random_r, train_random_r, test_random_i, train_random_i]\n",
    "    return  todos"
   ]
  },
  {
   "cell_type": "code",
<<<<<<< HEAD
   "execution_count": 59,
=======
   "execution_count": 266,
>>>>>>> 05fc7d9b5385dd728905ebeffe6f8b5922f8e574
   "metadata": {},
   "outputs": [],
   "source": [
    "acertos_lista=[]\n",
    "erros_lista=[]\n",
    "\n",
    "for i in range (1,101): \n",
    "    lista_randomizada= dividir(all_i, all_r)\n",
    "    test_random_r= lista_randomizada[0]\n",
    "    train_random_r= lista_randomizada[1]\n",
    "    test_random_i= lista_randomizada[2]\n",
    "    train_random_i=lista_randomizada[3]\n",
    "    #print(train_random_i)\n",
    "    \n",
    "    test_random=pd.concat([test_random_i,test_random_r],ignore_index=True)\n",
    "    train_random=pd.concat([train_random_i,train_random_r],ignore_index=True)\n",
    "    #print(train_random)\n",
    "    \n",
    "    train_random_i_lower = train_random_i[\"Treinamento\"].str.lower()\n",
    "    train_random_i_split=train_random_i_lower.str.split()\n",
    "    train_random_i_clean = train_random_i_split.apply(stopwords_funcao)\n",
    "    #print(train_random_i_clean)\n",
    "    \n",
    "    train_random_r_lower = train_random_r[\"Treinamento\"].str.lower()\n",
    "    train_random_r_split= train_random_r_lower.str.split()\n",
    "    train_random_r_clean = train_random_r_split.apply(stopwords_funcao)\n",
    "    #print(train_random_r_clean)\n",
    "    \n",
    "    train_r_l=[]\n",
    "    train_i_l=[]\n",
    "    \n",
    "    for palavras in train_random_r_clean:\n",
    "        train_r_l += palavras\n",
    "    for palavras in train_random_i_clean:\n",
    "        train_i_l += palavras\n",
    "        \n",
    "    serie_train_r = pd.Series(train_r_l)\n",
    "    serie_train_i = pd.Series(train_i_l)\n",
    "    #print(serie_train_r)\n",
    "    \n",
    "    train_i_abs=serie_train_i.value_counts()\n",
    "    train_r_abs=serie_train_r.value_counts()\n",
    "    #print(train_r_abs)\n",
    "    \n",
    "    Nr= len(train_r_l)\n",
    "    Ni= len(train_i_l)\n",
    "    #print(Ni)\n",
    "    \n",
    "    #Aplicar função:\n",
    "    test_random[\"classificacao_modelo\"]= test_random[\"Treinamento\"].apply(classificador_suavizado_geral)\n",
    "    #print(test_random[\"classificacao_modelo\"])\n",
    "    \n",
    "    #Retornar\n",
    "    mat_porcentagem01=pd.crosstab(test_random.Classificacao_Treino, test_random.classificacao_modelo, normalize=True)*100 \n",
    "    acertos= mat_porcentagem01[1][1] + mat_porcentagem[0][0]\n",
    "    erros= 100-acertos\n",
    "    #print(erros)\n",
    "    \n",
    "    #Listas para o histograma\n",
    "    acertos_lista.append(acertos)\n",
    "    erros_lista.append(erros)\n",
<<<<<<< HEAD
    "    "
=======
    "    print(i)"
>>>>>>> 05fc7d9b5385dd728905ebeffe6f8b5922f8e574
   ]
  },
  {
   "cell_type": "markdown",
   "metadata": {},
   "source": [
    "## Construindo o histograma da qualidade do classificador:"
   ]
  },
  {
   "cell_type": "code",
   "execution_count": 45,
   "metadata": {},
   "outputs": [
    {
     "name": "stdout",
     "output_type": "stream",
     "text": [
      "100.0\n"
     ]
    },
    {
     "data": {
      "text/plain": [
       "Text(0, 0.5, 'Densidade')"
      ]
     },
     "execution_count": 45,
     "metadata": {},
     "output_type": "execute_result"
    },
    {
     "data": {
      "image/png": "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\n",
      "text/plain": [
       "<Figure size 1080x360 with 2 Axes>"
      ]
     },
     "metadata": {
      "needs_background": "light"
     },
     "output_type": "display_data"
    }
   ],
   "source": [
    "plt.figure(figsize=(15, 5))\n",
    "\n",
    "print(acertos_lista[0]+erros_lista[0])\n",
    "\n",
    "plt.subplot(121) \n",
    "plt.hist(erros_lista, edgecolor='white', color='red',density=True)\n",
    "plt.title('Porcentagem de erros')\n",
    "plt.ylabel('Densidade')\n",
    "\n",
    "plt.subplot(122) \n",
    "plt.hist(acertos_lista , edgecolor='white', color=\"green\",density=True)\n",
    "plt.title('Porcentagem de acertos')\n",
    "plt.ylabel('Densidade')"
   ]
  },
  {
   "cell_type": "markdown",
   "metadata": {},
   "source": [
    "Feito isso, podemos observar a partir dos histogramas construídos que uma classificação única não é recomendável, uma vez que é possivel observar uma flutuação nas porcentagens de erros-acertos. Portanto, esse processo de randomização e classificação feito várias vezes nos permite observar uma abrangência maior da acurácia do classificador. Quanto mais repetições houver nesse processo, melhor."
   ]
  },
  {
   "cell_type": "markdown",
   "metadata": {},
   "source": [
    "# • Diferentes cenários para a aplicação de Naïve Bayes: #"
   ]
  },
  {
   "cell_type": "markdown",
   "metadata": {},
   "source": [
    "• Naive Bayes pode ser implementado quando há a necessidade de se diferenciar e-mails comuns, e-mails com assuntos voltados a business, e-mails voltados a notícias ou e-mails que são SPAM. \n",
    "\n",
    "• Utilizar Naive Bayes para se ter um panorama da probabilidade de contágio ou não-contágio de pessoas expostas ao coronavírus, baseando-se em características fisiológicas de cada uma, por exemplo.\n",
    " \n",
    "• Classificar a faixa etária de um público com base no vocabulário e abreviações utilizadas nas redes sociais.\n"
   ]
  },
  {
   "cell_type": "markdown",
   "metadata": {},
   "source": [
    "# • Por quê não se pode usar o classificador para gerar mais amostras?"
   ]
  },
  {
   "cell_type": "markdown",
   "metadata": {},
   "source": [
    "• Não se pode usar o classificador para gerar mais amostras de treinamento pois recai em um ponto não desejado em uma análise de probabilidades: Enviezar a pesquisa. A base de treinamento é elaborada da forma mais confiável possível, nesse caso, elaborada diretamente por seres humanos, que conseguem, a partir de sua interpretação de cada amostra, mostrar exatamentente quais são as informações relevantes ou não.\n",
    "\n",
    "  Quando se trata do classificador já é implementada a noção de probabilidade, o que já abre espaço para erros. Dessa forma, usando o classificador para gerar mais amostras leva a conclusão de que as classificações incorretas, que podem ser cometidas, serão perpetuadas por todos os futuros processos com a ferramenta.\n",
    " "
   ]
  },
  {
   "cell_type": "markdown",
   "metadata": {},
   "source": [
    "# • Sugestão e implementação de melhorias no classificador:"
   ]
  },
  {
   "cell_type": "markdown",
   "metadata": {},
   "source": [
    "* Utilizar mais fontes dos comentários (Youtube, facebook, instagram...) E comparar para descobrir qual fonte apresenta uma possibiidade maior de oferecer comentarios relevantes. Utilizar funções diferentes do pandas, pois cada plataforma possui um tipo de renderização diferente. (Para o YouTube, por exemplo, o selenium seria a biblioteca mais indicada)\n",
    "\n",
    "* Na função de limpeza stopwords acrescentar as abreviações mais comuns do português nas redes sociais. Com a função .extend do stopwords é possivel criar uma lista de palavras novas a serem retiradas do texto alvo.\n",
    "\n",
    "\n",
<<<<<<< HEAD
    "\n",
    "Material utilizado para pesquisa:\n",
    "* https://www.projectpro.io/recipes/add-custom-stopwords-and-then-remove-them-from-text\n",
    "\n",
    "* https://towardsdatascience.com/how-to-scrape-youtube-comments-with-python-61ff197115d4"
=======
    "Em conjunto com a limpeza citada anteriormente, um modo em que o computador considere palavras/frases iguais em ambas as formas: Abreviada e por extenso. Exemplo: \"mto\" == \"muito\" ; \"vdc\" == \"Vai dar certo\".\n",
    "\n",
    "Trazer sinônimos de gírias para ser útil ao classificador (Melhorando sua acurácia)."
>>>>>>> 05fc7d9b5385dd728905ebeffe6f8b5922f8e574
   ]
  },
  {
   "cell_type": "markdown",
   "metadata": {},
   "source": [
    "___\n",
    "## Aperfeiçoamento:\n",
    "\n",
    "Trabalhos que conseguirem pelo menos conceito B vão evoluir em conceito dependendo da quantidade de itens avançados:\n",
    "\n",
    "* IMPLEMENTOU outras limpezas e transformações que não afetem a qualidade da informação contida nos tweets. Ex: stemming, lemmatization, stopwords\n",
    "\n",
    "* PROPÔS diferentes cenários para Naïve Bayes fora do contexto do projeto\n",
    "\n",
    "* CORRIGIU separação de espaços entre palavras e emojis ou entre emojis e emojis\n",
    "\n",
    "* EXPLICOU porquê não pode usar o próprio classificador para gerar mais amostras de treinamento\n",
    "\n",
    "* FEZ o item 6. Qualidade do Classificador a partir de novas separações dos tweets entre Treinamento e Teste descrito no enunciado do projeto (OBRIGATÓRIO para conceitos A ou A+)\n",
    "\n",
    "* SUGERIU e EXPLICOU melhorias reais com indicações concretas de como implementar (indicar como fazer e indicar material de pesquisa)\n",
    "_____________________________________________________________________________________________________________________\n",
    "* CRIOU categorias intermediárias de relevância baseadas na probabilidade: ex.: muito relevante, relevante, neutro, irrelevante, muito irrelevante. Pelo menos quatro categorias, com adição de mais tweets na base, conforme enunciado. (OBRIGATÓRIO PARA TRIOS, sem contar como item avançado)\n",
    "\n"
   ]
  },
  {
   "cell_type": "markdown",
   "metadata": {},
   "source": [
    "___\n",
    "## Referências"
   ]
  },
  {
   "cell_type": "markdown",
   "metadata": {},
   "source": [
    "[Naive Bayes and Text Classification](https://arxiv.org/pdf/1410.5329.pdf)  **Mais completo**\n",
    "\n",
    "[A practical explanation of a Naive Bayes Classifier](https://monkeylearn.com/blog/practical-explanation-naive-bayes-classifier/) **Mais simples**"
   ]
  }
 ],
 "metadata": {
  "kernelspec": {
   "display_name": "Python 3",
   "language": "python",
   "name": "python3"
  },
  "language_info": {
   "codemirror_mode": {
    "name": "ipython",
    "version": 3
   },
   "file_extension": ".py",
   "mimetype": "text/x-python",
   "name": "python",
   "nbconvert_exporter": "python",
   "pygments_lexer": "ipython3",
   "version": "3.7.4"
  }
 },
 "nbformat": 4,
 "nbformat_minor": 4
}
